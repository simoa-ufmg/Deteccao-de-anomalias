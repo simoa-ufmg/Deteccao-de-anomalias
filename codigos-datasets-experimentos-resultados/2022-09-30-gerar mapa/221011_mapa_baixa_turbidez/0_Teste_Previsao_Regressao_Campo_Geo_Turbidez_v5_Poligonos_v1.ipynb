{
 "cells": [
  {
   "cell_type": "code",
   "execution_count": null,
   "metadata": {},
   "outputs": [],
   "source": [
    "import pandas as pd\n",
    "import numpy as np\n",
    "import statsmodels.formula.api as sm\n",
    "import matplotlib.pyplot as plt\n",
    "from matplotlib.pylab import rcParams\n",
    "rcParams['figure.figsize'] = 15, 6\n",
    "import seaborn as sns\n",
    "from sklearn.linear_model import LinearRegression\n",
    "from sklearn.metrics import confusion_matrix, accuracy_score, classification_report\n",
    "from sklearn.model_selection import train_test_split\n",
    "from sklearn.preprocessing import StandardScaler\n",
    "from sklearn.metrics import explained_variance_score as exv, mean_absolute_error, mean_squared_error, r2_score#, mean_absolute_percentage_error as mape\n",
    "from sklearn.tree import DecisionTreeRegressor\n",
    "from keras.models import Sequential\n",
    "from keras.layers import Dense, Dropout\n",
    "import tensorflow as tf\n",
    "from tensorflow import keras\n",
    "from tensorflow.keras import layers\n",
    "#from autokeras import StructuredDataRegressor\n",
    "from keras.models import load_model\n",
    "#import h2o\n",
    "#from h2o.automl import H2OAutoML\n",
    "#from h2o.estimators.glm import H2OGeneralizedLinearEstimator\n",
    "import tkinter as tk\n",
    "from tkinter import filedialog\n",
    "import os\n",
    "#import pywedge as pw\n",
    "from sklearn.model_selection import KFold\n",
    "\n",
    "from IPython.display import clear_output\n",
    "\n",
    "from sklearn.ensemble import ExtraTreesRegressor\n",
    "from sklearn.ensemble import RandomForestRegressor as rfr\n",
    "from sklearn.ensemble import AdaBoostRegressor as ABR\n",
    "\n",
    "import xgboost as xgb\n",
    "\n",
    "from sklearn import linear_model\n",
    "from sklearn.linear_model import Ridge\n",
    "from sklearn.linear_model import ElasticNetCV\n",
    "\n",
    "from sklearn.svm import SVR\n",
    "\n",
    "from sklearn import neighbors\n",
    "\n",
    "from sklearn.metrics import mean_squared_error \n",
    "\n",
    "from math import sqrt\n",
    "\n",
    "from keras.callbacks import EarlyStopping\n",
    "\n",
    "from datetime import date\n",
    "\n",
    "#%matplotlib inline\n",
    "\n",
    "from sklearn.metrics import mean_absolute_percentage_error as mape\n",
    "\n",
    "import statistics\n",
    "\n",
    "import time\n",
    "\n",
    "\n",
    "from sklearn import linear_model\n",
    "\n",
    "from sklearn.linear_model import HuberRegressor\n",
    "\n",
    "from sklearn.linear_model import OrthogonalMatchingPursuit\n",
    "\n",
    "from sklearn.gaussian_process import GaussianProcessRegressor\n",
    "\n",
    "from sklearn.gaussian_process.kernels import DotProduct, WhiteKernel\n",
    "\n",
    "from sklearn.linear_model import PassiveAggressiveRegressor\n",
    "\n",
    "from sklearn.experimental import enable_hist_gradient_boosting\n",
    "from sklearn.ensemble import HistGradientBoostingRegressor\n",
    "\n",
    "from statsmodels.stats.outliers_influence import variance_inflation_factor\n",
    "\n",
    "\n",
    "from sklearn.pipeline import make_pipeline, make_union\n",
    "from tpot.builtins import StackingEstimator\n",
    "from tpot.export_utils import set_param_recursive"
   ]
  },
  {
   "cell_type": "code",
   "execution_count": null,
   "metadata": {},
   "outputs": [],
   "source": [
    "# Variáveis\n",
    "\n",
    "# Conjunto de Dados\n",
    "dominio = 'Campo'\n",
    "alvo = 'Campo'\n",
    "\n",
    "global method\n",
    "method = 'Vazio'"
   ]
  },
  {
   "cell_type": "code",
   "execution_count": null,
   "metadata": {},
   "outputs": [],
   "source": [
    "# Função de Cálculo de Métricas dos Modelos de Regressão\n",
    "\n",
    "def metricas(y_test, y_pred):\n",
    "    global R2\n",
    "    R2 = r2_score(y_test,y_pred)\n",
    "    global MSE\n",
    "    MSE = mean_squared_error(y_test,y_pred)\n",
    "    global RMSE\n",
    "    RMSE = MSE**0.5\n",
    "    global MAE\n",
    "    MAE = mean_absolute_error(y_test,y_pred)\n",
    "    global MAPE\n",
    "    MAPE = mape(y_test, y_pred)\n",
    "    #MAPE = np.mean(np.abs(percentage_error(np.asarray(y_test), np.asarray(y_pred)))) * 100\n",
    "    #y_test, y_pred = np.array(y_test), np.array(y_pred)\n",
    "    #MAPE =  np.mean(np.abs((y_true - y_pred) / y_true)) * 100\n",
    "    \n",
    "    print('Method: ', method)\n",
    "    print(\"R2 = \", R2)\n",
    "    print(\"MSE = \", MSE)\n",
    "    print(\"RMSE = \", RMSE)\n",
    "    print(\"MAE = \", MAE)\n",
    "    print(\"MAPE = \", MAPE)"
   ]
  },
  {
   "cell_type": "code",
   "execution_count": null,
   "metadata": {},
   "outputs": [],
   "source": [
    "# Abre arquivo com base de dados\n",
    "root = tk.Tk()\n",
    "#root.withdraw() \n",
    "arquivo = filedialog.askopenfilename()\n",
    "root.update()\n",
    "root.destroy()\n",
    "print(arquivo)"
   ]
  },
  {
   "cell_type": "code",
   "execution_count": null,
   "metadata": {},
   "outputs": [],
   "source": []
  },
  {
   "cell_type": "code",
   "execution_count": null,
   "metadata": {},
   "outputs": [],
   "source": [
    "# Pegando o nome do arquivo\n",
    "nome_arquivo = next(iter(arquivo))\n",
    "nome_arquivo = str(arquivo)\n",
    "nome_arquivo"
   ]
  },
  {
   "cell_type": "code",
   "execution_count": null,
   "metadata": {},
   "outputs": [],
   "source": []
  },
  {
   "cell_type": "code",
   "execution_count": null,
   "metadata": {},
   "outputs": [],
   "source": [
    "# Lê arquivo e ajusta nome da coluna: pode ser formato Xls ou csv\n",
    "\n",
    "if nome_arquivo.split('.')[1] == 'xlsx' or nome_arquivo.split('.')[1] == 'xls':\n",
    "    dados = pd.read_excel(nome_arquivo)\n",
    "    #dados.to_csv(str(nome_arquivo.split('.')[0] + '.csv'))\n",
    "\n",
    "elif nome_arquivo.split('.')[1] == 'csv':\n",
    "    dados = pd.read_csv(nome_arquivo, sep=',')\n",
    "\n",
    "else:\n",
    "    print('Formato de arquivo inválido! Utilize arquivo nos formatos .xlsx, .xls ou .csv')\n",
    "\n",
    "\n",
    "dados.columns = map(lambda x: str(x).upper(), dados.columns)\n",
    "\n",
    "dados.head(5)"
   ]
  },
  {
   "cell_type": "code",
   "execution_count": null,
   "metadata": {},
   "outputs": [],
   "source": [
    "# Ajustando nome de colunas\n",
    "dados.rename(columns = {'B1': 'BAND_1',\n",
    "                                 'B2': 'BAND_2',\n",
    "                                 'B3': 'BAND_3',\n",
    "                                 'B4': 'BAND_4',\n",
    "                                 'B5': 'BAND_5',\n",
    "                                 'B6': 'BAND_6',\n",
    "                                 'B7': 'BAND_7',\n",
    "                                 'B8': 'BAND_8',\n",
    "                                 'B8A': 'BAND_8A',\n",
    "                                 'B9': 'BAND_9',\n",
    "                                 'B11': 'BAND_11',\n",
    "                                 'B12': 'BAND_12',\n",
    "                        'NUVEM_SOMBRA': 'NUVEM_SOMB',\n",
    "                        'CONDUTIVIDADE': 'CONDUTIV'\n",
    "                                 },\n",
    "                      inplace=True)"
   ]
  },
  {
   "cell_type": "code",
   "execution_count": null,
   "metadata": {},
   "outputs": [],
   "source": []
  },
  {
   "cell_type": "code",
   "execution_count": null,
   "metadata": {},
   "outputs": [],
   "source": []
  },
  {
   "cell_type": "code",
   "execution_count": null,
   "metadata": {},
   "outputs": [],
   "source": []
  },
  {
   "cell_type": "code",
   "execution_count": null,
   "metadata": {},
   "outputs": [],
   "source": [
    "# CALCULO DE ÍNDICES ESCECTRAIS PARA COMPOR 12 (bandas) VARIÁVEIS DE ENTRADA"
   ]
  },
  {
   "cell_type": "code",
   "execution_count": null,
   "metadata": {},
   "outputs": [],
   "source": [
    "# NDWI - Cálculo\n",
    "# Sentinel-2 NDWI = (B03 - B08) / (B03 + B08)\n",
    "dados['NDWI'] = (dados['BAND_3'] - dados['BAND_8']) / (dados['BAND_3'] + dados['BAND_8'])\n",
    "\n",
    "# -----------------------\n",
    "\n",
    "# MNDWI\n",
    "# Sentinel-2 MNDWI = (B03 - B11) / (B03 + B11)\n",
    "dados['M_NDWI'] = (dados['BAND_3'] - dados['BAND_11']) / (dados['BAND_3'] + dados['BAND_11'])\n",
    "\n",
    "# -----------------------\n",
    "\n",
    "# SWI - Cálculo\n",
    "# Sentinel-2 SWI = (B05 - B11) / (B05 + B11)\n",
    "dados['SWI'] = (dados['BAND_5'] - dados['BAND_11']) / (dados['BAND_5'] + dados['BAND_11'])\n",
    "\n",
    "# -----------------------\n",
    "\n",
    "# MCARI (Modified Chlorophyll Absorption in Reflectance Index)\n",
    "##// Modified Chlorophyll Absorption in Reflectance Index   (abbrv. MCARI)\n",
    "##// General formula: ((700nm - 670nm) - 0.2 * (700nm - 550nm)) * (700nm /670nm)\n",
    "##// URL https://www.indexdatabase.de/db/si-single.php?sensor_id=96&rsindex_id=41\n",
    "#let index = ((B05 - B04) - 0.2 * (B05 - B03)) * (B05 / B04);\n",
    "dados['MCARI'] = ((dados['BAND_5'] - dados['BAND_4']) - 0.2 * (dados['BAND_5'] - dados['BAND_3'])) * (dados['BAND_5'] / dados['BAND_4'])\n",
    "\n",
    "# -----------------------\n",
    "\n",
    "# NDVI\n",
    "# Sentinel-2 MDVI = (B08 - B04) / (B08 + B04)\n",
    "dados['NDVI'] = (dados['BAND_8'] - dados['BAND_4']) / (dados['BAND_8'] + dados['BAND_4'])\n",
    "\n",
    "# -----------------------\n",
    "\n",
    "# NBSI\n",
    "# Non-Binary Snow Index for Multi-Component Surfaces\n",
    "#NBSI = ((sample.B11 + sample.B04) - (sample.B08 + sample.B02)) / ((sample.B11 + sample.B04) + (sample.B08 + sample.B02))\n",
    "dados['NBSI'] = ((dados['BAND_11'] + dados['BAND_4']) - (dados['BAND_8'] + dados['BAND_2'])) / ((dados['BAND_11'] + dados['BAND_4']) + (dados['BAND_8'] + dados['BAND_2']))\n",
    "\n",
    "# ---------------------------\n",
    "\n",
    "#Aquatic Plants and Algae Custom Script Detector (APA Script)\n",
    "##indices to apply a mask to water bodies\n",
    "## moisture = (B8A-B11)/(B8A+B11); \n",
    "## NDWI = (B03 - B08)/(B03 + B08);\n",
    "## water_bodies = (NDWI-moisture)/(NDWI+moisture);\n",
    "dados['MOISTURE'] = (dados['BAND_8A'] - dados['BAND_11']) / (dados['BAND_8A'] + dados['BAND_11'])\n",
    "dados['WATER_BODIES'] = (dados['NDWI'] - dados['MOISTURE']) / (dados['NDWI'] + dados['MOISTURE'])\n",
    "\n",
    "# ----------------------\n",
    "\n",
    "#indices to identify water plants and algae\n",
    "\n",
    "# water_plants = (B05 - B04)/(B05 + B04);\n",
    "# NIR2 = B04 + (B11 - B04)*((832,8 - 664,6)/(1613,7 - 664,6));\n",
    "# FAI = B08 - NIR2;\n",
    "dados['WATER_PLANTS'] = (dados['BAND_5'] - dados['BAND_4']) / (dados['BAND_5'] + dados['BAND_4'])\n",
    "\n",
    "# --------------------\n",
    "\n",
    "dados.head()"
   ]
  },
  {
   "cell_type": "code",
   "execution_count": null,
   "metadata": {},
   "outputs": [],
   "source": []
  },
  {
   "cell_type": "code",
   "execution_count": null,
   "metadata": {},
   "outputs": [],
   "source": []
  },
  {
   "cell_type": "code",
   "execution_count": null,
   "metadata": {},
   "outputs": [],
   "source": []
  },
  {
   "cell_type": "code",
   "execution_count": null,
   "metadata": {},
   "outputs": [],
   "source": [
    "# Verificação de Nuvens"
   ]
  },
  {
   "cell_type": "code",
   "execution_count": null,
   "metadata": {},
   "outputs": [],
   "source": [
    "# Dados Relacionado à Probabilidade de Nuvens\n",
    "#dados['MSK_CLDPRB'].value_counts(1) # Percentual"
   ]
  },
  {
   "cell_type": "code",
   "execution_count": null,
   "metadata": {},
   "outputs": [],
   "source": [
    "# Dados Relacionado à Probabilidade de Nuvens\n",
    "#dados['QA60'].value_counts(1)"
   ]
  },
  {
   "cell_type": "code",
   "execution_count": null,
   "metadata": {},
   "outputs": [],
   "source": [
    "#dados[(dados['MSK_CLDPRB']<=0.0) & (dados['QA60']<=0)]\n",
    "#dados[(dados['MSK_CLDPRB']<=0.0) | (dados['QA60']<=0)]\n",
    "#dados[(dados['MSK_CLDPRB']>0) & (dados['QA60']==0)]"
   ]
  },
  {
   "cell_type": "code",
   "execution_count": null,
   "metadata": {},
   "outputs": [],
   "source": [
    "#Filtros Limite de Valores Relacionados a Nuvens\n",
    "\n",
    "print('Quer utilizar TODOS os DADOS disponíveis (SEM FILTRO DE NUVENS?)')\n",
    "print('Digite 1 para SIM ou 0 para NÃO')\n",
    "usar_todos_dados = int(input())\n",
    "\n",
    "if usar_todos_dados==0:\n",
    "    #print('Digite o Valor Limite da Probabilidade de Nuvem Aceitável (Valor Real. Exemplo: 10.00)')\n",
    "    #valor_limite_probabilidade = float(input())\n",
    "\n",
    "    #print('Intevelo de Dias entre a Passagem do Satélite e a Data de Coleta (inteiro)')\n",
    "    #valor_QA60 = 1024.00\n",
    "\n",
    "    #dados_filtrado = dados[(dados['MSK_CLDPRB']<=valor_limite_probabilidade) & (dados['QA60']<valor_limite_probabilidade)]\n",
    "    #dados_filtrado = dados[(dados['MSK_CLDPRB']<=0.0) & (dados['QA60']<1024)]\n",
    "    # dados_filtrado = dados[(dados['MSK_CLDPRB']<=0.0) & (dados['QA60']<=0)]\n",
    "    dados_filtrado = dados[(dados['MSK_CLDPRB']<=0.0) & (dados['QA60']<=0) & (dados['NUVEM_SOMB'] != 'CLOUD')]\n",
    "else:    \n",
    "    dados_filtrado = dados.copy()\n",
    "\n",
    "\n",
    "#dados_filtrado.head()\n",
    "print(f'*Quantidade de Dados Disponíveis Após Aplicação do Filtro de Nuvens: {dados_filtrado.shape[0]}')"
   ]
  },
  {
   "cell_type": "code",
   "execution_count": null,
   "metadata": {},
   "outputs": [],
   "source": [
    "#dados[(dados['MSK_CLDPRB']<=0.0) | (dados['QA60']<=0)]\n",
    "dados[(dados['MSK_CLDPRB']<=0.0) & (dados['QA60']<=0) & (dados['NUVEM_SOMB'] != 'CLOUD')]"
   ]
  },
  {
   "cell_type": "code",
   "execution_count": null,
   "metadata": {},
   "outputs": [],
   "source": []
  },
  {
   "cell_type": "code",
   "execution_count": null,
   "metadata": {},
   "outputs": [],
   "source": [
    "# Selecionando a Variável / Parâmetro de Interesse"
   ]
  },
  {
   "cell_type": "code",
   "execution_count": null,
   "metadata": {},
   "outputs": [],
   "source": [
    "lista_colunas = list(dados_filtrado.columns)\n",
    "print(dados_filtrado.columns)"
   ]
  },
  {
   "cell_type": "code",
   "execution_count": null,
   "metadata": {},
   "outputs": [],
   "source": [
    "lista_colunas_variaveis = list(dados_filtrado.columns[6:13])\n",
    "lista_colunas_variaveis"
   ]
  },
  {
   "cell_type": "code",
   "execution_count": null,
   "metadata": {},
   "outputs": [],
   "source": [
    "print('Selecione a variável de interesse: ')\n",
    "opcoes = [\"TURBIDEZ\", \"CHL\", \"SECCHI\", \"PH\", \"OD\", \"CONDUTIVID\", \"ORP\"]\n",
    "\n",
    "for i in range(len(opcoes)):\n",
    "    print(str(i+1) + \":\", opcoes[i])\n",
    "\n",
    "# Loop para verificação da opção selecionada\n",
    "inp = int(input(\"Digite o número correspondente à variável: \"))\n",
    "if inp in range(1,8):\n",
    "    inp = opcoes[inp-1]\n",
    "    print('Variável selecionada: ', inp)\n",
    "else:\n",
    "    print(\"Entrada inválida!\")\n",
    "\n",
    "variavel_interesse = str(inp)\n",
    "variavel_interesse"
   ]
  },
  {
   "cell_type": "code",
   "execution_count": null,
   "metadata": {},
   "outputs": [],
   "source": []
  },
  {
   "cell_type": "code",
   "execution_count": null,
   "metadata": {},
   "outputs": [],
   "source": [
    "# Colunas de variáveis a serem removidas\n",
    "lista_colunas_variaveis.remove(str(variavel_interesse))\n",
    "lista_colunas_variaveis"
   ]
  },
  {
   "cell_type": "code",
   "execution_count": null,
   "metadata": {},
   "outputs": [],
   "source": [
    "dados_filtrado.drop(lista_colunas_variaveis, axis=1, inplace = True)\n",
    "dados_filtrado.head()"
   ]
  },
  {
   "cell_type": "code",
   "execution_count": null,
   "metadata": {},
   "outputs": [],
   "source": [
    "# Apagando colunas desnecessárias\n",
    "#del dados['UNNAMED: 0']\n",
    "#del dados['GEOMETRY']"
   ]
  },
  {
   "cell_type": "code",
   "execution_count": null,
   "metadata": {},
   "outputs": [],
   "source": [
    "# Ajustando nome de colunas\n",
    "dados_filtrado.rename(columns = {'B1': 'BAND_1',\n",
    "                                 'B2': 'BAND_2',\n",
    "                                 'B3': 'BAND_3',\n",
    "                                 'B4': 'BAND_4',\n",
    "                                 'B5': 'BAND_5',\n",
    "                                 'B6': 'BAND_6',\n",
    "                                 'B7': 'BAND_7',\n",
    "                                 'B8': 'BAND_8',\n",
    "                                 'B8A': 'BAND_8A',\n",
    "                                 'B9': 'BAND_9',\n",
    "                                 'B11': 'BAND_11',\n",
    "                                 'B12': 'BAND_12',\n",
    "                                 variavel_interesse: 'VALUE'},\n",
    "                      inplace=True)"
   ]
  },
  {
   "cell_type": "code",
   "execution_count": null,
   "metadata": {},
   "outputs": [],
   "source": [
    "# Ajustar valores de Dado de Campo = Secchi: converter de cm para m\n",
    "if variavel_interesse == 'SECCHI':\n",
    "    dados_filtrado['VALUE'] = dados_filtrado['VALUE']/100.00\n",
    "dados_filtrado.head(3)"
   ]
  },
  {
   "cell_type": "code",
   "execution_count": null,
   "metadata": {},
   "outputs": [],
   "source": []
  },
  {
   "cell_type": "code",
   "execution_count": null,
   "metadata": {},
   "outputs": [],
   "source": []
  },
  {
   "cell_type": "code",
   "execution_count": null,
   "metadata": {},
   "outputs": [],
   "source": [
    "# Seleção Valores dos Parâmetros Limites da Variável de Interesse"
   ]
  },
  {
   "cell_type": "code",
   "execution_count": null,
   "metadata": {},
   "outputs": [],
   "source": [
    "#Filtros Limite de Valor de Parâmetros e Diferenças de Datas (em dias)\n",
    "\n",
    "print('Quer utilizar todos os dados disponíveis?')\n",
    "print('Digite 1 para SIM ou 0 para NÃO')\n",
    "usar_todos_dados = int(input())\n",
    "\n",
    "if usar_todos_dados==0:\n",
    "    print('Digite o valor limite do parâmetro (inteiro)')\n",
    "    valor_limite = int(input())\n",
    "\n",
    "    print('Intervalo de Dias entre a Passagem do Satélite e a Data de Coleta (inteiro)')\n",
    "    diferenca_dias = int(input())\n",
    "\n",
    "    dados_filtrado = dados_filtrado[(dados_filtrado['VALUE']<=valor_limite) & (dados_filtrado['DIFERENCA_DIAS']<=diferenca_dias)]\n",
    "else:    \n",
    "    dados_filtrado = dados_filtrado.copy()\n",
    "    valor_limite = 'Sem Limitacao'\n",
    "    diferenca_dias = 'Sem Limitacao'\n",
    "\n",
    "\n",
    "#dados_filtrado.head()\n",
    "print(f'*Quantidade de Dados Disponíveis Após Aplicação do Filtro de Valor Limite da Variável e Diferença entre Datas: {dados_filtrado.shape[0]}')"
   ]
  },
  {
   "cell_type": "code",
   "execution_count": null,
   "metadata": {},
   "outputs": [],
   "source": []
  },
  {
   "cell_type": "code",
   "execution_count": null,
   "metadata": {},
   "outputs": [],
   "source": []
  },
  {
   "cell_type": "code",
   "execution_count": null,
   "metadata": {},
   "outputs": [],
   "source": []
  },
  {
   "cell_type": "code",
   "execution_count": null,
   "metadata": {},
   "outputs": [],
   "source": [
    "dados_filtrado.columns"
   ]
  },
  {
   "cell_type": "code",
   "execution_count": null,
   "metadata": {},
   "outputs": [],
   "source": [
    "# Removendo algumas colunas desnecessárias\n",
    "del(dados_filtrado['UNNAMED: 0'])\n",
    "del(dados_filtrado['REGIOES'])\n",
    "del(dados_filtrado['ESTACAO'])\n",
    "del(dados_filtrado['DATA'])\n",
    "del(dados_filtrado['CAMPANHA'])\n",
    "del(dados_filtrado['HORA'])\n",
    "del(dados_filtrado['DATA_IMAGE'])\n",
    "\n",
    "del(dados_filtrado['MSK_CLDPRB'])\n",
    "del(dados_filtrado['NUVEM_SOMB'])\n",
    "del(dados_filtrado['GEOMETRY'])\n",
    "del(dados_filtrado['DIFERENCA_DIAS'])\n",
    "del(dados_filtrado['QA60'])"
   ]
  },
  {
   "cell_type": "code",
   "execution_count": null,
   "metadata": {},
   "outputs": [],
   "source": [
    "dados_filtrado.head(3)"
   ]
  },
  {
   "cell_type": "code",
   "execution_count": null,
   "metadata": {},
   "outputs": [],
   "source": [
    "dados_filtrado.info()"
   ]
  },
  {
   "cell_type": "code",
   "execution_count": null,
   "metadata": {},
   "outputs": [],
   "source": [
    "# Verificação de valores nulos\n",
    "dados_filtrado.isnull().sum()"
   ]
  },
  {
   "cell_type": "code",
   "execution_count": null,
   "metadata": {},
   "outputs": [],
   "source": [
    "# Excluir e verificar valores nulos\n",
    "dados_filtrado.dropna(inplace = True, axis=0)\n",
    "#dados.isnull().sum()\n",
    "dados_filtrado.info()"
   ]
  },
  {
   "cell_type": "code",
   "execution_count": null,
   "metadata": {},
   "outputs": [],
   "source": [
    "dados_filtrado['VALUE'].describe()"
   ]
  },
  {
   "cell_type": "code",
   "execution_count": null,
   "metadata": {},
   "outputs": [],
   "source": [
    "# Valores iguais a Zero\n",
    "dados_filtrado[dados_filtrado['VALUE'] == 0]"
   ]
  },
  {
   "cell_type": "code",
   "execution_count": null,
   "metadata": {},
   "outputs": [],
   "source": [
    "# Remover Valores Menores ou Iguais a Zero\n",
    "dados_filtrado = dados_filtrado[dados_filtrado['VALUE'] > 0]"
   ]
  },
  {
   "cell_type": "code",
   "execution_count": null,
   "metadata": {},
   "outputs": [],
   "source": [
    "dados_filtrado['VALUE'].describe()"
   ]
  },
  {
   "cell_type": "code",
   "execution_count": null,
   "metadata": {},
   "outputs": [],
   "source": [
    "dados_filtrado.info()"
   ]
  },
  {
   "cell_type": "code",
   "execution_count": null,
   "metadata": {},
   "outputs": [],
   "source": [
    "dados_filtrado.describe()"
   ]
  },
  {
   "cell_type": "code",
   "execution_count": null,
   "metadata": {},
   "outputs": [],
   "source": [
    "# Conferindo as bandas restantes\n",
    "dados_filtrado.columns"
   ]
  },
  {
   "cell_type": "code",
   "execution_count": null,
   "metadata": {},
   "outputs": [],
   "source": [
    "# Verificando a Distribuição da Variável de Interesse\n",
    "x = 'VALUE'\n",
    "fig, ax = plt.subplots(nrows=1, ncols=2,  sharex=False, sharey=False)\n",
    "fig.suptitle(x, fontsize=20)\n",
    "### distribution\n",
    "ax[0].title.set_text('distribution')\n",
    "variable = dados_filtrado[x].fillna(dados_filtrado[x].mean())\n",
    "breaks = np.quantile(variable, q=np.linspace(0, 1, 11))\n",
    "variable = variable[ (variable > breaks[0]) & (variable < \n",
    "                    breaks[10]) ]\n",
    "sns.distplot(variable, hist=True, kde=True, kde_kws={\"shade\": True}, ax=ax[0])\n",
    "des = dados_filtrado[x].describe()\n",
    "ax[0].axvline(des[\"25%\"], ls='--')\n",
    "ax[0].axvline(des[\"mean\"], ls='--')\n",
    "ax[0].axvline(des[\"75%\"], ls='--')\n",
    "ax[0].grid(True)\n",
    "des = round(des, 2).apply(lambda x: str(x))\n",
    "box = '\\n'.join((\"min: \"+des[\"min\"], \"25%: \"+des[\"25%\"], \"mean: \"+des[\"mean\"], \"75%: \"+des[\"75%\"], \"max: \"+des[\"max\"]))\n",
    "ax[0].text(0.95, 0.95, box, transform=ax[0].transAxes, fontsize=10, va='top', ha=\"right\", bbox=dict(boxstyle='round', facecolor='white', alpha=1))\n",
    "### boxplot \n",
    "ax[1].title.set_text('outliers (log scale)')\n",
    "tmp_dtf = pd.DataFrame(dados_filtrado[x])\n",
    "tmp_dtf[x] = np.log(dados_filtrado[x])\n",
    "tmp_dtf.boxplot(column=x, ax=ax[1])\n",
    "plt.show()"
   ]
  },
  {
   "cell_type": "code",
   "execution_count": null,
   "metadata": {},
   "outputs": [],
   "source": []
  },
  {
   "cell_type": "code",
   "execution_count": null,
   "metadata": {},
   "outputs": [],
   "source": [
    "# Verificação da Relação entre as Variáveis"
   ]
  },
  {
   "cell_type": "code",
   "execution_count": null,
   "metadata": {},
   "outputs": [],
   "source": [
    "# Matriz de Correlação\n",
    "sns.heatmap(dados_filtrado.corr(), annot=True) #annot mostra os coeficientes da matriz"
   ]
  },
  {
   "cell_type": "code",
   "execution_count": null,
   "metadata": {},
   "outputs": [],
   "source": [
    "# Matriz de Correlação\n",
    "#dados_filtrado.corr()"
   ]
  },
  {
   "cell_type": "code",
   "execution_count": null,
   "metadata": {},
   "outputs": [],
   "source": [
    "# Verificação de Linearidade\n",
    "#sns.pairplot(dados_filtrado, diag_kind=\"kde\")"
   ]
  },
  {
   "cell_type": "code",
   "execution_count": null,
   "metadata": {},
   "outputs": [],
   "source": [
    "dados_filtrado.info()"
   ]
  },
  {
   "cell_type": "code",
   "execution_count": null,
   "metadata": {},
   "outputs": [],
   "source": [
    "# Verifidando por outro método\n",
    "\n",
    "IQR_BAND_1 = dados_filtrado.BAND_1.quantile(0.75)-dados_filtrado.BAND_1.quantile(0.25) \n",
    "lower_bridge_BAND_1 = dados_filtrado['BAND_1'].quantile(0.25)-(IQR_BAND_1*1.5) \n",
    "upper_bridge_BAND_1 = dados_filtrado['BAND_1'].quantile(0.75)+(IQR_BAND_1*1.5)\n",
    "lower_bridge_BAND_1, upper_bridge_BAND_1\n",
    "\n",
    "IQR_BAND_2 = dados_filtrado.BAND_2.quantile(0.75)-dados_filtrado.BAND_2.quantile(0.25) \n",
    "lower_bridge_BAND_2 = dados_filtrado['BAND_2'].quantile(0.25)-(IQR_BAND_2*1.5) \n",
    "upper_bridge_BAND_2 = dados_filtrado['BAND_2'].quantile(0.75)+(IQR_BAND_2*1.5)\n",
    "lower_bridge_BAND_2, upper_bridge_BAND_2\n",
    "\n",
    "IQR_BAND_3 = dados_filtrado.BAND_3.quantile(0.75)-dados_filtrado.BAND_3.quantile(0.25) \n",
    "lower_bridge_BAND_3 = dados_filtrado['BAND_3'].quantile(0.25)-(IQR_BAND_3*1.5) \n",
    "upper_bridge_BAND_3 = dados_filtrado['BAND_3'].quantile(0.75)+(IQR_BAND_3*1.5)\n",
    "lower_bridge_BAND_3, upper_bridge_BAND_3\n",
    "\n",
    "IQR_BAND_4 = dados_filtrado.BAND_4.quantile(0.75)-dados_filtrado.BAND_4.quantile(0.25) \n",
    "lower_bridge_BAND_4 = dados_filtrado['BAND_4'].quantile(0.25)-(IQR_BAND_4*1.5) \n",
    "upper_bridge_BAND_4 = dados_filtrado['BAND_4'].quantile(0.75)+(IQR_BAND_4*1.5)\n",
    "lower_bridge_BAND_4, upper_bridge_BAND_4\n",
    "\n",
    "IQR_BAND_5 = dados_filtrado.BAND_5.quantile(0.75)-dados_filtrado.BAND_5.quantile(0.25) \n",
    "lower_bridge_BAND_5 = dados_filtrado['BAND_5'].quantile(0.25)-(IQR_BAND_5*1.5) \n",
    "upper_bridge_BAND_5 = dados_filtrado['BAND_5'].quantile(0.75)+(IQR_BAND_5*1.5)\n",
    "lower_bridge_BAND_5, upper_bridge_BAND_5\n",
    "\n",
    "IQR_BAND_6 = dados_filtrado.BAND_6.quantile(0.75)-dados_filtrado.BAND_6.quantile(0.25) \n",
    "lower_bridge_BAND_6 = dados_filtrado['BAND_6'].quantile(0.25)-(IQR_BAND_6*1.5) \n",
    "upper_bridge_BAND_6 = dados_filtrado['BAND_6'].quantile(0.75)+(IQR_BAND_6*1.5)\n",
    "lower_bridge_BAND_6, upper_bridge_BAND_6\n",
    "\n",
    "IQR_BAND_7 = dados_filtrado.BAND_7.quantile(0.75)-dados_filtrado.BAND_7.quantile(0.25) \n",
    "lower_bridge_BAND_7 = dados_filtrado['BAND_7'].quantile(0.25)-(IQR_BAND_7*1.5) \n",
    "upper_bridge_BAND_7 = dados_filtrado['BAND_7'].quantile(0.75)+(IQR_BAND_7*1.5)\n",
    "lower_bridge_BAND_7, upper_bridge_BAND_7\n",
    "\n",
    "IQR_BAND_8 = dados_filtrado.BAND_8.quantile(0.75)-dados_filtrado.BAND_8.quantile(0.25) \n",
    "lower_bridge_BAND_8 = dados_filtrado['BAND_8'].quantile(0.25)-(IQR_BAND_8*1.5) \n",
    "upper_bridge_BAND_8 = dados_filtrado['BAND_8'].quantile(0.75)+(IQR_BAND_8*1.5)\n",
    "lower_bridge_BAND_8, upper_bridge_BAND_8\n",
    "\n",
    "IQR_BAND_8A = dados_filtrado.BAND_8A.quantile(0.75)-dados_filtrado.BAND_8A.quantile(0.25) \n",
    "lower_bridge_BAND_8A = dados_filtrado['BAND_8A'].quantile(0.25)-(IQR_BAND_8A*1.5) \n",
    "upper_bridge_BAND_8A = dados_filtrado['BAND_8A'].quantile(0.75)+(IQR_BAND_8A*1.5)\n",
    "lower_bridge_BAND_8A, upper_bridge_BAND_8A\n",
    "\n",
    "IQR_BAND_9 = dados_filtrado.BAND_9.quantile(0.75)-dados_filtrado.BAND_9.quantile(0.25) \n",
    "lower_bridge_BAND_9 = dados_filtrado['BAND_9'].quantile(0.25)-(IQR_BAND_9*1.5) \n",
    "upper_bridge_BAND_9 = dados_filtrado['BAND_9'].quantile(0.75)+(IQR_BAND_9*1.5)\n",
    "lower_bridge_BAND_9, upper_bridge_BAND_9\n",
    "\n",
    "IQR_BAND_11 = dados_filtrado.BAND_11.quantile(0.75)-dados_filtrado.BAND_11.quantile(0.25) \n",
    "lower_bridge_BAND_11 = dados_filtrado['BAND_11'].quantile(0.25)-(IQR_BAND_11*1.5) \n",
    "upper_bridge_BAND_11 = dados_filtrado['BAND_11'].quantile(0.75)+(IQR_BAND_11*1.5)\n",
    "lower_bridge_BAND_11, upper_bridge_BAND_11\n",
    "\n",
    "IQR_BAND_12 = dados_filtrado.BAND_12.quantile(0.75)-dados_filtrado.BAND_12.quantile(0.25) \n",
    "lower_bridge_BAND_12 = dados_filtrado['BAND_12'].quantile(0.25)-(IQR_BAND_12*1.5) \n",
    "upper_bridge_BAND_12 = dados_filtrado['BAND_12'].quantile(0.75)+(IQR_BAND_12*1.5)\n",
    "lower_bridge_BAND_12, upper_bridge_BAND_12"
   ]
  },
  {
   "cell_type": "code",
   "execution_count": null,
   "metadata": {},
   "outputs": [],
   "source": [
    "dados_filtrado.describe()"
   ]
  },
  {
   "cell_type": "code",
   "execution_count": null,
   "metadata": {},
   "outputs": [],
   "source": [
    "# Desvio Padrão - Determinação do Limite de Corte - Bandas\n",
    "\n",
    "print('Verificação dos Limites de Corte das Bandas Espectrais:')\n",
    "print(f'*Desvio Padrão da Banda_1: {dados_filtrado.BAND_1.std()}')\n",
    "print(f'*Desvio Padrão da Banda_2: {dados_filtrado.BAND_2.std()}')\n",
    "print(f'*Desvio Padrão da Banda_3: {dados_filtrado.BAND_3.std()}')\n",
    "print(f'*Desvio Padrão da Banda_4: {dados_filtrado.BAND_4.std()}')\n",
    "print(f'*Desvio Padrão da Banda_5: {dados_filtrado.BAND_5.std()}')\n",
    "print(f'*Desvio Padrão da Banda_6: {dados_filtrado.BAND_6.std()}')\n",
    "print(f'*Desvio Padrão da Banda_7: {dados_filtrado.BAND_7.std()}')\n",
    "print(f'*Desvio Padrão da Banda_8: {dados_filtrado.BAND_8.std()}')\n",
    "print(f'*Desvio Padrão da Banda_8A: {dados_filtrado.BAND_8A.std()}')\n",
    "print(f'*Desvio Padrão da Banda_9: {dados_filtrado.BAND_9.std()}')\n",
    "print(f'*Desvio Padrão da Banda_11: {dados_filtrado.BAND_11.std()}')\n",
    "print(f'*Desvio Padrão da Banda_12: {dados_filtrado.BAND_12.std()}')\n",
    "\n",
    "\n",
    "\n",
    "print('---------------------------------------------------------------------')\n",
    "\n",
    "\n",
    "print('Para Prosseguir Sem Efetuar Filtros por Desvio Padrão: Digite 1: ')\n",
    "print('Para Prosseguir Filtrar por Valores do Desvio Padrão: Digite 2:  ')\n",
    "print('Para Prosseguir Filtrar por Valores InterQuartis: Digite 3:  ')\n",
    "\n",
    "usar_todos_dados = int(input())\n",
    "\n",
    "# --------------------------------------------\n",
    "\n",
    "if usar_todos_dados==2:\n",
    "\n",
    "    print('---------------------------------------------------------------------')\n",
    "    print('Filtro de Bandas Realizado por Desvio Padrão: ')\n",
    "    print('---------------------------------------------------------------------')\n",
    "    print('Digite o Valor pelo qual o Desvio Padrão Deverá ser Multiplicado (inteiro): ')\n",
    "    valor_multiplica_desvio_padrao = int(input())\n",
    "\n",
    "    print(f'*O Valor Limite de Corte da Banda_1 é : {dados_filtrado.BAND_1.std() * valor_multiplica_desvio_padrao}')\n",
    "    dados_filtrado.drop(dados_filtrado[dados_filtrado['BAND_1'] > dados_filtrado.BAND_1.std() * valor_multiplica_desvio_padrao].index, inplace = True)\n",
    "    print('---------------------------------------------------------------------')\n",
    "    \n",
    "    print('Filtro de Bandas Realizado por Intervalos InterQuartis: ')\n",
    "    print(f'*O Valor Limite de Corte da Banda_2 é : {dados_filtrado.BAND_2.std() * valor_multiplica_desvio_padrao}')\n",
    "    dados_filtrado.drop(dados_filtrado[dados_filtrado['BAND_2'] > dados_filtrado.BAND_2.std() * valor_multiplica_desvio_padrao].index, inplace = True)\n",
    "    print('---------------------------------------------------------------------')\n",
    "    \n",
    "    print(f'*O Valor Limite de Corte da Banda_3 é : {dados_filtrado.BAND_3.std() * valor_multiplica_desvio_padrao}')\n",
    "    dados_filtrado.drop(dados_filtrado[dados_filtrado['BAND_3'] > dados_filtrado.BAND_3.std() * valor_multiplica_desvio_padrao].index, inplace = True)\n",
    "    print('---------------------------------------------------------------------')\n",
    "    \n",
    "    print(f'*O Valor Limite de Corte da Banda_4 é : {dados_filtrado.BAND_4.std() * valor_multiplica_desvio_padrao}')\n",
    "    dados_filtrado.drop(dados_filtrado[dados_filtrado['BAND_4'] > dados_filtrado.BAND_4.std() * valor_multiplica_desvio_padrao].index, inplace = True)\n",
    "    print('---------------------------------------------------------------------')\n",
    "    \n",
    "    print(f'*O Valor Limite de Corte da Banda_5 é : {dados_filtrado.BAND_5.std() * valor_multiplica_desvio_padrao}')\n",
    "    dados_filtrado.drop(dados_filtrado[dados_filtrado['BAND_5'] > dados_filtrado.BAND_5.std() * valor_multiplica_desvio_padrao].index, inplace = True)\n",
    "    print('---------------------------------------------------------------------')\n",
    "    \n",
    "    print(f'*O Valor Limite de Corte da Banda_6 é : {dados_filtrado.BAND_6.std() * valor_multiplica_desvio_padrao}')\n",
    "    dados_filtrado.drop(dados_filtrado[dados_filtrado['BAND_6'] > dados_filtrado.BAND_6.std() * valor_multiplica_desvio_padrao].index, inplace = True)\n",
    "    print('---------------------------------------------------------------------')\n",
    "    \n",
    "    print(f'*O Valor Limite de Corte da Banda_7 é : {dados_filtrado.BAND_7.std() * valor_multiplica_desvio_padrao}')\n",
    "    dados_filtrado.drop(dados_filtrado[dados_filtrado['BAND_7'] > dados_filtrado.BAND_7.std() * valor_multiplica_desvio_padrao].index, inplace = True)\n",
    "    print('---------------------------------------------------------------------')\n",
    "    \n",
    "    print(f'*O Valor Limite de Corte da Banda_8 é : {dados_filtrado.BAND_8.std() * valor_multiplica_desvio_padrao}')\n",
    "    dados_filtrado.drop(dados_filtrado[dados_filtrado['BAND_8'] > dados_filtrado.BAND_8.std() * valor_multiplica_desvio_padrao].index, inplace = True)\n",
    "    print('---------------------------------------------------------------------')\n",
    "    \n",
    "    print(f'*O Valor Limite de Corte da Banda_8A é : {dados_filtrado.BAND_8A.std() * valor_multiplica_desvio_padrao}')\n",
    "    dados_filtrado.drop(dados_filtrado[dados_filtrado['BAND_8A'] > dados_filtrado.BAND_8A.std() * valor_multiplica_desvio_padrao].index, inplace = True)\n",
    "    print('---------------------------------------------------------------------')\n",
    "    \n",
    "    print(f'*O Valor Limite de Corte da Banda_9 é : {dados_filtrado.BAND_9.std() * valor_multiplica_desvio_padrao}')\n",
    "    dados_filtrado.drop(dados_filtrado[dados_filtrado['BAND_9'] > dados_filtrado.BAND_9.std() * valor_multiplica_desvio_padrao].index, inplace = True)\n",
    "    print('---------------------------------------------------------------------')\n",
    "    \n",
    "    print(f'*O Valor Limite de Corte da Banda_11 é : {dados_filtrado.BAND_11.std() * valor_multiplica_desvio_padrao}')\n",
    "    dados_filtrado.drop(dados_filtrado[dados_filtrado['BAND_11'] > dados_filtrado.BAND_11.std() * valor_multiplica_desvio_padrao].index, inplace = True)\n",
    "    print('---------------------------------------------------------------------')\n",
    "    \n",
    "    print(f'*O Valor Limite de Corte da Banda_12 é : {dados_filtrado.BAND_12.std() * valor_multiplica_desvio_padrao}')\n",
    "    dados_filtrado.drop(dados_filtrado[dados_filtrado['BAND_12'] > dados_filtrado.BAND_12.std() * valor_multiplica_desvio_padrao].index, inplace = True)\n",
    "    print('---------------------------------------------------------------------')\n",
    "\n",
    "# ---------------------------------------------------\n",
    "    \n",
    "if usar_todos_dados==3:\n",
    "\n",
    "    print('---------------------------------------------------------------------')\n",
    "    print('Filtro de Bandas Realizado por Intervalos InterQuartis: ')\n",
    "    print('---------------------------------------------------------------------')\n",
    "\n",
    "    print(f'*O Valor Limite de Corte da Banda_1 é : {upper_bridge_BAND_1}')\n",
    "    dados_filtrado.drop(dados_filtrado[dados_filtrado['BAND_1'] > upper_bridge_BAND_1].index, inplace = True)\n",
    "    print('---------------------------------------------------------------------')\n",
    "    \n",
    "    print('Filtro de Bandas Realizado por Intervalos InterQuartis: ')\n",
    "    print(f'*O Valor Limite de Corte da Banda_2 é : {upper_bridge_BAND_2}')\n",
    "    dados_filtrado.drop(dados_filtrado[dados_filtrado['BAND_2'] > upper_bridge_BAND_2].index, inplace = True)\n",
    "    print('---------------------------------------------------------------------')\n",
    "    \n",
    "    print(f'*O Valor Limite de Corte da Banda_3 é : {upper_bridge_BAND_3}')\n",
    "    dados_filtrado.drop(dados_filtrado[dados_filtrado['BAND_3'] > upper_bridge_BAND_3].index, inplace = True)\n",
    "    print('---------------------------------------------------------------------')\n",
    "    \n",
    "    print(f'*O Valor Limite de Corte da Banda_4 é : {upper_bridge_BAND_4}')\n",
    "    dados_filtrado.drop(dados_filtrado[dados_filtrado['BAND_4'] > upper_bridge_BAND_4].index, inplace = True)\n",
    "    print('---------------------------------------------------------------------')\n",
    "    \n",
    "    print(f'*O Valor Limite de Corte da Banda_5 é : {upper_bridge_BAND_5}')\n",
    "    dados_filtrado.drop(dados_filtrado[dados_filtrado['BAND_5'] > upper_bridge_BAND_5].index, inplace = True)\n",
    "    print('---------------------------------------------------------------------')\n",
    "    \n",
    "    print(f'*O Valor Limite de Corte da Banda_6 é : {upper_bridge_BAND_6}')\n",
    "    dados_filtrado.drop(dados_filtrado[dados_filtrado['BAND_6'] > upper_bridge_BAND_6].index, inplace = True)\n",
    "    print('---------------------------------------------------------------------')\n",
    "    \n",
    "    print(f'*O Valor Limite de Corte da Banda_7 é : {upper_bridge_BAND_7}')\n",
    "    dados_filtrado.drop(dados_filtrado[dados_filtrado['BAND_7'] > upper_bridge_BAND_7].index, inplace = True)\n",
    "    print('---------------------------------------------------------------------')\n",
    "    \n",
    "    print(f'*O Valor Limite de Corte da Banda_8 é : {upper_bridge_BAND_8}')\n",
    "    dados_filtrado.drop(dados_filtrado[dados_filtrado['BAND_8'] > upper_bridge_BAND_8].index, inplace = True)\n",
    "    print('---------------------------------------------------------------------')\n",
    "    \n",
    "    print(f'*O Valor Limite de Corte da Banda_8A é : {upper_bridge_BAND_8A}')\n",
    "    dados_filtrado.drop(dados_filtrado[dados_filtrado['BAND_8A'] > upper_bridge_BAND_8A].index, inplace = True)\n",
    "    print('---------------------------------------------------------------------')\n",
    "    \n",
    "    print(f'*O Valor Limite de Corte da Banda_9 é : {upper_bridge_BAND_9}')\n",
    "    dados_filtrado.drop(dados_filtrado[dados_filtrado['BAND_9'] > upper_bridge_BAND_9].index, inplace = True)\n",
    "    print('---------------------------------------------------------------------')\n",
    "    \n",
    "    print(f'*O Valor Limite de Corte da Banda_11 é : {upper_bridge_BAND_11}')\n",
    "    dados_filtrado.drop(dados_filtrado[dados_filtrado['BAND_11'] > upper_bridge_BAND_11].index, inplace = True)\n",
    "    print('---------------------------------------------------------------------')\n",
    "    \n",
    "    print(f'*O Valor Limite de Corte da Banda_12 é : {upper_bridge_BAND_12}')\n",
    "    dados_filtrado.drop(dados_filtrado[dados_filtrado['BAND_12'] > upper_bridge_BAND_12].index, inplace = True)\n",
    "    print('---------------------------------------------------------------------')\n",
    "\n",
    "# ---------------------------------------\n",
    "    \n",
    "else:    \n",
    "    dados_filtrado = dados_filtrado.copy()\n",
    "\n",
    "\n",
    "\n",
    "#dados_filtrado.head()\n",
    "print(f'*Quantidade de Dados Disponíveis Após Aplicação do Filtro por Desvio Padrão/InterQuartis : {dados_filtrado.shape[0]}')"
   ]
  },
  {
   "cell_type": "code",
   "execution_count": null,
   "metadata": {},
   "outputs": [],
   "source": [
    "dados_filtrado.describe()"
   ]
  },
  {
   "cell_type": "code",
   "execution_count": null,
   "metadata": {},
   "outputs": [],
   "source": []
  },
  {
   "cell_type": "code",
   "execution_count": null,
   "metadata": {},
   "outputs": [],
   "source": []
  },
  {
   "cell_type": "code",
   "execution_count": null,
   "metadata": {},
   "outputs": [],
   "source": [
    "# Desvio Padrão - Determinação do Limite de Corte - Variável de Interesse\n",
    "\n",
    "print('Verificação do Limite de Corte da Variável de Interesse:')\n",
    "print(f'*Desvio Padrão da Variável de Interesse: {dados_filtrado.VALUE.std()}')\n",
    "print('Para Prosseguir Sem Efetuar Filtros por Desvio Padrão: Digite 1: ')\n",
    "print('Para Prosseguir Filtrar por Valores do Desvio Padrão: Digite 2:  ')\n",
    "print('Para Prosseguir Filtrar por Valores InterQuartis: Digite 3:  ')\n",
    "\n",
    "usar_todos_dados = int(input())\n",
    "\n",
    "if usar_todos_dados==2:\n",
    "    print('Filtro por Desvio Padrão: ')\n",
    "    print('Digite o Valor pelo qual o Desvio Padrão Deverá ser Multiplicado (inteiro): ')\n",
    "    valor_multiplica_desvio_padrao = int(input())\n",
    "    \n",
    "    limite_corte_variavel_desvio_padrao = valor_multiplica_desvio_padrao * dados_filtrado.VALUE.std()\n",
    "    \n",
    "    print(f'*O Valor Limite de Corte é : {limite_corte_variavel_desvio_padrao}')\n",
    "\n",
    "    dados_filtrado.drop(dados_filtrado[dados_filtrado['VALUE'] > limite_corte_variavel_desvio_padrao].index, inplace = True)\n",
    "\n",
    "elif usar_todos_dados==3:\n",
    "    print('Filtro por Intervalos InterQuartis: ')\n",
    "    IQR=dados_filtrado.VALUE.quantile(0.75)-dados_filtrado.VALUE.quantile(0.25) \n",
    "    lower_bridge=dados_filtrado['VALUE'].quantile(0.25)-(IQR*1.5) \n",
    "    upper_bridge=dados_filtrado['VALUE'].quantile(0.75)+(IQR*1.5)\n",
    "    \n",
    "    print(f'*O Valor Limite de Corte é : {upper_bridge}')\n",
    "\n",
    "    dados_filtrado.drop(dados_filtrado[dados_filtrado['VALUE'] > upper_bridge].index, inplace = True)\n",
    "    \n",
    "else:    \n",
    "    dados_filtrado = dados_filtrado.copy()\n",
    "    #valor_limite = 'Sem Limitacao'\n",
    "    #diferenca_dias = 'Sem Limitacao'\n",
    "\n",
    "\n",
    "#dados_filtrado.head()\n",
    "print(f'*Quantidade de Dados Disponíveis Após Aplicação do Filtro por Desvio Padrão/InterQuartis : {dados_filtrado.shape[0]}')"
   ]
  },
  {
   "cell_type": "code",
   "execution_count": null,
   "metadata": {},
   "outputs": [],
   "source": [
    "#dados_filtrado.info()"
   ]
  },
  {
   "cell_type": "code",
   "execution_count": null,
   "metadata": {},
   "outputs": [],
   "source": []
  },
  {
   "cell_type": "code",
   "execution_count": null,
   "metadata": {},
   "outputs": [],
   "source": [
    "# Nova verificação da Distribução após corte de valores de bandas\n",
    "x = 'VALUE'\n",
    "fig, ax = plt.subplots(nrows=1, ncols=2,  sharex=False, sharey=False)\n",
    "fig.suptitle(x, fontsize=20)\n",
    "### distribution\n",
    "ax[0].title.set_text('distribution')\n",
    "variable = dados_filtrado[x].fillna(dados_filtrado[x].mean())\n",
    "breaks = np.quantile(variable, q=np.linspace(0, 1, 11))\n",
    "variable = variable[ (variable > breaks[0]) & (variable < \n",
    "                    breaks[10]) ]\n",
    "sns.distplot(variable, hist=True, kde=True, kde_kws={\"shade\": True}, ax=ax[0])\n",
    "des = dados_filtrado[x].describe()\n",
    "ax[0].axvline(des[\"25%\"], ls='--')\n",
    "ax[0].axvline(des[\"mean\"], ls='--')\n",
    "ax[0].axvline(des[\"75%\"], ls='--')\n",
    "ax[0].grid(True)\n",
    "des = round(des, 2).apply(lambda x: str(x))\n",
    "box = '\\n'.join((\"min: \"+des[\"min\"], \"25%: \"+des[\"25%\"], \"mean: \"+des[\"mean\"], \"75%: \"+des[\"75%\"], \"max: \"+des[\"max\"]))\n",
    "ax[0].text(0.95, 0.95, box, transform=ax[0].transAxes, fontsize=10, va='top', ha=\"right\", bbox=dict(boxstyle='round', facecolor='white', alpha=1))\n",
    "### boxplot \n",
    "ax[1].title.set_text('outliers (log scale)')\n",
    "tmp_dtf = pd.DataFrame(dados_filtrado[x])\n",
    "#tmp_dtf[x] = np.log(dados_filtrado[x])\n",
    "tmp_dtf.boxplot(column=x, ax=ax[1])\n",
    "plt.show()"
   ]
  },
  {
   "cell_type": "code",
   "execution_count": null,
   "metadata": {},
   "outputs": [],
   "source": []
  },
  {
   "cell_type": "code",
   "execution_count": null,
   "metadata": {},
   "outputs": [],
   "source": [
    "# Selecionando as Bandas Espectrais de Interesse"
   ]
  },
  {
   "cell_type": "code",
   "execution_count": null,
   "metadata": {},
   "outputs": [],
   "source": [
    "#Filtro de Bandas Espectrais de Interesse\n",
    "\n",
    "print('Quais variáveis de entrada vc quer utlizar?')\n",
    "print('Digite 1 para sim ou 0 para Não')\n",
    "print('1: Selecionar as 12 bandas espectrais')\n",
    "print('2: Selecionar TODAS as VARIÁVEIS DE ENTRADA disponíveis')\n",
    "print('0: Informar as bandas de interesse')\n",
    "\n",
    "usar_todas_bandas = int(input())\n",
    "print('------------------------------------------------------')\n",
    "\n",
    "if usar_todas_bandas==0:\n",
    "    print('------------------------------------------------------')\n",
    "    print('Digite uma lista com as bandas espectrais desejadas')\n",
    "    print('Digite Todas: para selecionar todas as 12 bandas simultaneamente')\n",
    "    print('Ou')\n",
    "    print('Digite as bandas desejadas. Exemplo: band_1 band_2 band_3')\n",
    "    print('------------------------------------------------------')\n",
    "    bandas = (input()).upper()\n",
    "    bandas = bandas.split()\n",
    "    bandas.append('VALUE')\n",
    "    #bandas, len(bandas)\n",
    "    dados_filtrado1 = dados_filtrado[bandas]\n",
    "\n",
    "    \n",
    "if usar_todas_bandas == 1:\n",
    "    dados_filtrado1 = dados_filtrado[['BAND_1','BAND_2','BAND_3','BAND_4','BAND_5','BAND_6','BAND_7','BAND_8','BAND_8A','BAND_9','BAND_11','BAND_12','VALUE']]\n",
    "    bandas = dados_filtrado1.columns\n",
    "    \n",
    "    \n",
    "else:    \n",
    "    #turb_filtrado1 = turb_filtrado[turb_filtrado.columns]\n",
    "    #dados_filtrado1 = dados_filtrado[['BAND_1','BAND_2','BAND_3','BAND_4','BAND_5','BAND_6','BAND_7','BAND_8','BAND_8A','BAND_9','BAND_11','BAND_12','VALUE']]\n",
    "    \n",
    "    #dados_filtrado1 = dados_filtrado[['BAND_1','BAND_2','BAND_3','BAND_4','BAND_5','BAND_6','BAND_7','BAND_8','BAND_8A','BAND_9','BAND_11','BAND_12', 'NDWI', 'SWI', 'VALUE']]\n",
    "    \n",
    "    #dados_filtrado1 = dados_filtrado[['BAND_1','BAND_2','BAND_3','BAND_4','BAND_5','BAND_6','BAND_7','BAND_8','BAND_8A','BAND_9','BAND_11','BAND_12', 'NDWI', 'M_NDWI','SWI', 'MCARI','VALUE']]\n",
    "    \n",
    "    dados_filtrado1 = dados_filtrado[['BAND_1','BAND_2','BAND_3','BAND_4','BAND_5','BAND_6','BAND_7','BAND_8','BAND_8A','BAND_9','BAND_11','BAND_12', 'NDWI', 'M_NDWI','SWI', 'MCARI', 'NDVI', 'NBSI', 'MOISTURE', 'WATER_BODIES','WATER_PLANTS', 'VALUE']]\n",
    "    \n",
    "    bandas = dados_filtrado1.columns\n",
    "    \n",
    "\n",
    "dados_filtrado1.head()\n"
   ]
  },
  {
   "cell_type": "code",
   "execution_count": null,
   "metadata": {},
   "outputs": [],
   "source": []
  },
  {
   "cell_type": "code",
   "execution_count": null,
   "metadata": {},
   "outputs": [],
   "source": [
    "# Separando bandas da variável dependente para filtros futuros\n",
    "bandas = bandas[0:(len(bandas)-1)]\n",
    "bandas"
   ]
  },
  {
   "cell_type": "code",
   "execution_count": null,
   "metadata": {},
   "outputs": [],
   "source": []
  },
  {
   "cell_type": "code",
   "execution_count": null,
   "metadata": {},
   "outputs": [],
   "source": [
    "# Ajustando Fator de Escala de Bandas Espectrais: 1/10.000"
   ]
  },
  {
   "cell_type": "code",
   "execution_count": null,
   "metadata": {},
   "outputs": [],
   "source": [
    "lista_multiplicar_bandas = ['BAND_1','BAND_2','BAND_3','BAND_4','BAND_5','BAND_6','BAND_7','BAND_8','BAND_8A','BAND_9','BAND_11','BAND_12']"
   ]
  },
  {
   "cell_type": "code",
   "execution_count": null,
   "metadata": {},
   "outputs": [],
   "source": [
    "dados_filtrado1[lista_multiplicar_bandas] = dados_filtrado1[lista_multiplicar_bandas].multiply(0.0001)"
   ]
  },
  {
   "cell_type": "code",
   "execution_count": null,
   "metadata": {},
   "outputs": [],
   "source": [
    "dados_filtrado1"
   ]
  },
  {
   "cell_type": "code",
   "execution_count": null,
   "metadata": {},
   "outputs": [],
   "source": []
  },
  {
   "cell_type": "markdown",
   "metadata": {},
   "source": [
    "# Preparando para Gravar dados que serão utilizados nos modelos de IA\n",
    "'''\n",
    "arquivo_utilizado = str(nome_arquivo + '_' + str(len(dados_filtrado1)) + '_dados_' +\n",
    "    str(valor_limite) + '_IntervaloDados_' +\n",
    "    str(diferenca_dias) + '_DiferencaDias_' +\n",
    "    str(len(bandas)) + '_bandas.xlsx')\n",
    "\n",
    "#arquivo_utilizado\n",
    "\n",
    "pasta_raiz = r'C:\\Users\\peixe\\simoa_1'\n",
    "\n",
    "#str(pasta_raiz)+'\\\\'+nome_arquivo\n",
    "\n",
    "\n",
    "# Criar pasta\n",
    "pasta_gravacao = str(pasta_raiz)+'\\\\'+nome_arquivo\n",
    "if not os.path.exists(pasta_gravacao):\n",
    "    os.makedirs(pasta_gravacao)\n",
    "    \n",
    "\n",
    "# Caminho do arquivo\n",
    "caminho_arquivo = str(pasta_gravacao) +'\\\\'+ str(arquivo_utilizado)\n",
    "#caminho_arquivo\n",
    "\n",
    "\n",
    "# Gravar dados\n",
    "dados_filtrado1.to_excel(caminho_arquivo)\n",
    "\n",
    "# Limpa o nome do arquivo após a gravação\n",
    "caminho_arquivo = ''\n",
    "'''"
   ]
  },
  {
   "cell_type": "code",
   "execution_count": null,
   "metadata": {},
   "outputs": [],
   "source": []
  },
  {
   "cell_type": "code",
   "execution_count": null,
   "metadata": {},
   "outputs": [],
   "source": []
  },
  {
   "cell_type": "code",
   "execution_count": null,
   "metadata": {},
   "outputs": [],
   "source": [
    "# PyWedge"
   ]
  },
  {
   "cell_type": "code",
   "execution_count": null,
   "metadata": {},
   "outputs": [],
   "source": [
    "#!pip install pywedge"
   ]
  },
  {
   "cell_type": "code",
   "execution_count": null,
   "metadata": {},
   "outputs": [],
   "source": [
    "#import pywedge as pw"
   ]
  },
  {
   "cell_type": "code",
   "execution_count": null,
   "metadata": {
    "scrolled": true
   },
   "outputs": [],
   "source": [
    "#mc = pw.Pywedge_Charts(dados_filtrado1, c=None, y=\"VALUE\")\n",
    "#chart = mc.make_charts()"
   ]
  },
  {
   "cell_type": "code",
   "execution_count": null,
   "metadata": {},
   "outputs": [],
   "source": []
  },
  {
   "cell_type": "code",
   "execution_count": null,
   "metadata": {},
   "outputs": [],
   "source": [
    "#from pandas_profiling import ProfileReport"
   ]
  },
  {
   "cell_type": "code",
   "execution_count": null,
   "metadata": {},
   "outputs": [],
   "source": [
    "#profile = ProfileReport(dados_filtrado1, title=\"Pandas Profiling Report\", explorative=True)"
   ]
  },
  {
   "cell_type": "code",
   "execution_count": null,
   "metadata": {},
   "outputs": [],
   "source": [
    "#profile.to_notebook_iframe()"
   ]
  },
  {
   "cell_type": "code",
   "execution_count": null,
   "metadata": {},
   "outputs": [],
   "source": []
  },
  {
   "cell_type": "code",
   "execution_count": null,
   "metadata": {},
   "outputs": [],
   "source": [
    "#import sweetviz as sv\n",
    " \n",
    "# generate report\n",
    "#sweet_report = sv.analyze(dados_filtrado1)"
   ]
  },
  {
   "cell_type": "code",
   "execution_count": null,
   "metadata": {},
   "outputs": [],
   "source": [
    "#sweet_report.show_html()"
   ]
  },
  {
   "cell_type": "code",
   "execution_count": null,
   "metadata": {},
   "outputs": [],
   "source": [
    "#compare_report = sv.compare([y_test,\"teste\"], [predictions,\"predicao\"], \"output\")\n",
    " # show output within notebook file\n",
    "#compare_report.show_html()"
   ]
  },
  {
   "cell_type": "code",
   "execution_count": null,
   "metadata": {},
   "outputs": [],
   "source": []
  },
  {
   "cell_type": "code",
   "execution_count": null,
   "metadata": {},
   "outputs": [],
   "source": []
  },
  {
   "cell_type": "code",
   "execution_count": null,
   "metadata": {},
   "outputs": [],
   "source": [
    "#bandas =['BAND_1', 'BAND_3', 'BAND_5', 'BAND_11']\n",
    "#bandas =['BAND_1', 'BAND_3', 'BAND_5']"
   ]
  },
  {
   "cell_type": "code",
   "execution_count": null,
   "metadata": {},
   "outputs": [],
   "source": []
  },
  {
   "cell_type": "code",
   "execution_count": null,
   "metadata": {},
   "outputs": [],
   "source": []
  },
  {
   "cell_type": "code",
   "execution_count": null,
   "metadata": {},
   "outputs": [],
   "source": [
    "# Tempo de execução de Algoritmos"
   ]
  },
  {
   "cell_type": "code",
   "execution_count": null,
   "metadata": {},
   "outputs": [],
   "source": [
    "# Verificar tempo - Início\n",
    "tempo_inicial = time.time() # em segundos"
   ]
  },
  {
   "cell_type": "code",
   "execution_count": null,
   "metadata": {},
   "outputs": [],
   "source": []
  },
  {
   "cell_type": "code",
   "execution_count": null,
   "metadata": {},
   "outputs": [],
   "source": []
  },
  {
   "cell_type": "code",
   "execution_count": null,
   "metadata": {},
   "outputs": [],
   "source": []
  },
  {
   "cell_type": "code",
   "execution_count": null,
   "metadata": {},
   "outputs": [],
   "source": [
    "# Função Linear - Aplicação da OLS"
   ]
  },
  {
   "cell_type": "code",
   "execution_count": null,
   "metadata": {},
   "outputs": [],
   "source": [
    "# Montando Função Linear - Parte 1\n",
    "\n",
    "string_funcao_linear_part1 = ''\n",
    "\n",
    "for x in bandas:\n",
    "    string_funcao_linear_part1 += '+' + x\n",
    "\n",
    "#print(string_funcao_linear_part1)\n",
    "\n",
    "string_funcao_linear_part1 = string_funcao_linear_part1[1:len(string_funcao_linear_part1)]\n",
    "\n",
    "#print(string_funcao_linear_part1)\n",
    "\n",
    "#############################################\n",
    "\n",
    "# Montando Função Linear - Parte 2\n",
    "\n",
    "string_funcao_linear_part2 = 'VALUE ~ ' + string_funcao_linear_part1\n",
    "print('Função Linear: ',string_funcao_linear_part2)"
   ]
  },
  {
   "cell_type": "code",
   "execution_count": null,
   "metadata": {},
   "outputs": [],
   "source": [
    "# Regressão Linear - Função OLS\n",
    "\n",
    "print('------------------------------------------------------------------------------')\n",
    "print('--------------------------------Resultados------------------------------------')\n",
    "print(f'*Valor Limite do parâmetro: {valor_limite} / *Diferença de Data: {diferenca_dias}')\n",
    "print('------------------------------------------------------------------------------')\n",
    "\n",
    "result = sm.ols(formula=string_funcao_linear_part2, data=dados_filtrado1).fit()\n",
    "print(result.summary())"
   ]
  },
  {
   "cell_type": "code",
   "execution_count": null,
   "metadata": {},
   "outputs": [],
   "source": []
  },
  {
   "cell_type": "code",
   "execution_count": null,
   "metadata": {},
   "outputs": [],
   "source": [
    "## Função Linear - Verificaçaõ dos Resultados"
   ]
  },
  {
   "cell_type": "code",
   "execution_count": null,
   "metadata": {},
   "outputs": [],
   "source": [
    "# Pegando os parâmetros da Função Linear OLS\n",
    "result.params, result.params[0]"
   ]
  },
  {
   "cell_type": "code",
   "execution_count": null,
   "metadata": {},
   "outputs": [],
   "source": [
    "# Pegando os valores dos parâmetros\n",
    "var = result.params\n",
    "var[1]\n",
    "var"
   ]
  },
  {
   "cell_type": "code",
   "execution_count": null,
   "metadata": {},
   "outputs": [],
   "source": [
    "# Separando variáveis dependentes e independentes\n",
    "X1 = dados_filtrado1[bandas]\n",
    "y1 = dados_filtrado1['VALUE']"
   ]
  },
  {
   "cell_type": "code",
   "execution_count": null,
   "metadata": {},
   "outputs": [],
   "source": [
    "# Aplicando a Equação Linear\n",
    "# novas colunas\n",
    "\n",
    "if len(bandas) == 12:\n",
    "    y_teste_ols1 = var[0] + var[1]*X1['BAND_1'] + var[2]*X1['BAND_2'] + var[3]*X1['BAND_3'] + var[4]*X1['BAND_4'] + var[5]*X1['BAND_5'] + var[6]*X1['BAND_6'] + var[7]*X1['BAND_7'] + var[8]*X1['BAND_8'] + var[9]*X1['BAND_8A'] + var[10]*X1['BAND_9'] + var[11]*X1['BAND_11'] + var[12]*X1['BAND_12']\n",
    "else:\n",
    "    y_teste_ols1 = var[0] + var[1]*X1['BAND_1'] + var[2]*X1['BAND_2'] + var[3]*X1['BAND_3'] + var[4]*X1['BAND_4'] + var[5]*X1['BAND_5'] + var[6]*X1['BAND_6'] + var[7]*X1['BAND_7'] + var[8]*X1['BAND_8'] + var[9]*X1['BAND_8A'] + var[10]*X1['BAND_9'] + var[11]*X1['BAND_11'] + var[12]*X1['BAND_12'] + var[13]*X1['NDWI'] + var[14]*X1['M_NDWI'] +var[15]*X1['SWI'] + var[16]*X1['MCARI'] + var[17]*X1['NDVI'] + var[18]*X1['NBSI'] + var[19]*X1['MOISTURE'] + var[20]*X1['WATER_BODIES'] + var[21]*X1['WATER_PLANTS']\n",
    "\n",
    "    \n",
    "\n",
    "# 21 bandas\n",
    "#y_teste_ols1 = var[0] + var[1]*X1['BAND_1'] + var[2]*X1['BAND_2'] + var[3]*X1['BAND_3'] + var[4]*X1['BAND_4'] + var[5]*X1['BAND_5'] + var[6]*X1['BAND_6'] + var[7]*X1['BAND_7'] + var[8]*X1['BAND_8'] + var[9]*X1['BAND_8A'] + var[10]*X1['BAND_9'] + var[11]*X1['BAND_11'] + var[12]*X1['BAND_12'] + var[13]*X1['NDWI'] + var[14]*X1['M_NDWI'] +var[15]*X1['SWI'] + var[16]*X1['MCARI'] + var[17]*X1['NDVI'] + var[18]*X1['NBSI'] + var[19]*X1['MOISTURE'] + var[20]*X1['WATER_BODIES'] + var[21]*X1['WATER_PLANTS']\n",
    "\n",
    "\n",
    "# y_teste_ols1 = var[0] + var[1]*X1['BAND_1'] + var[2]*X1['BAND_2'] + var[3]*X1['BAND_3'] + var[4]*X1['BAND_4'] + var[5]*X1['BAND_5'] + var[6]*X1['BAND_6'] + var[7]*X1['BAND_7'] + var[8]*X1['BAND_8'] + var[9]*X1['BAND_8A'] + var[10]*X1['BAND_9'] + var[11]*X1['BAND_11'] + var[12]*X1['BAND_12'] + var[13]*X1['NDWI'] + var[14]*X1['M_NDWI'] +var[15]*X1['SWI'] + var[16]*X1['MCARI']\n",
    "\n",
    "\n",
    "#y_teste_ols1 = var[0] + var[1]*X1['BAND_1'] + var[2]*X1['BAND_2'] + var[3]*X1['BAND_3'] + var[4]*X1['BAND_4'] + var[5]*X1['BAND_5'] + var[6]*X1['BAND_6'] + var[7]*X1['BAND_7'] + var[8]*X1['BAND_8'] + var[9]*X1['BAND_8A'] + var[10]*X1['BAND_9'] + var[11]*X1['BAND_11'] + var[12]*X1['BAND_12'] + var[13]*X1['NDWI'] + var[14]*X1['SWI']\n",
    "\n",
    "# 12 bandas\n",
    "#y_teste_ols1 = var[0] + var[1]*X1['BAND_1'] + var[2]*X1['BAND_2'] + var[3]*X1['BAND_3'] + var[4]*X1['BAND_4'] + var[5]*X1['BAND_5'] + var[6]*X1['BAND_6'] + var[7]*X1['BAND_7'] + var[8]*X1['BAND_8'] + var[9]*X1['BAND_8A'] + var[10]*X1['BAND_9'] + var[11]*X1['BAND_11'] + var[12]*X1['BAND_12']\n",
    "\n",
    "#y_teste_ols1 = var[0] + var[1]*X1['BAND_1'] + var[2]*X1['BAND_2'] + var[3]*X1['BAND_3'] + var[4]*X1['BAND_4'] + var[5]*X1['BAND_5'] + var[6]*X1['BAND_8A']\n",
    "\n",
    "#y_teste_ols1 = var[0] + var[1]*X1['BAND_1'] + var[2]*X1['BAND_3'] + var[3]*X1['BAND_5'] # + var[4]*X1['BAND_11']\n",
    "\n",
    "\n",
    "# Resultado da Aplicação da Função\n",
    "y_teste_ols_previsto1 = y_teste_ols1.values\n",
    "#y_teste_ols_previsto1"
   ]
  },
  {
   "cell_type": "code",
   "execution_count": null,
   "metadata": {},
   "outputs": [],
   "source": [
    "# Valor original da variável idependente\n",
    "y_teste_ols_verdadeiro1 = y1.values\n",
    "#y_teste_ols_verdadeiro1"
   ]
  },
  {
   "cell_type": "code",
   "execution_count": null,
   "metadata": {},
   "outputs": [],
   "source": [
    "# Regressão Linear\n",
    "print('------------------------------------------------------------------------------')\n",
    "print('--------------------------------Resultados------------------------------------')\n",
    "print('Função Linear - OLS-----------------------------------------------------------')\n",
    "metricas(y_teste_ols_verdadeiro1, y_teste_ols_previsto1)"
   ]
  },
  {
   "cell_type": "code",
   "execution_count": null,
   "metadata": {},
   "outputs": [],
   "source": []
  },
  {
   "cell_type": "code",
   "execution_count": null,
   "metadata": {},
   "outputs": [],
   "source": []
  },
  {
   "cell_type": "code",
   "execution_count": null,
   "metadata": {},
   "outputs": [],
   "source": []
  },
  {
   "cell_type": "code",
   "execution_count": null,
   "metadata": {},
   "outputs": [],
   "source": []
  },
  {
   "cell_type": "code",
   "execution_count": null,
   "metadata": {},
   "outputs": [],
   "source": []
  },
  {
   "cell_type": "code",
   "execution_count": null,
   "metadata": {},
   "outputs": [],
   "source": []
  },
  {
   "cell_type": "code",
   "execution_count": null,
   "metadata": {},
   "outputs": [],
   "source": []
  },
  {
   "cell_type": "code",
   "execution_count": null,
   "metadata": {},
   "outputs": [],
   "source": [
    "# Selecionar bandas\n",
    "#bandas = bandas_importantes"
   ]
  },
  {
   "cell_type": "code",
   "execution_count": null,
   "metadata": {},
   "outputs": [],
   "source": [
    "# Codigo do Tipo de Algoritmo\n",
    "# 1- Linear\n",
    "# 2 - Árvore de Decisão\n",
    "# 3- Agrupamento\n",
    "# 4- Gradient Boosting\n",
    "# 5- Rede Neural"
   ]
  },
  {
   "cell_type": "code",
   "execution_count": null,
   "metadata": {},
   "outputs": [],
   "source": [
    "# Selecionando variáveis independentes\n",
    "#global X\n",
    "#X = dados_filtrado1[bandas].values\n",
    "#X\n",
    "#X.shape"
   ]
  },
  {
   "cell_type": "code",
   "execution_count": null,
   "metadata": {},
   "outputs": [],
   "source": [
    "def seleciona_dados_variaveis_indepentes_x(codigo_tipo_algoritmo):\n",
    "    global X\n",
    "    global y\n",
    "    global bandas_utilizadas\n",
    "    if codigo_tipo_algoritmo in(1, 2, 3, 4):\n",
    "        X = dados_filtrado1[bandas_mais_frequentes].values\n",
    "        print(X.shape)\n",
    "        \n",
    "        y = dados_filtrado1['VALUE'].values\n",
    "        print(y.shape)\n",
    "        \n",
    "        bandas_utilizadas = bandas_mais_frequentes\n",
    "    \n",
    "    else:\n",
    "        X = dados_filtrado1[bandas].values\n",
    "        print(X.shape)\n",
    "        \n",
    "        y = dados_filtrado1['VALUE'].values\n",
    "        print(y.shape)\n",
    "        \n",
    "        bandas_utilizadas = bandas\n",
    "    \n",
    "    return X, y"
   ]
  },
  {
   "cell_type": "code",
   "execution_count": null,
   "metadata": {},
   "outputs": [],
   "source": [
    "# Settando as variáveis X e y com todos os dados\n",
    "seleciona_dados_variaveis_indepentes_x(5)\n",
    "clear_output()"
   ]
  },
  {
   "cell_type": "code",
   "execution_count": null,
   "metadata": {},
   "outputs": [],
   "source": [
    "X.shape"
   ]
  },
  {
   "cell_type": "code",
   "execution_count": null,
   "metadata": {},
   "outputs": [],
   "source": [
    "y.shape"
   ]
  },
  {
   "cell_type": "code",
   "execution_count": null,
   "metadata": {},
   "outputs": [],
   "source": []
  },
  {
   "cell_type": "code",
   "execution_count": null,
   "metadata": {},
   "outputs": [],
   "source": []
  },
  {
   "cell_type": "code",
   "execution_count": null,
   "metadata": {},
   "outputs": [],
   "source": []
  },
  {
   "cell_type": "code",
   "execution_count": null,
   "metadata": {},
   "outputs": [],
   "source": []
  },
  {
   "cell_type": "code",
   "execution_count": null,
   "metadata": {},
   "outputs": [],
   "source": []
  },
  {
   "cell_type": "code",
   "execution_count": null,
   "metadata": {},
   "outputs": [],
   "source": []
  },
  {
   "cell_type": "code",
   "execution_count": null,
   "metadata": {},
   "outputs": [],
   "source": []
  },
  {
   "cell_type": "code",
   "execution_count": null,
   "metadata": {},
   "outputs": [],
   "source": [
    "# Registro de Resultados - Preparação da Tabela"
   ]
  },
  {
   "cell_type": "code",
   "execution_count": null,
   "metadata": {},
   "outputs": [],
   "source": [
    "# Tamanho das Amostras de Treino e Teste - Cross-Validation\n",
    "samples_cv = X.shape[0]\n",
    "\n",
    "X_test_cv_tamanho = np.ceil(X.shape[0]/5).astype(int)\n",
    "X_train_cv_tamanho = samples_cv - X_test_cv_tamanho\n",
    "\n",
    "train_test_cv = str(str(X_train_cv_tamanho) + '/' + str(X_test_cv_tamanho))\n",
    "\n",
    "#samples_cv, train_test_cv"
   ]
  },
  {
   "cell_type": "code",
   "execution_count": null,
   "metadata": {},
   "outputs": [],
   "source": [
    "# Preparando a tabela para gravação"
   ]
  },
  {
   "cell_type": "code",
   "execution_count": null,
   "metadata": {},
   "outputs": [],
   "source": [
    "results_frame = pd.DataFrame()\n",
    "columns_result = ['Method','Samples','Train/Test', 'Split Mode', 'R2', 'MSE', 'RMSE', 'MAE', 'MAPE']"
   ]
  },
  {
   "cell_type": "code",
   "execution_count": null,
   "metadata": {},
   "outputs": [],
   "source": [
    "results_frame = pd.DataFrame(columns=columns_result)\n",
    "results_frame"
   ]
  },
  {
   "cell_type": "code",
   "execution_count": null,
   "metadata": {},
   "outputs": [],
   "source": [
    "#esvaziar frame (caso haja valores guardados)\n",
    "results_frame = results_frame[0:0]"
   ]
  },
  {
   "cell_type": "code",
   "execution_count": null,
   "metadata": {},
   "outputs": [],
   "source": []
  },
  {
   "cell_type": "code",
   "execution_count": null,
   "metadata": {},
   "outputs": [],
   "source": [
    "# Cross-Validation"
   ]
  },
  {
   "cell_type": "code",
   "execution_count": null,
   "metadata": {},
   "outputs": [],
   "source": [
    "# Divisiões do Conjunto de Dados\n",
    "folds_number = 5"
   ]
  },
  {
   "cell_type": "code",
   "execution_count": null,
   "metadata": {},
   "outputs": [],
   "source": [
    "random_fixo = 42"
   ]
  },
  {
   "cell_type": "code",
   "execution_count": null,
   "metadata": {},
   "outputs": [],
   "source": [
    "from sklearn.preprocessing import StandardScaler\n",
    "sc = StandardScaler()"
   ]
  },
  {
   "cell_type": "code",
   "execution_count": null,
   "metadata": {},
   "outputs": [],
   "source": [
    "## APLICAÇÃO DOS MODELOS DE INTELIGÊNCIA ARTIFICIAL ##"
   ]
  },
  {
   "cell_type": "code",
   "execution_count": null,
   "metadata": {},
   "outputs": [],
   "source": [
    "## Modelos de Inteligência Artificial ##"
   ]
  },
  {
   "cell_type": "code",
   "execution_count": null,
   "metadata": {},
   "outputs": [],
   "source": [
    "# Regressão Linear"
   ]
  },
  {
   "cell_type": "code",
   "execution_count": null,
   "metadata": {},
   "outputs": [],
   "source": [
    "# Nome do método utilizado\n",
    "method = 'Linear Regression'"
   ]
  },
  {
   "cell_type": "code",
   "execution_count": null,
   "metadata": {},
   "outputs": [],
   "source": [
    "# Selecionando principais bandas para o o tipo de algoritmo\n",
    "seleciona_dados_variaveis_indepentes_x(5)\n",
    "#\n",
    "\n",
    "scores = []\n",
    "R2_lista, MSE_lista, RMSE_lista, MAE_lista, MAPE_lista = [], [], [], [], []\n",
    "\n",
    "#method = results_frame['Method'].iloc[0]\n",
    "\n",
    "linear_regression = LinearRegression()\n",
    "\n",
    "cv = KFold(n_splits=folds_number, random_state=random_fixo, shuffle=True)\n",
    "\n",
    "melhor_r2 = 0\n",
    "\n",
    "for train_index, test_index in cv.split(X):\n",
    "    #print(\"Train Index: \", train_index, \"\\n\")\n",
    "    #print(\"Test Index: \", test_index, \"\\n\")\n",
    "    print(\"Metrics\")\n",
    "\n",
    "    X_train, X_test, y_train, y_test = X[train_index], X[test_index], y[train_index], y[test_index]\n",
    "    \n",
    "    X_train = sc.fit_transform(X_train)\n",
    "    X_test = sc.transform(X_test)\n",
    "    \n",
    "    linear_regression.fit(X_train, y_train)\n",
    "    scores.append(linear_regression.score(X_test, y_test))\n",
    "    \n",
    "    predictions = linear_regression.predict(X_test)\n",
    "    \n",
    "    metricas(y_test, predictions)\n",
    "    \n",
    "    R2_lista.append(R2)\n",
    "    MSE_lista.append(MSE)\n",
    "    RMSE_lista.append(RMSE)\n",
    "    MAE_lista.append(MAE)\n",
    "    MAPE_lista.append(MAPE)\n",
    "\n",
    "    \n",
    "    if R2 > melhor_r2:\n",
    "        melhor_r2 = R2\n",
    "        \n",
    "        melhor_X_train = sc.fit_transform(X_train)\n",
    "        melhor_y_train = y_train\n",
    "        melhor_X_test = sc.transform(X_test)\n",
    "        melhor_y_test = y_test\n",
    "    \n",
    "    #print(\"---------------------------------------\")\n",
    "    clear_output()"
   ]
  },
  {
   "cell_type": "code",
   "execution_count": null,
   "metadata": {},
   "outputs": [],
   "source": [
    "R2 = statistics.mean(R2_lista)\n",
    "MSE = statistics.mean(MSE_lista)\n",
    "RMSE = statistics.mean(RMSE_lista)\n",
    "MAE = statistics.mean(MAE_lista)\n",
    "MAPE = statistics.mean(MAPE_lista)\n",
    "\n",
    "#R2, MSE, RMSE, MAE, MAPE\n",
    "\n",
    "print('Method: ', method)\n",
    "print(\"R2 = \", R2)\n",
    "print(\"MSE = \", MSE)\n",
    "print(\"RMSE = \", RMSE)\n",
    "print(\"MAE = \", MAE)\n",
    "print(\"MAPE = \", MAPE)"
   ]
  },
  {
   "cell_type": "code",
   "execution_count": null,
   "metadata": {},
   "outputs": [],
   "source": [
    "# Exbindo Resultados\n",
    "# Cross-Validation\n",
    "\n",
    "division = 'Cross-Validation'\n",
    "\n",
    "results_frame = results_frame.append({'Method': method,\n",
    "                                      'Samples': samples_cv,\n",
    "                                      'Train/Test': train_test_cv,\n",
    "                                      'Split Mode': division,\n",
    "                                      'R2': R2,\n",
    "                                      'MSE': MSE,\n",
    "                                      'RMSE': RMSE,\n",
    "                                      'MAE': MAE,\n",
    "                                      'MAPE': MAPE},\n",
    "                                     ignore_index=True)\n",
    "\n",
    "results_frame"
   ]
  },
  {
   "cell_type": "code",
   "execution_count": null,
   "metadata": {},
   "outputs": [],
   "source": []
  },
  {
   "cell_type": "code",
   "execution_count": null,
   "metadata": {},
   "outputs": [],
   "source": []
  },
  {
   "cell_type": "code",
   "execution_count": null,
   "metadata": {},
   "outputs": [],
   "source": []
  },
  {
   "cell_type": "code",
   "execution_count": null,
   "metadata": {},
   "outputs": [],
   "source": []
  },
  {
   "cell_type": "code",
   "execution_count": null,
   "metadata": {},
   "outputs": [],
   "source": []
  },
  {
   "cell_type": "code",
   "execution_count": null,
   "metadata": {},
   "outputs": [],
   "source": [
    "# Redes Neurais"
   ]
  },
  {
   "cell_type": "code",
   "execution_count": null,
   "metadata": {},
   "outputs": [],
   "source": [
    "taxa_aprendizado = 0.01"
   ]
  },
  {
   "cell_type": "code",
   "execution_count": null,
   "metadata": {},
   "outputs": [],
   "source": [
    "epocas = 1000"
   ]
  },
  {
   "cell_type": "code",
   "execution_count": null,
   "metadata": {},
   "outputs": [],
   "source": [
    "n_batchs = 128"
   ]
  },
  {
   "cell_type": "code",
   "execution_count": null,
   "metadata": {},
   "outputs": [],
   "source": [
    "callback = keras.callbacks.EarlyStopping(\n",
    "    monitor='val_mae', patience=50, verbose=2, mode='min',\n",
    "    baseline=None, restore_best_weights=True)"
   ]
  },
  {
   "cell_type": "code",
   "execution_count": null,
   "metadata": {},
   "outputs": [],
   "source": [
    "# Neural Comum"
   ]
  },
  {
   "cell_type": "code",
   "execution_count": null,
   "metadata": {},
   "outputs": [],
   "source": []
  },
  {
   "cell_type": "code",
   "execution_count": null,
   "metadata": {},
   "outputs": [],
   "source": []
  },
  {
   "cell_type": "code",
   "execution_count": null,
   "metadata": {},
   "outputs": [],
   "source": []
  },
  {
   "cell_type": "code",
   "execution_count": null,
   "metadata": {},
   "outputs": [],
   "source": [
    "# method = 'ANN 5L, 100N'"
   ]
  },
  {
   "cell_type": "code",
   "execution_count": null,
   "metadata": {},
   "outputs": [],
   "source": [
    "method = 'ANN 5L, 100N'"
   ]
  },
  {
   "cell_type": "code",
   "execution_count": null,
   "metadata": {},
   "outputs": [],
   "source": [
    "# Selecionando principais bandas para o o tipo de algoritmo\n",
    "#seleciona_dados_variaveis_indepentes_x(1)\n",
    "seleciona_dados_variaveis_indepentes_x(5)\n",
    "clear_output()\n",
    "#"
   ]
  },
  {
   "cell_type": "code",
   "execution_count": null,
   "metadata": {},
   "outputs": [],
   "source": [
    "modelo_5L_100 = Sequential()\n",
    "modelo_5L_100.add(Dense(units = 100, activation = 'relu', input_shape=(len(bandas_utilizadas),)))\n",
    "#modelo_5L_100.add(Dropout(0.2))\n",
    "modelo_5L_100.add(Dense(units = 100, activation = 'relu'))\n",
    "#modelo_5L_100.add(Dropout(0.2))\n",
    "modelo_5L_100.add(Dense(units = 100, activation = 'relu'))\n",
    "#modelo_5L_100.add(Dropout(0.2))\n",
    "modelo_5L_100.add(Dense(units = 100, activation = 'relu'))\n",
    "#modelo_5L_100.add(Dropout(0.2))\n",
    "modelo_5L_100.add(Dense(units = 100, activation = 'relu'))\n",
    "#modelo_5L_100.add(Dropout(0.2))\n",
    "modelo_5L_100.add(Dense(1))"
   ]
  },
  {
   "cell_type": "code",
   "execution_count": null,
   "metadata": {},
   "outputs": [],
   "source": [
    "Optimizer = tf.keras.optimizers.Adam(learning_rate = taxa_aprendizado)"
   ]
  },
  {
   "cell_type": "code",
   "execution_count": null,
   "metadata": {},
   "outputs": [],
   "source": [
    "modelo_5L_100.compile(Optimizer, loss='mse', metrics=[\"mae\",\"mse\"])"
   ]
  },
  {
   "cell_type": "code",
   "execution_count": null,
   "metadata": {},
   "outputs": [],
   "source": [
    "#scores = []\n",
    "R2_lista, MSE_lista, RMSE_lista, MAE_lista, MAPE_lista = [], [], [], [], []\n",
    "\n",
    "#method = results_frame['Method'].iloc[0]\n",
    "\n",
    "cv = KFold(n_splits=folds_number, random_state=random_fixo, shuffle=True)\n",
    "\n",
    "melhor_r2 = 0\n",
    "\n",
    "for train_index, test_index in cv.split(X):\n",
    "    #print(\"Train Index: \", train_index, \"\\n\")\n",
    "    #print(\"Test Index: \", test_index, \"\\n\")\n",
    "    print(\"Metrics\")\n",
    "\n",
    "    X_train, X_test, y_train, y_test = X[train_index], X[test_index], y[train_index], y[test_index]\n",
    "    \n",
    "    \n",
    "    X_train = sc.fit_transform(X_train)\n",
    "    X_test = sc.transform(X_test)\n",
    "    \n",
    "    \n",
    "    history_5L_100 = modelo_5L_100.fit(X_train , y_train , validation_data=(X_test , y_test) ,\n",
    "                           callbacks=[callback],\n",
    "                           epochs=epocas, batch_size=n_batchs)\n",
    "    \n",
    "    predictions = modelo_5L_100.predict(X_test)\n",
    "    \n",
    "    metricas(y_test, predictions)\n",
    "    \n",
    "    R2_lista.append(R2)\n",
    "    MSE_lista.append(MSE)\n",
    "    RMSE_lista.append(RMSE)\n",
    "    MAE_lista.append(MAE)\n",
    "    MAPE_lista.append(MAPE)\n",
    "\n",
    "    \n",
    "    if R2 > melhor_r2:\n",
    "        melhor_r2 = R2\n",
    "        \n",
    "        melhor_X_train = sc.fit_transform(X_train)\n",
    "        melhor_y_train = y_train\n",
    "        melhor_X_test = sc.transform(X_test)\n",
    "        melhor_y_test = y_test\n",
    "    \n",
    "    #print(\"---------------------------------------\")\n",
    "    clear_output()"
   ]
  },
  {
   "cell_type": "code",
   "execution_count": null,
   "metadata": {},
   "outputs": [],
   "source": [
    "R2 = statistics.mean(R2_lista)\n",
    "MSE = statistics.mean(MSE_lista)\n",
    "RMSE = statistics.mean(RMSE_lista)\n",
    "MAE = statistics.mean(MAE_lista)\n",
    "MAPE = statistics.mean(MAPE_lista)\n",
    "\n",
    "#R2, MSE, RMSE, MAE, MAPE\n",
    "\n",
    "print('Method: ', method)\n",
    "print(\"R2 = \", R2)\n",
    "print(\"MSE = \", MSE)\n",
    "print(\"RMSE = \", RMSE)\n",
    "print(\"MAE = \", MAE)\n",
    "print(\"MAPE = \", MAPE)"
   ]
  },
  {
   "cell_type": "code",
   "execution_count": null,
   "metadata": {},
   "outputs": [],
   "source": [
    "# Exbindo Resultados\n",
    "# Cross-Validation\n",
    "\n",
    "division = 'Cross-Validation'\n",
    "\n",
    "results_frame = results_frame.append({'Method': method,\n",
    "                                      'Samples': samples_cv,\n",
    "                                      'Train/Test': train_test_cv,\n",
    "                                      'Split Mode': division,\n",
    "                                      'R2': R2,\n",
    "                                      'MSE': MSE,\n",
    "                                      'RMSE': RMSE,\n",
    "                                      'MAE': MAE,\n",
    "                                      'MAPE': MAPE},\n",
    "                                     ignore_index=True)\n",
    "\n",
    "results_frame"
   ]
  },
  {
   "cell_type": "code",
   "execution_count": null,
   "metadata": {},
   "outputs": [],
   "source": []
  },
  {
   "cell_type": "code",
   "execution_count": null,
   "metadata": {},
   "outputs": [],
   "source": []
  },
  {
   "cell_type": "code",
   "execution_count": null,
   "metadata": {},
   "outputs": [],
   "source": [
    "import sys\n",
    "'geopandas' in sys.modules\n",
    "!pip install geopandas"
   ]
  },
  {
   "cell_type": "code",
   "execution_count": 3,
   "metadata": {},
   "outputs": [],
   "source": [
    "import pandas as pd\n",
    "import geopandas as gpd"
   ]
  },
  {
   "cell_type": "code",
   "execution_count": 4,
   "metadata": {},
   "outputs": [
    {
     "data": {
      "text/html": [
       "<div>\n",
       "<style scoped>\n",
       "    .dataframe tbody tr th:only-of-type {\n",
       "        vertical-align: middle;\n",
       "    }\n",
       "\n",
       "    .dataframe tbody tr th {\n",
       "        vertical-align: top;\n",
       "    }\n",
       "\n",
       "    .dataframe thead th {\n",
       "        text-align: right;\n",
       "    }\n",
       "</style>\n",
       "<table border=\"1\" class=\"dataframe\">\n",
       "  <thead>\n",
       "    <tr style=\"text-align: right;\">\n",
       "      <th></th>\n",
       "      <th>VALUE</th>\n",
       "      <th>geometry</th>\n",
       "    </tr>\n",
       "  </thead>\n",
       "  <tbody>\n",
       "    <tr>\n",
       "      <th>0</th>\n",
       "      <td>0.03430</td>\n",
       "      <td>POLYGON ((466540.000 7988920.000, 466540.000 7...</td>\n",
       "    </tr>\n",
       "    <tr>\n",
       "      <th>1</th>\n",
       "      <td>0.04265</td>\n",
       "      <td>POLYGON ((466560.000 7988920.000, 466560.000 7...</td>\n",
       "    </tr>\n",
       "    <tr>\n",
       "      <th>2</th>\n",
       "      <td>0.05100</td>\n",
       "      <td>POLYGON ((466580.000 7988920.000, 466580.000 7...</td>\n",
       "    </tr>\n",
       "    <tr>\n",
       "      <th>3</th>\n",
       "      <td>0.04170</td>\n",
       "      <td>POLYGON ((466540.000 7988900.000, 466540.000 7...</td>\n",
       "    </tr>\n",
       "    <tr>\n",
       "      <th>4</th>\n",
       "      <td>0.04045</td>\n",
       "      <td>POLYGON ((466560.000 7988900.000, 466560.000 7...</td>\n",
       "    </tr>\n",
       "  </tbody>\n",
       "</table>\n",
       "</div>"
      ],
      "text/plain": [
       "     VALUE                                           geometry\n",
       "0  0.03430  POLYGON ((466540.000 7988920.000, 466540.000 7...\n",
       "1  0.04265  POLYGON ((466560.000 7988920.000, 466560.000 7...\n",
       "2  0.05100  POLYGON ((466580.000 7988920.000, 466580.000 7...\n",
       "3  0.04170  POLYGON ((466540.000 7988900.000, 466540.000 7...\n",
       "4  0.04045  POLYGON ((466560.000 7988900.000, 466560.000 7..."
      ]
     },
     "execution_count": 4,
     "metadata": {},
     "output_type": "execute_result"
    }
   ],
   "source": [
    "dados = gpd.read_file('4_Converter_Shape/B01.shp')\n",
    "dados.head()"
   ]
  },
  {
   "cell_type": "code",
   "execution_count": 5,
   "metadata": {},
   "outputs": [
    {
     "data": {
      "text/plain": [
       "(2132649, 2)"
      ]
     },
     "execution_count": 5,
     "metadata": {},
     "output_type": "execute_result"
    }
   ],
   "source": [
    "dados.shape"
   ]
  },
  {
   "cell_type": "code",
   "execution_count": 6,
   "metadata": {},
   "outputs": [
    {
     "data": {
      "text/html": [
       "<div>\n",
       "<style scoped>\n",
       "    .dataframe tbody tr th:only-of-type {\n",
       "        vertical-align: middle;\n",
       "    }\n",
       "\n",
       "    .dataframe tbody tr th {\n",
       "        vertical-align: top;\n",
       "    }\n",
       "\n",
       "    .dataframe thead th {\n",
       "        text-align: right;\n",
       "    }\n",
       "</style>\n",
       "<table border=\"1\" class=\"dataframe\">\n",
       "  <thead>\n",
       "    <tr style=\"text-align: right;\">\n",
       "      <th></th>\n",
       "      <th>BAND_1</th>\n",
       "      <th>geometry</th>\n",
       "    </tr>\n",
       "  </thead>\n",
       "  <tbody>\n",
       "    <tr>\n",
       "      <th>0</th>\n",
       "      <td>0.03430</td>\n",
       "      <td>POLYGON ((466540.000 7988920.000, 466540.000 7...</td>\n",
       "    </tr>\n",
       "    <tr>\n",
       "      <th>1</th>\n",
       "      <td>0.04265</td>\n",
       "      <td>POLYGON ((466560.000 7988920.000, 466560.000 7...</td>\n",
       "    </tr>\n",
       "    <tr>\n",
       "      <th>2</th>\n",
       "      <td>0.05100</td>\n",
       "      <td>POLYGON ((466580.000 7988920.000, 466580.000 7...</td>\n",
       "    </tr>\n",
       "    <tr>\n",
       "      <th>3</th>\n",
       "      <td>0.04170</td>\n",
       "      <td>POLYGON ((466540.000 7988900.000, 466540.000 7...</td>\n",
       "    </tr>\n",
       "    <tr>\n",
       "      <th>4</th>\n",
       "      <td>0.04045</td>\n",
       "      <td>POLYGON ((466560.000 7988900.000, 466560.000 7...</td>\n",
       "    </tr>\n",
       "  </tbody>\n",
       "</table>\n",
       "</div>"
      ],
      "text/plain": [
       "    BAND_1                                           geometry\n",
       "0  0.03430  POLYGON ((466540.000 7988920.000, 466540.000 7...\n",
       "1  0.04265  POLYGON ((466560.000 7988920.000, 466560.000 7...\n",
       "2  0.05100  POLYGON ((466580.000 7988920.000, 466580.000 7...\n",
       "3  0.04170  POLYGON ((466540.000 7988900.000, 466540.000 7...\n",
       "4  0.04045  POLYGON ((466560.000 7988900.000, 466560.000 7..."
      ]
     },
     "execution_count": 6,
     "metadata": {},
     "output_type": "execute_result"
    }
   ],
   "source": [
    "dados.rename(columns = {'VALUE': 'BAND_1'},\n",
    "                      inplace=True)\n",
    "dados.head()"
   ]
  },
  {
   "cell_type": "code",
   "execution_count": null,
   "metadata": {},
   "outputs": [],
   "source": [
    "#b1 = gpd.read_file('B01.shp')\n",
    "#dados['BAND_1'] = b1['VALUE']\n",
    "#b1.head()"
   ]
  },
  {
   "cell_type": "code",
   "execution_count": 7,
   "metadata": {},
   "outputs": [
    {
     "data": {
      "text/html": [
       "<div>\n",
       "<style scoped>\n",
       "    .dataframe tbody tr th:only-of-type {\n",
       "        vertical-align: middle;\n",
       "    }\n",
       "\n",
       "    .dataframe tbody tr th {\n",
       "        vertical-align: top;\n",
       "    }\n",
       "\n",
       "    .dataframe thead th {\n",
       "        text-align: right;\n",
       "    }\n",
       "</style>\n",
       "<table border=\"1\" class=\"dataframe\">\n",
       "  <thead>\n",
       "    <tr style=\"text-align: right;\">\n",
       "      <th></th>\n",
       "      <th>BAND_1</th>\n",
       "      <th>geometry</th>\n",
       "      <th>BAND_2</th>\n",
       "    </tr>\n",
       "  </thead>\n",
       "  <tbody>\n",
       "    <tr>\n",
       "      <th>0</th>\n",
       "      <td>0.03430</td>\n",
       "      <td>POLYGON ((466540.000 7988920.000, 466540.000 7...</td>\n",
       "      <td>0.032150</td>\n",
       "    </tr>\n",
       "    <tr>\n",
       "      <th>1</th>\n",
       "      <td>0.04265</td>\n",
       "      <td>POLYGON ((466560.000 7988920.000, 466560.000 7...</td>\n",
       "      <td>0.028700</td>\n",
       "    </tr>\n",
       "    <tr>\n",
       "      <th>2</th>\n",
       "      <td>0.05100</td>\n",
       "      <td>POLYGON ((466580.000 7988920.000, 466580.000 7...</td>\n",
       "      <td>0.029925</td>\n",
       "    </tr>\n",
       "    <tr>\n",
       "      <th>3</th>\n",
       "      <td>0.04170</td>\n",
       "      <td>POLYGON ((466540.000 7988900.000, 466540.000 7...</td>\n",
       "      <td>0.052525</td>\n",
       "    </tr>\n",
       "    <tr>\n",
       "      <th>4</th>\n",
       "      <td>0.04045</td>\n",
       "      <td>POLYGON ((466560.000 7988900.000, 466560.000 7...</td>\n",
       "      <td>0.029100</td>\n",
       "    </tr>\n",
       "  </tbody>\n",
       "</table>\n",
       "</div>"
      ],
      "text/plain": [
       "    BAND_1                                           geometry    BAND_2\n",
       "0  0.03430  POLYGON ((466540.000 7988920.000, 466540.000 7...  0.032150\n",
       "1  0.04265  POLYGON ((466560.000 7988920.000, 466560.000 7...  0.028700\n",
       "2  0.05100  POLYGON ((466580.000 7988920.000, 466580.000 7...  0.029925\n",
       "3  0.04170  POLYGON ((466540.000 7988900.000, 466540.000 7...  0.052525\n",
       "4  0.04045  POLYGON ((466560.000 7988900.000, 466560.000 7...  0.029100"
      ]
     },
     "execution_count": 7,
     "metadata": {},
     "output_type": "execute_result"
    }
   ],
   "source": [
    "b2 = gpd.read_file('4_Converter_Shape/B02.shp')\n",
    "dados['BAND_2'] = b2['VALUE']\n",
    "del(b2)\n",
    "dados.head()"
   ]
  },
  {
   "cell_type": "code",
   "execution_count": 8,
   "metadata": {},
   "outputs": [
    {
     "data": {
      "text/html": [
       "<div>\n",
       "<style scoped>\n",
       "    .dataframe tbody tr th:only-of-type {\n",
       "        vertical-align: middle;\n",
       "    }\n",
       "\n",
       "    .dataframe tbody tr th {\n",
       "        vertical-align: top;\n",
       "    }\n",
       "\n",
       "    .dataframe thead th {\n",
       "        text-align: right;\n",
       "    }\n",
       "</style>\n",
       "<table border=\"1\" class=\"dataframe\">\n",
       "  <thead>\n",
       "    <tr style=\"text-align: right;\">\n",
       "      <th></th>\n",
       "      <th>BAND_1</th>\n",
       "      <th>geometry</th>\n",
       "      <th>BAND_2</th>\n",
       "      <th>BAND_3</th>\n",
       "    </tr>\n",
       "  </thead>\n",
       "  <tbody>\n",
       "    <tr>\n",
       "      <th>0</th>\n",
       "      <td>0.03430</td>\n",
       "      <td>POLYGON ((466540.000 7988920.000, 466540.000 7...</td>\n",
       "      <td>0.032150</td>\n",
       "      <td>0.043875</td>\n",
       "    </tr>\n",
       "    <tr>\n",
       "      <th>1</th>\n",
       "      <td>0.04265</td>\n",
       "      <td>POLYGON ((466560.000 7988920.000, 466560.000 7...</td>\n",
       "      <td>0.028700</td>\n",
       "      <td>0.036975</td>\n",
       "    </tr>\n",
       "    <tr>\n",
       "      <th>2</th>\n",
       "      <td>0.05100</td>\n",
       "      <td>POLYGON ((466580.000 7988920.000, 466580.000 7...</td>\n",
       "      <td>0.029925</td>\n",
       "      <td>0.040300</td>\n",
       "    </tr>\n",
       "    <tr>\n",
       "      <th>3</th>\n",
       "      <td>0.04170</td>\n",
       "      <td>POLYGON ((466540.000 7988900.000, 466540.000 7...</td>\n",
       "      <td>0.052525</td>\n",
       "      <td>0.084300</td>\n",
       "    </tr>\n",
       "    <tr>\n",
       "      <th>4</th>\n",
       "      <td>0.04045</td>\n",
       "      <td>POLYGON ((466560.000 7988900.000, 466560.000 7...</td>\n",
       "      <td>0.029100</td>\n",
       "      <td>0.038600</td>\n",
       "    </tr>\n",
       "  </tbody>\n",
       "</table>\n",
       "</div>"
      ],
      "text/plain": [
       "    BAND_1                                           geometry    BAND_2  \\\n",
       "0  0.03430  POLYGON ((466540.000 7988920.000, 466540.000 7...  0.032150   \n",
       "1  0.04265  POLYGON ((466560.000 7988920.000, 466560.000 7...  0.028700   \n",
       "2  0.05100  POLYGON ((466580.000 7988920.000, 466580.000 7...  0.029925   \n",
       "3  0.04170  POLYGON ((466540.000 7988900.000, 466540.000 7...  0.052525   \n",
       "4  0.04045  POLYGON ((466560.000 7988900.000, 466560.000 7...  0.029100   \n",
       "\n",
       "     BAND_3  \n",
       "0  0.043875  \n",
       "1  0.036975  \n",
       "2  0.040300  \n",
       "3  0.084300  \n",
       "4  0.038600  "
      ]
     },
     "execution_count": 8,
     "metadata": {},
     "output_type": "execute_result"
    }
   ],
   "source": [
    "b3 = gpd.read_file('4_Converter_Shape/B03.shp')\n",
    "dados['BAND_3'] = b3['VALUE']\n",
    "del(b3)\n",
    "dados.head()"
   ]
  },
  {
   "cell_type": "code",
   "execution_count": 9,
   "metadata": {},
   "outputs": [
    {
     "data": {
      "text/html": [
       "<div>\n",
       "<style scoped>\n",
       "    .dataframe tbody tr th:only-of-type {\n",
       "        vertical-align: middle;\n",
       "    }\n",
       "\n",
       "    .dataframe tbody tr th {\n",
       "        vertical-align: top;\n",
       "    }\n",
       "\n",
       "    .dataframe thead th {\n",
       "        text-align: right;\n",
       "    }\n",
       "</style>\n",
       "<table border=\"1\" class=\"dataframe\">\n",
       "  <thead>\n",
       "    <tr style=\"text-align: right;\">\n",
       "      <th></th>\n",
       "      <th>BAND_1</th>\n",
       "      <th>geometry</th>\n",
       "      <th>BAND_2</th>\n",
       "      <th>BAND_3</th>\n",
       "      <th>BAND_4</th>\n",
       "    </tr>\n",
       "  </thead>\n",
       "  <tbody>\n",
       "    <tr>\n",
       "      <th>0</th>\n",
       "      <td>0.03430</td>\n",
       "      <td>POLYGON ((466540.000 7988920.000, 466540.000 7...</td>\n",
       "      <td>0.032150</td>\n",
       "      <td>0.043875</td>\n",
       "      <td>0.049050</td>\n",
       "    </tr>\n",
       "    <tr>\n",
       "      <th>1</th>\n",
       "      <td>0.04265</td>\n",
       "      <td>POLYGON ((466560.000 7988920.000, 466560.000 7...</td>\n",
       "      <td>0.028700</td>\n",
       "      <td>0.036975</td>\n",
       "      <td>0.031375</td>\n",
       "    </tr>\n",
       "    <tr>\n",
       "      <th>2</th>\n",
       "      <td>0.05100</td>\n",
       "      <td>POLYGON ((466580.000 7988920.000, 466580.000 7...</td>\n",
       "      <td>0.029925</td>\n",
       "      <td>0.040300</td>\n",
       "      <td>0.037175</td>\n",
       "    </tr>\n",
       "    <tr>\n",
       "      <th>3</th>\n",
       "      <td>0.04170</td>\n",
       "      <td>POLYGON ((466540.000 7988900.000, 466540.000 7...</td>\n",
       "      <td>0.052525</td>\n",
       "      <td>0.084300</td>\n",
       "      <td>0.114975</td>\n",
       "    </tr>\n",
       "    <tr>\n",
       "      <th>4</th>\n",
       "      <td>0.04045</td>\n",
       "      <td>POLYGON ((466560.000 7988900.000, 466560.000 7...</td>\n",
       "      <td>0.029100</td>\n",
       "      <td>0.038600</td>\n",
       "      <td>0.035350</td>\n",
       "    </tr>\n",
       "  </tbody>\n",
       "</table>\n",
       "</div>"
      ],
      "text/plain": [
       "    BAND_1                                           geometry    BAND_2  \\\n",
       "0  0.03430  POLYGON ((466540.000 7988920.000, 466540.000 7...  0.032150   \n",
       "1  0.04265  POLYGON ((466560.000 7988920.000, 466560.000 7...  0.028700   \n",
       "2  0.05100  POLYGON ((466580.000 7988920.000, 466580.000 7...  0.029925   \n",
       "3  0.04170  POLYGON ((466540.000 7988900.000, 466540.000 7...  0.052525   \n",
       "4  0.04045  POLYGON ((466560.000 7988900.000, 466560.000 7...  0.029100   \n",
       "\n",
       "     BAND_3    BAND_4  \n",
       "0  0.043875  0.049050  \n",
       "1  0.036975  0.031375  \n",
       "2  0.040300  0.037175  \n",
       "3  0.084300  0.114975  \n",
       "4  0.038600  0.035350  "
      ]
     },
     "execution_count": 9,
     "metadata": {},
     "output_type": "execute_result"
    }
   ],
   "source": [
    "b4 = gpd.read_file('4_Converter_Shape/B04.shp')\n",
    "dados['BAND_4'] = b4['VALUE']\n",
    "del(b4)\n",
    "dados.head()"
   ]
  },
  {
   "cell_type": "code",
   "execution_count": 10,
   "metadata": {},
   "outputs": [
    {
     "data": {
      "text/html": [
       "<div>\n",
       "<style scoped>\n",
       "    .dataframe tbody tr th:only-of-type {\n",
       "        vertical-align: middle;\n",
       "    }\n",
       "\n",
       "    .dataframe tbody tr th {\n",
       "        vertical-align: top;\n",
       "    }\n",
       "\n",
       "    .dataframe thead th {\n",
       "        text-align: right;\n",
       "    }\n",
       "</style>\n",
       "<table border=\"1\" class=\"dataframe\">\n",
       "  <thead>\n",
       "    <tr style=\"text-align: right;\">\n",
       "      <th></th>\n",
       "      <th>BAND_1</th>\n",
       "      <th>geometry</th>\n",
       "      <th>BAND_2</th>\n",
       "      <th>BAND_3</th>\n",
       "      <th>BAND_4</th>\n",
       "      <th>BAND_5</th>\n",
       "    </tr>\n",
       "  </thead>\n",
       "  <tbody>\n",
       "    <tr>\n",
       "      <th>0</th>\n",
       "      <td>0.03430</td>\n",
       "      <td>POLYGON ((466540.000 7988920.000, 466540.000 7...</td>\n",
       "      <td>0.032150</td>\n",
       "      <td>0.043875</td>\n",
       "      <td>0.049050</td>\n",
       "      <td>0.0619</td>\n",
       "    </tr>\n",
       "    <tr>\n",
       "      <th>1</th>\n",
       "      <td>0.04265</td>\n",
       "      <td>POLYGON ((466560.000 7988920.000, 466560.000 7...</td>\n",
       "      <td>0.028700</td>\n",
       "      <td>0.036975</td>\n",
       "      <td>0.031375</td>\n",
       "      <td>0.0261</td>\n",
       "    </tr>\n",
       "    <tr>\n",
       "      <th>2</th>\n",
       "      <td>0.05100</td>\n",
       "      <td>POLYGON ((466580.000 7988920.000, 466580.000 7...</td>\n",
       "      <td>0.029925</td>\n",
       "      <td>0.040300</td>\n",
       "      <td>0.037175</td>\n",
       "      <td>0.0339</td>\n",
       "    </tr>\n",
       "    <tr>\n",
       "      <th>3</th>\n",
       "      <td>0.04170</td>\n",
       "      <td>POLYGON ((466540.000 7988900.000, 466540.000 7...</td>\n",
       "      <td>0.052525</td>\n",
       "      <td>0.084300</td>\n",
       "      <td>0.114975</td>\n",
       "      <td>0.1464</td>\n",
       "    </tr>\n",
       "    <tr>\n",
       "      <th>4</th>\n",
       "      <td>0.04045</td>\n",
       "      <td>POLYGON ((466560.000 7988900.000, 466560.000 7...</td>\n",
       "      <td>0.029100</td>\n",
       "      <td>0.038600</td>\n",
       "      <td>0.035350</td>\n",
       "      <td>0.0376</td>\n",
       "    </tr>\n",
       "  </tbody>\n",
       "</table>\n",
       "</div>"
      ],
      "text/plain": [
       "    BAND_1                                           geometry    BAND_2  \\\n",
       "0  0.03430  POLYGON ((466540.000 7988920.000, 466540.000 7...  0.032150   \n",
       "1  0.04265  POLYGON ((466560.000 7988920.000, 466560.000 7...  0.028700   \n",
       "2  0.05100  POLYGON ((466580.000 7988920.000, 466580.000 7...  0.029925   \n",
       "3  0.04170  POLYGON ((466540.000 7988900.000, 466540.000 7...  0.052525   \n",
       "4  0.04045  POLYGON ((466560.000 7988900.000, 466560.000 7...  0.029100   \n",
       "\n",
       "     BAND_3    BAND_4  BAND_5  \n",
       "0  0.043875  0.049050  0.0619  \n",
       "1  0.036975  0.031375  0.0261  \n",
       "2  0.040300  0.037175  0.0339  \n",
       "3  0.084300  0.114975  0.1464  \n",
       "4  0.038600  0.035350  0.0376  "
      ]
     },
     "execution_count": 10,
     "metadata": {},
     "output_type": "execute_result"
    }
   ],
   "source": [
    "b5 = gpd.read_file('4_Converter_Shape/B05.shp')\n",
    "dados['BAND_5'] = b5['VALUE']\n",
    "del(b5)\n",
    "dados.head()"
   ]
  },
  {
   "cell_type": "code",
   "execution_count": 11,
   "metadata": {},
   "outputs": [
    {
     "data": {
      "text/html": [
       "<div>\n",
       "<style scoped>\n",
       "    .dataframe tbody tr th:only-of-type {\n",
       "        vertical-align: middle;\n",
       "    }\n",
       "\n",
       "    .dataframe tbody tr th {\n",
       "        vertical-align: top;\n",
       "    }\n",
       "\n",
       "    .dataframe thead th {\n",
       "        text-align: right;\n",
       "    }\n",
       "</style>\n",
       "<table border=\"1\" class=\"dataframe\">\n",
       "  <thead>\n",
       "    <tr style=\"text-align: right;\">\n",
       "      <th></th>\n",
       "      <th>BAND_1</th>\n",
       "      <th>geometry</th>\n",
       "      <th>BAND_2</th>\n",
       "      <th>BAND_3</th>\n",
       "      <th>BAND_4</th>\n",
       "      <th>BAND_5</th>\n",
       "      <th>BAND_6</th>\n",
       "    </tr>\n",
       "  </thead>\n",
       "  <tbody>\n",
       "    <tr>\n",
       "      <th>0</th>\n",
       "      <td>0.03430</td>\n",
       "      <td>POLYGON ((466540.000 7988920.000, 466540.000 7...</td>\n",
       "      <td>0.032150</td>\n",
       "      <td>0.043875</td>\n",
       "      <td>0.049050</td>\n",
       "      <td>0.0619</td>\n",
       "      <td>0.0584</td>\n",
       "    </tr>\n",
       "    <tr>\n",
       "      <th>1</th>\n",
       "      <td>0.04265</td>\n",
       "      <td>POLYGON ((466560.000 7988920.000, 466560.000 7...</td>\n",
       "      <td>0.028700</td>\n",
       "      <td>0.036975</td>\n",
       "      <td>0.031375</td>\n",
       "      <td>0.0261</td>\n",
       "      <td>0.0239</td>\n",
       "    </tr>\n",
       "    <tr>\n",
       "      <th>2</th>\n",
       "      <td>0.05100</td>\n",
       "      <td>POLYGON ((466580.000 7988920.000, 466580.000 7...</td>\n",
       "      <td>0.029925</td>\n",
       "      <td>0.040300</td>\n",
       "      <td>0.037175</td>\n",
       "      <td>0.0339</td>\n",
       "      <td>0.0418</td>\n",
       "    </tr>\n",
       "    <tr>\n",
       "      <th>3</th>\n",
       "      <td>0.04170</td>\n",
       "      <td>POLYGON ((466540.000 7988900.000, 466540.000 7...</td>\n",
       "      <td>0.052525</td>\n",
       "      <td>0.084300</td>\n",
       "      <td>0.114975</td>\n",
       "      <td>0.1464</td>\n",
       "      <td>0.1525</td>\n",
       "    </tr>\n",
       "    <tr>\n",
       "      <th>4</th>\n",
       "      <td>0.04045</td>\n",
       "      <td>POLYGON ((466560.000 7988900.000, 466560.000 7...</td>\n",
       "      <td>0.029100</td>\n",
       "      <td>0.038600</td>\n",
       "      <td>0.035350</td>\n",
       "      <td>0.0376</td>\n",
       "      <td>0.0364</td>\n",
       "    </tr>\n",
       "  </tbody>\n",
       "</table>\n",
       "</div>"
      ],
      "text/plain": [
       "    BAND_1                                           geometry    BAND_2  \\\n",
       "0  0.03430  POLYGON ((466540.000 7988920.000, 466540.000 7...  0.032150   \n",
       "1  0.04265  POLYGON ((466560.000 7988920.000, 466560.000 7...  0.028700   \n",
       "2  0.05100  POLYGON ((466580.000 7988920.000, 466580.000 7...  0.029925   \n",
       "3  0.04170  POLYGON ((466540.000 7988900.000, 466540.000 7...  0.052525   \n",
       "4  0.04045  POLYGON ((466560.000 7988900.000, 466560.000 7...  0.029100   \n",
       "\n",
       "     BAND_3    BAND_4  BAND_5  BAND_6  \n",
       "0  0.043875  0.049050  0.0619  0.0584  \n",
       "1  0.036975  0.031375  0.0261  0.0239  \n",
       "2  0.040300  0.037175  0.0339  0.0418  \n",
       "3  0.084300  0.114975  0.1464  0.1525  \n",
       "4  0.038600  0.035350  0.0376  0.0364  "
      ]
     },
     "execution_count": 11,
     "metadata": {},
     "output_type": "execute_result"
    }
   ],
   "source": [
    "b6 = gpd.read_file('4_Converter_Shape/B06.shp')\n",
    "dados['BAND_6'] = b6['VALUE']\n",
    "del(b6)\n",
    "dados.head()"
   ]
  },
  {
   "cell_type": "code",
   "execution_count": 12,
   "metadata": {},
   "outputs": [
    {
     "data": {
      "text/html": [
       "<div>\n",
       "<style scoped>\n",
       "    .dataframe tbody tr th:only-of-type {\n",
       "        vertical-align: middle;\n",
       "    }\n",
       "\n",
       "    .dataframe tbody tr th {\n",
       "        vertical-align: top;\n",
       "    }\n",
       "\n",
       "    .dataframe thead th {\n",
       "        text-align: right;\n",
       "    }\n",
       "</style>\n",
       "<table border=\"1\" class=\"dataframe\">\n",
       "  <thead>\n",
       "    <tr style=\"text-align: right;\">\n",
       "      <th></th>\n",
       "      <th>BAND_1</th>\n",
       "      <th>geometry</th>\n",
       "      <th>BAND_2</th>\n",
       "      <th>BAND_3</th>\n",
       "      <th>BAND_4</th>\n",
       "      <th>BAND_5</th>\n",
       "      <th>BAND_6</th>\n",
       "      <th>BAND_7</th>\n",
       "    </tr>\n",
       "  </thead>\n",
       "  <tbody>\n",
       "    <tr>\n",
       "      <th>0</th>\n",
       "      <td>0.03430</td>\n",
       "      <td>POLYGON ((466540.000 7988920.000, 466540.000 7...</td>\n",
       "      <td>0.032150</td>\n",
       "      <td>0.043875</td>\n",
       "      <td>0.049050</td>\n",
       "      <td>0.0619</td>\n",
       "      <td>0.0584</td>\n",
       "      <td>0.0684</td>\n",
       "    </tr>\n",
       "    <tr>\n",
       "      <th>1</th>\n",
       "      <td>0.04265</td>\n",
       "      <td>POLYGON ((466560.000 7988920.000, 466560.000 7...</td>\n",
       "      <td>0.028700</td>\n",
       "      <td>0.036975</td>\n",
       "      <td>0.031375</td>\n",
       "      <td>0.0261</td>\n",
       "      <td>0.0239</td>\n",
       "      <td>0.0302</td>\n",
       "    </tr>\n",
       "    <tr>\n",
       "      <th>2</th>\n",
       "      <td>0.05100</td>\n",
       "      <td>POLYGON ((466580.000 7988920.000, 466580.000 7...</td>\n",
       "      <td>0.029925</td>\n",
       "      <td>0.040300</td>\n",
       "      <td>0.037175</td>\n",
       "      <td>0.0339</td>\n",
       "      <td>0.0418</td>\n",
       "      <td>0.0467</td>\n",
       "    </tr>\n",
       "    <tr>\n",
       "      <th>3</th>\n",
       "      <td>0.04170</td>\n",
       "      <td>POLYGON ((466540.000 7988900.000, 466540.000 7...</td>\n",
       "      <td>0.052525</td>\n",
       "      <td>0.084300</td>\n",
       "      <td>0.114975</td>\n",
       "      <td>0.1464</td>\n",
       "      <td>0.1525</td>\n",
       "      <td>0.1747</td>\n",
       "    </tr>\n",
       "    <tr>\n",
       "      <th>4</th>\n",
       "      <td>0.04045</td>\n",
       "      <td>POLYGON ((466560.000 7988900.000, 466560.000 7...</td>\n",
       "      <td>0.029100</td>\n",
       "      <td>0.038600</td>\n",
       "      <td>0.035350</td>\n",
       "      <td>0.0376</td>\n",
       "      <td>0.0364</td>\n",
       "      <td>0.0350</td>\n",
       "    </tr>\n",
       "  </tbody>\n",
       "</table>\n",
       "</div>"
      ],
      "text/plain": [
       "    BAND_1                                           geometry    BAND_2  \\\n",
       "0  0.03430  POLYGON ((466540.000 7988920.000, 466540.000 7...  0.032150   \n",
       "1  0.04265  POLYGON ((466560.000 7988920.000, 466560.000 7...  0.028700   \n",
       "2  0.05100  POLYGON ((466580.000 7988920.000, 466580.000 7...  0.029925   \n",
       "3  0.04170  POLYGON ((466540.000 7988900.000, 466540.000 7...  0.052525   \n",
       "4  0.04045  POLYGON ((466560.000 7988900.000, 466560.000 7...  0.029100   \n",
       "\n",
       "     BAND_3    BAND_4  BAND_5  BAND_6  BAND_7  \n",
       "0  0.043875  0.049050  0.0619  0.0584  0.0684  \n",
       "1  0.036975  0.031375  0.0261  0.0239  0.0302  \n",
       "2  0.040300  0.037175  0.0339  0.0418  0.0467  \n",
       "3  0.084300  0.114975  0.1464  0.1525  0.1747  \n",
       "4  0.038600  0.035350  0.0376  0.0364  0.0350  "
      ]
     },
     "execution_count": 12,
     "metadata": {},
     "output_type": "execute_result"
    }
   ],
   "source": [
    "b7 = gpd.read_file('4_Converter_Shape/B07.shp')\n",
    "dados['BAND_7'] = b7['VALUE']\n",
    "del(b7)\n",
    "dados.head()"
   ]
  },
  {
   "cell_type": "code",
   "execution_count": 13,
   "metadata": {},
   "outputs": [
    {
     "data": {
      "text/html": [
       "<div>\n",
       "<style scoped>\n",
       "    .dataframe tbody tr th:only-of-type {\n",
       "        vertical-align: middle;\n",
       "    }\n",
       "\n",
       "    .dataframe tbody tr th {\n",
       "        vertical-align: top;\n",
       "    }\n",
       "\n",
       "    .dataframe thead th {\n",
       "        text-align: right;\n",
       "    }\n",
       "</style>\n",
       "<table border=\"1\" class=\"dataframe\">\n",
       "  <thead>\n",
       "    <tr style=\"text-align: right;\">\n",
       "      <th></th>\n",
       "      <th>BAND_1</th>\n",
       "      <th>geometry</th>\n",
       "      <th>BAND_2</th>\n",
       "      <th>BAND_3</th>\n",
       "      <th>BAND_4</th>\n",
       "      <th>BAND_5</th>\n",
       "      <th>BAND_6</th>\n",
       "      <th>BAND_7</th>\n",
       "      <th>BAND_8</th>\n",
       "    </tr>\n",
       "  </thead>\n",
       "  <tbody>\n",
       "    <tr>\n",
       "      <th>0</th>\n",
       "      <td>0.03430</td>\n",
       "      <td>POLYGON ((466540.000 7988920.000, 466540.000 7...</td>\n",
       "      <td>0.032150</td>\n",
       "      <td>0.043875</td>\n",
       "      <td>0.049050</td>\n",
       "      <td>0.0619</td>\n",
       "      <td>0.0584</td>\n",
       "      <td>0.0684</td>\n",
       "      <td>0.061325</td>\n",
       "    </tr>\n",
       "    <tr>\n",
       "      <th>1</th>\n",
       "      <td>0.04265</td>\n",
       "      <td>POLYGON ((466560.000 7988920.000, 466560.000 7...</td>\n",
       "      <td>0.028700</td>\n",
       "      <td>0.036975</td>\n",
       "      <td>0.031375</td>\n",
       "      <td>0.0261</td>\n",
       "      <td>0.0239</td>\n",
       "      <td>0.0302</td>\n",
       "      <td>0.032975</td>\n",
       "    </tr>\n",
       "    <tr>\n",
       "      <th>2</th>\n",
       "      <td>0.05100</td>\n",
       "      <td>POLYGON ((466580.000 7988920.000, 466580.000 7...</td>\n",
       "      <td>0.029925</td>\n",
       "      <td>0.040300</td>\n",
       "      <td>0.037175</td>\n",
       "      <td>0.0339</td>\n",
       "      <td>0.0418</td>\n",
       "      <td>0.0467</td>\n",
       "      <td>0.038350</td>\n",
       "    </tr>\n",
       "    <tr>\n",
       "      <th>3</th>\n",
       "      <td>0.04170</td>\n",
       "      <td>POLYGON ((466540.000 7988900.000, 466540.000 7...</td>\n",
       "      <td>0.052525</td>\n",
       "      <td>0.084300</td>\n",
       "      <td>0.114975</td>\n",
       "      <td>0.1464</td>\n",
       "      <td>0.1525</td>\n",
       "      <td>0.1747</td>\n",
       "      <td>0.164450</td>\n",
       "    </tr>\n",
       "    <tr>\n",
       "      <th>4</th>\n",
       "      <td>0.04045</td>\n",
       "      <td>POLYGON ((466560.000 7988900.000, 466560.000 7...</td>\n",
       "      <td>0.029100</td>\n",
       "      <td>0.038600</td>\n",
       "      <td>0.035350</td>\n",
       "      <td>0.0376</td>\n",
       "      <td>0.0364</td>\n",
       "      <td>0.0350</td>\n",
       "      <td>0.036700</td>\n",
       "    </tr>\n",
       "  </tbody>\n",
       "</table>\n",
       "</div>"
      ],
      "text/plain": [
       "    BAND_1                                           geometry    BAND_2  \\\n",
       "0  0.03430  POLYGON ((466540.000 7988920.000, 466540.000 7...  0.032150   \n",
       "1  0.04265  POLYGON ((466560.000 7988920.000, 466560.000 7...  0.028700   \n",
       "2  0.05100  POLYGON ((466580.000 7988920.000, 466580.000 7...  0.029925   \n",
       "3  0.04170  POLYGON ((466540.000 7988900.000, 466540.000 7...  0.052525   \n",
       "4  0.04045  POLYGON ((466560.000 7988900.000, 466560.000 7...  0.029100   \n",
       "\n",
       "     BAND_3    BAND_4  BAND_5  BAND_6  BAND_7    BAND_8  \n",
       "0  0.043875  0.049050  0.0619  0.0584  0.0684  0.061325  \n",
       "1  0.036975  0.031375  0.0261  0.0239  0.0302  0.032975  \n",
       "2  0.040300  0.037175  0.0339  0.0418  0.0467  0.038350  \n",
       "3  0.084300  0.114975  0.1464  0.1525  0.1747  0.164450  \n",
       "4  0.038600  0.035350  0.0376  0.0364  0.0350  0.036700  "
      ]
     },
     "execution_count": 13,
     "metadata": {},
     "output_type": "execute_result"
    }
   ],
   "source": [
    "b8 = gpd.read_file('4_Converter_Shape/B08.shp')\n",
    "dados['BAND_8'] = b8['VALUE']\n",
    "del(b8)\n",
    "dados.head()"
   ]
  },
  {
   "cell_type": "code",
   "execution_count": 14,
   "metadata": {},
   "outputs": [
    {
     "data": {
      "text/html": [
       "<div>\n",
       "<style scoped>\n",
       "    .dataframe tbody tr th:only-of-type {\n",
       "        vertical-align: middle;\n",
       "    }\n",
       "\n",
       "    .dataframe tbody tr th {\n",
       "        vertical-align: top;\n",
       "    }\n",
       "\n",
       "    .dataframe thead th {\n",
       "        text-align: right;\n",
       "    }\n",
       "</style>\n",
       "<table border=\"1\" class=\"dataframe\">\n",
       "  <thead>\n",
       "    <tr style=\"text-align: right;\">\n",
       "      <th></th>\n",
       "      <th>BAND_1</th>\n",
       "      <th>geometry</th>\n",
       "      <th>BAND_2</th>\n",
       "      <th>BAND_3</th>\n",
       "      <th>BAND_4</th>\n",
       "      <th>BAND_5</th>\n",
       "      <th>BAND_6</th>\n",
       "      <th>BAND_7</th>\n",
       "      <th>BAND_8</th>\n",
       "      <th>BAND_8A</th>\n",
       "    </tr>\n",
       "  </thead>\n",
       "  <tbody>\n",
       "    <tr>\n",
       "      <th>0</th>\n",
       "      <td>0.03430</td>\n",
       "      <td>POLYGON ((466540.000 7988920.000, 466540.000 7...</td>\n",
       "      <td>0.032150</td>\n",
       "      <td>0.043875</td>\n",
       "      <td>0.049050</td>\n",
       "      <td>0.0619</td>\n",
       "      <td>0.0584</td>\n",
       "      <td>0.0684</td>\n",
       "      <td>0.061325</td>\n",
       "      <td>0.0673</td>\n",
       "    </tr>\n",
       "    <tr>\n",
       "      <th>1</th>\n",
       "      <td>0.04265</td>\n",
       "      <td>POLYGON ((466560.000 7988920.000, 466560.000 7...</td>\n",
       "      <td>0.028700</td>\n",
       "      <td>0.036975</td>\n",
       "      <td>0.031375</td>\n",
       "      <td>0.0261</td>\n",
       "      <td>0.0239</td>\n",
       "      <td>0.0302</td>\n",
       "      <td>0.032975</td>\n",
       "      <td>0.0338</td>\n",
       "    </tr>\n",
       "    <tr>\n",
       "      <th>2</th>\n",
       "      <td>0.05100</td>\n",
       "      <td>POLYGON ((466580.000 7988920.000, 466580.000 7...</td>\n",
       "      <td>0.029925</td>\n",
       "      <td>0.040300</td>\n",
       "      <td>0.037175</td>\n",
       "      <td>0.0339</td>\n",
       "      <td>0.0418</td>\n",
       "      <td>0.0467</td>\n",
       "      <td>0.038350</td>\n",
       "      <td>0.0477</td>\n",
       "    </tr>\n",
       "    <tr>\n",
       "      <th>3</th>\n",
       "      <td>0.04170</td>\n",
       "      <td>POLYGON ((466540.000 7988900.000, 466540.000 7...</td>\n",
       "      <td>0.052525</td>\n",
       "      <td>0.084300</td>\n",
       "      <td>0.114975</td>\n",
       "      <td>0.1464</td>\n",
       "      <td>0.1525</td>\n",
       "      <td>0.1747</td>\n",
       "      <td>0.164450</td>\n",
       "      <td>0.1762</td>\n",
       "    </tr>\n",
       "    <tr>\n",
       "      <th>4</th>\n",
       "      <td>0.04045</td>\n",
       "      <td>POLYGON ((466560.000 7988900.000, 466560.000 7...</td>\n",
       "      <td>0.029100</td>\n",
       "      <td>0.038600</td>\n",
       "      <td>0.035350</td>\n",
       "      <td>0.0376</td>\n",
       "      <td>0.0364</td>\n",
       "      <td>0.0350</td>\n",
       "      <td>0.036700</td>\n",
       "      <td>0.0446</td>\n",
       "    </tr>\n",
       "  </tbody>\n",
       "</table>\n",
       "</div>"
      ],
      "text/plain": [
       "    BAND_1                                           geometry    BAND_2  \\\n",
       "0  0.03430  POLYGON ((466540.000 7988920.000, 466540.000 7...  0.032150   \n",
       "1  0.04265  POLYGON ((466560.000 7988920.000, 466560.000 7...  0.028700   \n",
       "2  0.05100  POLYGON ((466580.000 7988920.000, 466580.000 7...  0.029925   \n",
       "3  0.04170  POLYGON ((466540.000 7988900.000, 466540.000 7...  0.052525   \n",
       "4  0.04045  POLYGON ((466560.000 7988900.000, 466560.000 7...  0.029100   \n",
       "\n",
       "     BAND_3    BAND_4  BAND_5  BAND_6  BAND_7    BAND_8  BAND_8A  \n",
       "0  0.043875  0.049050  0.0619  0.0584  0.0684  0.061325   0.0673  \n",
       "1  0.036975  0.031375  0.0261  0.0239  0.0302  0.032975   0.0338  \n",
       "2  0.040300  0.037175  0.0339  0.0418  0.0467  0.038350   0.0477  \n",
       "3  0.084300  0.114975  0.1464  0.1525  0.1747  0.164450   0.1762  \n",
       "4  0.038600  0.035350  0.0376  0.0364  0.0350  0.036700   0.0446  "
      ]
     },
     "execution_count": 14,
     "metadata": {},
     "output_type": "execute_result"
    }
   ],
   "source": [
    "b8a = gpd.read_file('4_Converter_Shape/B08A.shp')\n",
    "dados['BAND_8A'] = b8a['VALUE']\n",
    "del(b8a)\n",
    "dados.head()"
   ]
  },
  {
   "cell_type": "code",
   "execution_count": 15,
   "metadata": {},
   "outputs": [
    {
     "data": {
      "text/html": [
       "<div>\n",
       "<style scoped>\n",
       "    .dataframe tbody tr th:only-of-type {\n",
       "        vertical-align: middle;\n",
       "    }\n",
       "\n",
       "    .dataframe tbody tr th {\n",
       "        vertical-align: top;\n",
       "    }\n",
       "\n",
       "    .dataframe thead th {\n",
       "        text-align: right;\n",
       "    }\n",
       "</style>\n",
       "<table border=\"1\" class=\"dataframe\">\n",
       "  <thead>\n",
       "    <tr style=\"text-align: right;\">\n",
       "      <th></th>\n",
       "      <th>BAND_1</th>\n",
       "      <th>geometry</th>\n",
       "      <th>BAND_2</th>\n",
       "      <th>BAND_3</th>\n",
       "      <th>BAND_4</th>\n",
       "      <th>BAND_5</th>\n",
       "      <th>BAND_6</th>\n",
       "      <th>BAND_7</th>\n",
       "      <th>BAND_8</th>\n",
       "      <th>BAND_8A</th>\n",
       "      <th>BAND_9</th>\n",
       "    </tr>\n",
       "  </thead>\n",
       "  <tbody>\n",
       "    <tr>\n",
       "      <th>0</th>\n",
       "      <td>0.03430</td>\n",
       "      <td>POLYGON ((466540.000 7988920.000, 466540.000 7...</td>\n",
       "      <td>0.032150</td>\n",
       "      <td>0.043875</td>\n",
       "      <td>0.049050</td>\n",
       "      <td>0.0619</td>\n",
       "      <td>0.0584</td>\n",
       "      <td>0.0684</td>\n",
       "      <td>0.061325</td>\n",
       "      <td>0.0673</td>\n",
       "      <td>0.04000</td>\n",
       "    </tr>\n",
       "    <tr>\n",
       "      <th>1</th>\n",
       "      <td>0.04265</td>\n",
       "      <td>POLYGON ((466560.000 7988920.000, 466560.000 7...</td>\n",
       "      <td>0.028700</td>\n",
       "      <td>0.036975</td>\n",
       "      <td>0.031375</td>\n",
       "      <td>0.0261</td>\n",
       "      <td>0.0239</td>\n",
       "      <td>0.0302</td>\n",
       "      <td>0.032975</td>\n",
       "      <td>0.0338</td>\n",
       "      <td>0.05295</td>\n",
       "    </tr>\n",
       "    <tr>\n",
       "      <th>2</th>\n",
       "      <td>0.05100</td>\n",
       "      <td>POLYGON ((466580.000 7988920.000, 466580.000 7...</td>\n",
       "      <td>0.029925</td>\n",
       "      <td>0.040300</td>\n",
       "      <td>0.037175</td>\n",
       "      <td>0.0339</td>\n",
       "      <td>0.0418</td>\n",
       "      <td>0.0467</td>\n",
       "      <td>0.038350</td>\n",
       "      <td>0.0477</td>\n",
       "      <td>0.06590</td>\n",
       "    </tr>\n",
       "    <tr>\n",
       "      <th>3</th>\n",
       "      <td>0.04170</td>\n",
       "      <td>POLYGON ((466540.000 7988900.000, 466540.000 7...</td>\n",
       "      <td>0.052525</td>\n",
       "      <td>0.084300</td>\n",
       "      <td>0.114975</td>\n",
       "      <td>0.1464</td>\n",
       "      <td>0.1525</td>\n",
       "      <td>0.1747</td>\n",
       "      <td>0.164450</td>\n",
       "      <td>0.1762</td>\n",
       "      <td>0.04470</td>\n",
       "    </tr>\n",
       "    <tr>\n",
       "      <th>4</th>\n",
       "      <td>0.04045</td>\n",
       "      <td>POLYGON ((466560.000 7988900.000, 466560.000 7...</td>\n",
       "      <td>0.029100</td>\n",
       "      <td>0.038600</td>\n",
       "      <td>0.035350</td>\n",
       "      <td>0.0376</td>\n",
       "      <td>0.0364</td>\n",
       "      <td>0.0350</td>\n",
       "      <td>0.036700</td>\n",
       "      <td>0.0446</td>\n",
       "      <td>0.04310</td>\n",
       "    </tr>\n",
       "  </tbody>\n",
       "</table>\n",
       "</div>"
      ],
      "text/plain": [
       "    BAND_1                                           geometry    BAND_2  \\\n",
       "0  0.03430  POLYGON ((466540.000 7988920.000, 466540.000 7...  0.032150   \n",
       "1  0.04265  POLYGON ((466560.000 7988920.000, 466560.000 7...  0.028700   \n",
       "2  0.05100  POLYGON ((466580.000 7988920.000, 466580.000 7...  0.029925   \n",
       "3  0.04170  POLYGON ((466540.000 7988900.000, 466540.000 7...  0.052525   \n",
       "4  0.04045  POLYGON ((466560.000 7988900.000, 466560.000 7...  0.029100   \n",
       "\n",
       "     BAND_3    BAND_4  BAND_5  BAND_6  BAND_7    BAND_8  BAND_8A   BAND_9  \n",
       "0  0.043875  0.049050  0.0619  0.0584  0.0684  0.061325   0.0673  0.04000  \n",
       "1  0.036975  0.031375  0.0261  0.0239  0.0302  0.032975   0.0338  0.05295  \n",
       "2  0.040300  0.037175  0.0339  0.0418  0.0467  0.038350   0.0477  0.06590  \n",
       "3  0.084300  0.114975  0.1464  0.1525  0.1747  0.164450   0.1762  0.04470  \n",
       "4  0.038600  0.035350  0.0376  0.0364  0.0350  0.036700   0.0446  0.04310  "
      ]
     },
     "execution_count": 15,
     "metadata": {},
     "output_type": "execute_result"
    }
   ],
   "source": [
    "b9 = gpd.read_file('4_Converter_Shape/B09.shp')\n",
    "dados['BAND_9'] = b9['VALUE']\n",
    "del(b9)\n",
    "dados.head()"
   ]
  },
  {
   "cell_type": "code",
   "execution_count": 16,
   "metadata": {},
   "outputs": [
    {
     "data": {
      "text/html": [
       "<div>\n",
       "<style scoped>\n",
       "    .dataframe tbody tr th:only-of-type {\n",
       "        vertical-align: middle;\n",
       "    }\n",
       "\n",
       "    .dataframe tbody tr th {\n",
       "        vertical-align: top;\n",
       "    }\n",
       "\n",
       "    .dataframe thead th {\n",
       "        text-align: right;\n",
       "    }\n",
       "</style>\n",
       "<table border=\"1\" class=\"dataframe\">\n",
       "  <thead>\n",
       "    <tr style=\"text-align: right;\">\n",
       "      <th></th>\n",
       "      <th>BAND_1</th>\n",
       "      <th>geometry</th>\n",
       "      <th>BAND_2</th>\n",
       "      <th>BAND_3</th>\n",
       "      <th>BAND_4</th>\n",
       "      <th>BAND_5</th>\n",
       "      <th>BAND_6</th>\n",
       "      <th>BAND_7</th>\n",
       "      <th>BAND_8</th>\n",
       "      <th>BAND_8A</th>\n",
       "      <th>BAND_9</th>\n",
       "      <th>BAND_11</th>\n",
       "    </tr>\n",
       "  </thead>\n",
       "  <tbody>\n",
       "    <tr>\n",
       "      <th>0</th>\n",
       "      <td>0.03430</td>\n",
       "      <td>POLYGON ((466540.000 7988920.000, 466540.000 7...</td>\n",
       "      <td>0.032150</td>\n",
       "      <td>0.043875</td>\n",
       "      <td>0.049050</td>\n",
       "      <td>0.0619</td>\n",
       "      <td>0.0584</td>\n",
       "      <td>0.0684</td>\n",
       "      <td>0.061325</td>\n",
       "      <td>0.0673</td>\n",
       "      <td>0.04000</td>\n",
       "      <td>0.0957</td>\n",
       "    </tr>\n",
       "    <tr>\n",
       "      <th>1</th>\n",
       "      <td>0.04265</td>\n",
       "      <td>POLYGON ((466560.000 7988920.000, 466560.000 7...</td>\n",
       "      <td>0.028700</td>\n",
       "      <td>0.036975</td>\n",
       "      <td>0.031375</td>\n",
       "      <td>0.0261</td>\n",
       "      <td>0.0239</td>\n",
       "      <td>0.0302</td>\n",
       "      <td>0.032975</td>\n",
       "      <td>0.0338</td>\n",
       "      <td>0.05295</td>\n",
       "      <td>0.0438</td>\n",
       "    </tr>\n",
       "    <tr>\n",
       "      <th>2</th>\n",
       "      <td>0.05100</td>\n",
       "      <td>POLYGON ((466580.000 7988920.000, 466580.000 7...</td>\n",
       "      <td>0.029925</td>\n",
       "      <td>0.040300</td>\n",
       "      <td>0.037175</td>\n",
       "      <td>0.0339</td>\n",
       "      <td>0.0418</td>\n",
       "      <td>0.0467</td>\n",
       "      <td>0.038350</td>\n",
       "      <td>0.0477</td>\n",
       "      <td>0.06590</td>\n",
       "      <td>0.0675</td>\n",
       "    </tr>\n",
       "    <tr>\n",
       "      <th>3</th>\n",
       "      <td>0.04170</td>\n",
       "      <td>POLYGON ((466540.000 7988900.000, 466540.000 7...</td>\n",
       "      <td>0.052525</td>\n",
       "      <td>0.084300</td>\n",
       "      <td>0.114975</td>\n",
       "      <td>0.1464</td>\n",
       "      <td>0.1525</td>\n",
       "      <td>0.1747</td>\n",
       "      <td>0.164450</td>\n",
       "      <td>0.1762</td>\n",
       "      <td>0.04470</td>\n",
       "      <td>0.2004</td>\n",
       "    </tr>\n",
       "    <tr>\n",
       "      <th>4</th>\n",
       "      <td>0.04045</td>\n",
       "      <td>POLYGON ((466560.000 7988900.000, 466560.000 7...</td>\n",
       "      <td>0.029100</td>\n",
       "      <td>0.038600</td>\n",
       "      <td>0.035350</td>\n",
       "      <td>0.0376</td>\n",
       "      <td>0.0364</td>\n",
       "      <td>0.0350</td>\n",
       "      <td>0.036700</td>\n",
       "      <td>0.0446</td>\n",
       "      <td>0.04310</td>\n",
       "      <td>0.0638</td>\n",
       "    </tr>\n",
       "  </tbody>\n",
       "</table>\n",
       "</div>"
      ],
      "text/plain": [
       "    BAND_1                                           geometry    BAND_2  \\\n",
       "0  0.03430  POLYGON ((466540.000 7988920.000, 466540.000 7...  0.032150   \n",
       "1  0.04265  POLYGON ((466560.000 7988920.000, 466560.000 7...  0.028700   \n",
       "2  0.05100  POLYGON ((466580.000 7988920.000, 466580.000 7...  0.029925   \n",
       "3  0.04170  POLYGON ((466540.000 7988900.000, 466540.000 7...  0.052525   \n",
       "4  0.04045  POLYGON ((466560.000 7988900.000, 466560.000 7...  0.029100   \n",
       "\n",
       "     BAND_3    BAND_4  BAND_5  BAND_6  BAND_7    BAND_8  BAND_8A   BAND_9  \\\n",
       "0  0.043875  0.049050  0.0619  0.0584  0.0684  0.061325   0.0673  0.04000   \n",
       "1  0.036975  0.031375  0.0261  0.0239  0.0302  0.032975   0.0338  0.05295   \n",
       "2  0.040300  0.037175  0.0339  0.0418  0.0467  0.038350   0.0477  0.06590   \n",
       "3  0.084300  0.114975  0.1464  0.1525  0.1747  0.164450   0.1762  0.04470   \n",
       "4  0.038600  0.035350  0.0376  0.0364  0.0350  0.036700   0.0446  0.04310   \n",
       "\n",
       "   BAND_11  \n",
       "0   0.0957  \n",
       "1   0.0438  \n",
       "2   0.0675  \n",
       "3   0.2004  \n",
       "4   0.0638  "
      ]
     },
     "execution_count": 16,
     "metadata": {},
     "output_type": "execute_result"
    }
   ],
   "source": [
    "b11 = gpd.read_file('4_Converter_Shape/B11.shp')\n",
    "dados['BAND_11'] = b11['VALUE']\n",
    "del(b11)\n",
    "dados.head()"
   ]
  },
  {
   "cell_type": "code",
   "execution_count": 17,
   "metadata": {},
   "outputs": [
    {
     "data": {
      "text/html": [
       "<div>\n",
       "<style scoped>\n",
       "    .dataframe tbody tr th:only-of-type {\n",
       "        vertical-align: middle;\n",
       "    }\n",
       "\n",
       "    .dataframe tbody tr th {\n",
       "        vertical-align: top;\n",
       "    }\n",
       "\n",
       "    .dataframe thead th {\n",
       "        text-align: right;\n",
       "    }\n",
       "</style>\n",
       "<table border=\"1\" class=\"dataframe\">\n",
       "  <thead>\n",
       "    <tr style=\"text-align: right;\">\n",
       "      <th></th>\n",
       "      <th>BAND_1</th>\n",
       "      <th>geometry</th>\n",
       "      <th>BAND_2</th>\n",
       "      <th>BAND_3</th>\n",
       "      <th>BAND_4</th>\n",
       "      <th>BAND_5</th>\n",
       "      <th>BAND_6</th>\n",
       "      <th>BAND_7</th>\n",
       "      <th>BAND_8</th>\n",
       "      <th>BAND_8A</th>\n",
       "      <th>BAND_9</th>\n",
       "      <th>BAND_11</th>\n",
       "      <th>BAND_12</th>\n",
       "    </tr>\n",
       "  </thead>\n",
       "  <tbody>\n",
       "    <tr>\n",
       "      <th>0</th>\n",
       "      <td>0.03430</td>\n",
       "      <td>POLYGON ((466540.000 7988920.000, 466540.000 7...</td>\n",
       "      <td>0.032150</td>\n",
       "      <td>0.043875</td>\n",
       "      <td>0.049050</td>\n",
       "      <td>0.0619</td>\n",
       "      <td>0.0584</td>\n",
       "      <td>0.0684</td>\n",
       "      <td>0.061325</td>\n",
       "      <td>0.0673</td>\n",
       "      <td>0.04000</td>\n",
       "      <td>0.0957</td>\n",
       "      <td>0.0593</td>\n",
       "    </tr>\n",
       "    <tr>\n",
       "      <th>1</th>\n",
       "      <td>0.04265</td>\n",
       "      <td>POLYGON ((466560.000 7988920.000, 466560.000 7...</td>\n",
       "      <td>0.028700</td>\n",
       "      <td>0.036975</td>\n",
       "      <td>0.031375</td>\n",
       "      <td>0.0261</td>\n",
       "      <td>0.0239</td>\n",
       "      <td>0.0302</td>\n",
       "      <td>0.032975</td>\n",
       "      <td>0.0338</td>\n",
       "      <td>0.05295</td>\n",
       "      <td>0.0438</td>\n",
       "      <td>0.0334</td>\n",
       "    </tr>\n",
       "    <tr>\n",
       "      <th>2</th>\n",
       "      <td>0.05100</td>\n",
       "      <td>POLYGON ((466580.000 7988920.000, 466580.000 7...</td>\n",
       "      <td>0.029925</td>\n",
       "      <td>0.040300</td>\n",
       "      <td>0.037175</td>\n",
       "      <td>0.0339</td>\n",
       "      <td>0.0418</td>\n",
       "      <td>0.0467</td>\n",
       "      <td>0.038350</td>\n",
       "      <td>0.0477</td>\n",
       "      <td>0.06590</td>\n",
       "      <td>0.0675</td>\n",
       "      <td>0.0507</td>\n",
       "    </tr>\n",
       "    <tr>\n",
       "      <th>3</th>\n",
       "      <td>0.04170</td>\n",
       "      <td>POLYGON ((466540.000 7988900.000, 466540.000 7...</td>\n",
       "      <td>0.052525</td>\n",
       "      <td>0.084300</td>\n",
       "      <td>0.114975</td>\n",
       "      <td>0.1464</td>\n",
       "      <td>0.1525</td>\n",
       "      <td>0.1747</td>\n",
       "      <td>0.164450</td>\n",
       "      <td>0.1762</td>\n",
       "      <td>0.04470</td>\n",
       "      <td>0.2004</td>\n",
       "      <td>0.1349</td>\n",
       "    </tr>\n",
       "    <tr>\n",
       "      <th>4</th>\n",
       "      <td>0.04045</td>\n",
       "      <td>POLYGON ((466560.000 7988900.000, 466560.000 7...</td>\n",
       "      <td>0.029100</td>\n",
       "      <td>0.038600</td>\n",
       "      <td>0.035350</td>\n",
       "      <td>0.0376</td>\n",
       "      <td>0.0364</td>\n",
       "      <td>0.0350</td>\n",
       "      <td>0.036700</td>\n",
       "      <td>0.0446</td>\n",
       "      <td>0.04310</td>\n",
       "      <td>0.0638</td>\n",
       "      <td>0.0415</td>\n",
       "    </tr>\n",
       "  </tbody>\n",
       "</table>\n",
       "</div>"
      ],
      "text/plain": [
       "    BAND_1                                           geometry    BAND_2  \\\n",
       "0  0.03430  POLYGON ((466540.000 7988920.000, 466540.000 7...  0.032150   \n",
       "1  0.04265  POLYGON ((466560.000 7988920.000, 466560.000 7...  0.028700   \n",
       "2  0.05100  POLYGON ((466580.000 7988920.000, 466580.000 7...  0.029925   \n",
       "3  0.04170  POLYGON ((466540.000 7988900.000, 466540.000 7...  0.052525   \n",
       "4  0.04045  POLYGON ((466560.000 7988900.000, 466560.000 7...  0.029100   \n",
       "\n",
       "     BAND_3    BAND_4  BAND_5  BAND_6  BAND_7    BAND_8  BAND_8A   BAND_9  \\\n",
       "0  0.043875  0.049050  0.0619  0.0584  0.0684  0.061325   0.0673  0.04000   \n",
       "1  0.036975  0.031375  0.0261  0.0239  0.0302  0.032975   0.0338  0.05295   \n",
       "2  0.040300  0.037175  0.0339  0.0418  0.0467  0.038350   0.0477  0.06590   \n",
       "3  0.084300  0.114975  0.1464  0.1525  0.1747  0.164450   0.1762  0.04470   \n",
       "4  0.038600  0.035350  0.0376  0.0364  0.0350  0.036700   0.0446  0.04310   \n",
       "\n",
       "   BAND_11  BAND_12  \n",
       "0   0.0957   0.0593  \n",
       "1   0.0438   0.0334  \n",
       "2   0.0675   0.0507  \n",
       "3   0.2004   0.1349  \n",
       "4   0.0638   0.0415  "
      ]
     },
     "execution_count": 17,
     "metadata": {},
     "output_type": "execute_result"
    }
   ],
   "source": [
    "b12 = gpd.read_file('4_Converter_Shape/B12.shp')\n",
    "dados['BAND_12'] = b12['VALUE']\n",
    "del(b12)\n",
    "dados.head()"
   ]
  },
  {
   "cell_type": "code",
   "execution_count": 18,
   "metadata": {},
   "outputs": [
    {
     "data": {
      "text/html": [
       "<div>\n",
       "<style scoped>\n",
       "    .dataframe tbody tr th:only-of-type {\n",
       "        vertical-align: middle;\n",
       "    }\n",
       "\n",
       "    .dataframe tbody tr th {\n",
       "        vertical-align: top;\n",
       "    }\n",
       "\n",
       "    .dataframe thead th {\n",
       "        text-align: right;\n",
       "    }\n",
       "</style>\n",
       "<table border=\"1\" class=\"dataframe\">\n",
       "  <thead>\n",
       "    <tr style=\"text-align: right;\">\n",
       "      <th></th>\n",
       "      <th>geometry</th>\n",
       "      <th>BAND_1</th>\n",
       "      <th>BAND_2</th>\n",
       "      <th>BAND_3</th>\n",
       "      <th>BAND_4</th>\n",
       "      <th>BAND_5</th>\n",
       "      <th>BAND_6</th>\n",
       "      <th>BAND_7</th>\n",
       "      <th>BAND_8</th>\n",
       "      <th>BAND_8A</th>\n",
       "      <th>BAND_9</th>\n",
       "      <th>BAND_11</th>\n",
       "      <th>BAND_12</th>\n",
       "    </tr>\n",
       "  </thead>\n",
       "  <tbody>\n",
       "    <tr>\n",
       "      <th>0</th>\n",
       "      <td>POLYGON ((466540.000 7988920.000, 466540.000 7...</td>\n",
       "      <td>0.03430</td>\n",
       "      <td>0.032150</td>\n",
       "      <td>0.043875</td>\n",
       "      <td>0.049050</td>\n",
       "      <td>0.0619</td>\n",
       "      <td>0.0584</td>\n",
       "      <td>0.0684</td>\n",
       "      <td>0.061325</td>\n",
       "      <td>0.0673</td>\n",
       "      <td>0.04000</td>\n",
       "      <td>0.0957</td>\n",
       "      <td>0.0593</td>\n",
       "    </tr>\n",
       "    <tr>\n",
       "      <th>1</th>\n",
       "      <td>POLYGON ((466560.000 7988920.000, 466560.000 7...</td>\n",
       "      <td>0.04265</td>\n",
       "      <td>0.028700</td>\n",
       "      <td>0.036975</td>\n",
       "      <td>0.031375</td>\n",
       "      <td>0.0261</td>\n",
       "      <td>0.0239</td>\n",
       "      <td>0.0302</td>\n",
       "      <td>0.032975</td>\n",
       "      <td>0.0338</td>\n",
       "      <td>0.05295</td>\n",
       "      <td>0.0438</td>\n",
       "      <td>0.0334</td>\n",
       "    </tr>\n",
       "    <tr>\n",
       "      <th>2</th>\n",
       "      <td>POLYGON ((466580.000 7988920.000, 466580.000 7...</td>\n",
       "      <td>0.05100</td>\n",
       "      <td>0.029925</td>\n",
       "      <td>0.040300</td>\n",
       "      <td>0.037175</td>\n",
       "      <td>0.0339</td>\n",
       "      <td>0.0418</td>\n",
       "      <td>0.0467</td>\n",
       "      <td>0.038350</td>\n",
       "      <td>0.0477</td>\n",
       "      <td>0.06590</td>\n",
       "      <td>0.0675</td>\n",
       "      <td>0.0507</td>\n",
       "    </tr>\n",
       "    <tr>\n",
       "      <th>3</th>\n",
       "      <td>POLYGON ((466540.000 7988900.000, 466540.000 7...</td>\n",
       "      <td>0.04170</td>\n",
       "      <td>0.052525</td>\n",
       "      <td>0.084300</td>\n",
       "      <td>0.114975</td>\n",
       "      <td>0.1464</td>\n",
       "      <td>0.1525</td>\n",
       "      <td>0.1747</td>\n",
       "      <td>0.164450</td>\n",
       "      <td>0.1762</td>\n",
       "      <td>0.04470</td>\n",
       "      <td>0.2004</td>\n",
       "      <td>0.1349</td>\n",
       "    </tr>\n",
       "    <tr>\n",
       "      <th>4</th>\n",
       "      <td>POLYGON ((466560.000 7988900.000, 466560.000 7...</td>\n",
       "      <td>0.04045</td>\n",
       "      <td>0.029100</td>\n",
       "      <td>0.038600</td>\n",
       "      <td>0.035350</td>\n",
       "      <td>0.0376</td>\n",
       "      <td>0.0364</td>\n",
       "      <td>0.0350</td>\n",
       "      <td>0.036700</td>\n",
       "      <td>0.0446</td>\n",
       "      <td>0.04310</td>\n",
       "      <td>0.0638</td>\n",
       "      <td>0.0415</td>\n",
       "    </tr>\n",
       "  </tbody>\n",
       "</table>\n",
       "</div>"
      ],
      "text/plain": [
       "                                            geometry   BAND_1    BAND_2  \\\n",
       "0  POLYGON ((466540.000 7988920.000, 466540.000 7...  0.03430  0.032150   \n",
       "1  POLYGON ((466560.000 7988920.000, 466560.000 7...  0.04265  0.028700   \n",
       "2  POLYGON ((466580.000 7988920.000, 466580.000 7...  0.05100  0.029925   \n",
       "3  POLYGON ((466540.000 7988900.000, 466540.000 7...  0.04170  0.052525   \n",
       "4  POLYGON ((466560.000 7988900.000, 466560.000 7...  0.04045  0.029100   \n",
       "\n",
       "     BAND_3    BAND_4  BAND_5  BAND_6  BAND_7    BAND_8  BAND_8A   BAND_9  \\\n",
       "0  0.043875  0.049050  0.0619  0.0584  0.0684  0.061325   0.0673  0.04000   \n",
       "1  0.036975  0.031375  0.0261  0.0239  0.0302  0.032975   0.0338  0.05295   \n",
       "2  0.040300  0.037175  0.0339  0.0418  0.0467  0.038350   0.0477  0.06590   \n",
       "3  0.084300  0.114975  0.1464  0.1525  0.1747  0.164450   0.1762  0.04470   \n",
       "4  0.038600  0.035350  0.0376  0.0364  0.0350  0.036700   0.0446  0.04310   \n",
       "\n",
       "   BAND_11  BAND_12  \n",
       "0   0.0957   0.0593  \n",
       "1   0.0438   0.0334  \n",
       "2   0.0675   0.0507  \n",
       "3   0.2004   0.1349  \n",
       "4   0.0638   0.0415  "
      ]
     },
     "execution_count": 18,
     "metadata": {},
     "output_type": "execute_result"
    }
   ],
   "source": [
    "colunas_base = ['geometry', 'BAND_1','BAND_2','BAND_3','BAND_4','BAND_5','BAND_6','BAND_7','BAND_8','BAND_8A','BAND_9','BAND_11','BAND_12']\n",
    "dados = dados[colunas_base]\n",
    "dados.head()"
   ]
  },
  {
   "cell_type": "code",
   "execution_count": 19,
   "metadata": {},
   "outputs": [],
   "source": [
    "# codigo bruno\n",
    "dados.to_pickle(\"221011_mapa_baixa_turbidez.pkl\")"
   ]
  },
  {
   "cell_type": "code",
   "execution_count": null,
   "metadata": {},
   "outputs": [],
   "source": [
    "#testar load do arquivo salvo\n",
    "unpickled_df = pd.read_pickle(\"mapa.pkl\")\n",
    "unpickled_df"
   ]
  },
  {
   "cell_type": "code",
   "execution_count": null,
   "metadata": {},
   "outputs": [],
   "source": []
  },
  {
   "cell_type": "code",
   "execution_count": null,
   "metadata": {},
   "outputs": [],
   "source": []
  },
  {
   "cell_type": "code",
   "execution_count": null,
   "metadata": {},
   "outputs": [],
   "source": [
    "colunas_interesse = colunas_base = ['BAND_1','BAND_2','BAND_3','BAND_4','BAND_5','BAND_6','BAND_7','BAND_8','BAND_8A','BAND_9','BAND_11','BAND_12']"
   ]
  },
  {
   "cell_type": "code",
   "execution_count": null,
   "metadata": {},
   "outputs": [],
   "source": [
    "X_atributos = dados[colunas_interesse].values"
   ]
  },
  {
   "cell_type": "code",
   "execution_count": null,
   "metadata": {},
   "outputs": [],
   "source": [
    "X_atributos"
   ]
  },
  {
   "cell_type": "code",
   "execution_count": null,
   "metadata": {},
   "outputs": [],
   "source": [
    "X_atributos = sc.transform(X_atributos)\n",
    "X_atributos"
   ]
  },
  {
   "cell_type": "code",
   "execution_count": null,
   "metadata": {},
   "outputs": [],
   "source": []
  },
  {
   "cell_type": "code",
   "execution_count": null,
   "metadata": {},
   "outputs": [],
   "source": [
    "y_previsoes_atributos = modelo_5L_100.predict(X_atributos)"
   ]
  },
  {
   "cell_type": "code",
   "execution_count": null,
   "metadata": {},
   "outputs": [],
   "source": []
  },
  {
   "cell_type": "code",
   "execution_count": null,
   "metadata": {},
   "outputs": [],
   "source": [
    "#y_previsoes_atributos = linear_regression.predict(X_atributos)"
   ]
  },
  {
   "cell_type": "code",
   "execution_count": null,
   "metadata": {},
   "outputs": [],
   "source": [
    "y_previsoes_atributos.shape"
   ]
  },
  {
   "cell_type": "code",
   "execution_count": null,
   "metadata": {},
   "outputs": [],
   "source": []
  },
  {
   "cell_type": "code",
   "execution_count": null,
   "metadata": {},
   "outputs": [],
   "source": [
    "atributos_previstos = dados.copy()\n",
    "del(dados)\n",
    "atributos_previstos.head()"
   ]
  },
  {
   "cell_type": "code",
   "execution_count": null,
   "metadata": {},
   "outputs": [],
   "source": [
    "atributos_previstos['variavel'] = y_previsoes_atributos\n",
    "atributos_previstos.head()"
   ]
  },
  {
   "cell_type": "code",
   "execution_count": null,
   "metadata": {},
   "outputs": [],
   "source": [
    "atributos_previstos_1 = atributos_previstos[['geometry', 'variavel']]\n",
    "del(atributos_previstos)\n",
    "atributos_previstos_1.head()"
   ]
  },
  {
   "cell_type": "code",
   "execution_count": null,
   "metadata": {},
   "outputs": [],
   "source": [
    "atributos_previstos_1.shape"
   ]
  },
  {
   "cell_type": "code",
   "execution_count": null,
   "metadata": {},
   "outputs": [],
   "source": [
    "atributos_previstos_1['variavel'].describe()"
   ]
  },
  {
   "cell_type": "code",
   "execution_count": null,
   "metadata": {},
   "outputs": [],
   "source": [
    "atributos_previstos_1['variavel'].value_counts()"
   ]
  },
  {
   "cell_type": "code",
   "execution_count": null,
   "metadata": {},
   "outputs": [],
   "source": [
    "from matplotlib.pylab import rcParams\n",
    "rcParams['figure.figsize'] = 10,15"
   ]
  },
  {
   "cell_type": "code",
   "execution_count": null,
   "metadata": {},
   "outputs": [],
   "source": [
    "fig, ax = plt.subplots(1, 1)\n",
    "atributos_previstos_1.plot(column='variavel', legend = True, vmin=0.0, vmax=3, ax=ax)\n",
    "ax.set_title(variavel_interesse + ' - Modelagem: Reservatório de Três Marias - 21/01/2021')"
   ]
  },
  {
   "cell_type": "code",
   "execution_count": null,
   "metadata": {},
   "outputs": [],
   "source": [
    "type(atributos_previstos_1)"
   ]
  },
  {
   "cell_type": "code",
   "execution_count": null,
   "metadata": {},
   "outputs": [],
   "source": []
  }
 ],
 "metadata": {
  "kernelspec": {
   "display_name": "Python 3 (ipykernel)",
   "language": "python",
   "name": "python3"
  },
  "language_info": {
   "codemirror_mode": {
    "name": "ipython",
    "version": 3
   },
   "file_extension": ".py",
   "mimetype": "text/x-python",
   "name": "python",
   "nbconvert_exporter": "python",
   "pygments_lexer": "ipython3",
   "version": "3.8.13"
  }
 },
 "nbformat": 4,
 "nbformat_minor": 4
}
