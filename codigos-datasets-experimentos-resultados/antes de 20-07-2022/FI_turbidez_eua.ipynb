{
 "cells": [
  {
   "cell_type": "markdown",
   "id": "8f8ad735",
   "metadata": {},
   "source": [
    "usei menos > https://machinelearningmastery.com/calculate-feature-importance-with-python/\n",
    "usei > https://machinelearningmastery.com/feature-selection-machine-learning-python/\n",
    "usei > https://machinelearningmastery.com/rfe-feature-selection-in-python/"
   ]
  },
  {
   "cell_type": "code",
   "execution_count": 1,
   "id": "2841b9a7",
   "metadata": {},
   "outputs": [],
   "source": [
    "data_salvar_modelo = '220603_eua_fi_turbidez'"
   ]
  },
  {
   "cell_type": "code",
   "execution_count": 2,
   "id": "956cf017",
   "metadata": {},
   "outputs": [],
   "source": [
    "def warn(*args, **kwargs):\n",
    "    pass\n",
    "import warnings\n",
    "warnings.warn = warn\n",
    "\n",
    "import numpy as np\n",
    "from sklearn import datasets\n",
    "from sklearn.decomposition import PCA\n",
    "import pandas as pd\n",
    "from sklearn.preprocessing import StandardScaler\n",
    "from collections import Counter\n",
    "import random\n",
    "#!pip3 install pickle5\n",
    "#import pickle5 as pickle\n",
    "import pickle\n",
    "import glob\n",
    "from matplotlib import pyplot\n",
    "\n",
    "%matplotlib inline\n",
    "from matplotlib import pyplot as plt\n",
    "plt.style.use('ggplot')\n",
    "plt.rcParams[\"axes.grid\"] = False\n",
    "\n",
    "from sklearn.model_selection import train_test_split\n",
    "from sklearn import svm\n",
    "from sklearn.metrics import plot_confusion_matrix\n",
    "from sklearn.tree import DecisionTreeClassifier\n",
    "from sklearn.model_selection import GridSearchCV\n",
    "from sklearn.metrics import classification_report, confusion_matrix, accuracy_score\n",
    "from sklearn.svm import SVC\n",
    "from sklearn.ensemble import RandomForestClassifier\n",
    "from sklearn.naive_bayes import GaussianNB\n",
    "from sklearn.linear_model import LinearRegression\n",
    "#!pip install imblearn\n",
    "from  imblearn.under_sampling  import  CondensedNearestNeighbour\n",
    "from imblearn.under_sampling import TomekLinks\n",
    "# https://machinelearningmastery.com/undersampling-algorithms-for-imbalanced-classification/\n",
    "\n",
    "#!pip install xgboost==0.90\n",
    "from xgboost import XGBClassifier\n",
    "from sklearn.preprocessing import LabelEncoder"
   ]
  },
  {
   "cell_type": "code",
   "execution_count": null,
   "id": "1ea63366",
   "metadata": {},
   "outputs": [],
   "source": [
    "'''# ler dataset\n",
    "data = pd.read_excel('4647_dataset_clorofila_classif_iqar.xlsx')\n",
    "\n",
    "df_mask = data['Dominio'] == 'Estados_Unidos'\n",
    "data = data[df_mask]\n",
    "\n",
    "df = data[['BAND_1','BAND_2','BAND_3','BAND_4','BAND_5','BAND_6','BAND_7','BAND_8','BAND_8A','BAND_9','BAND_11','BAND_12','Classe']]\n",
    "df = df.dropna()\n",
    "df['Classe'] = df['Classe'] - 1\n",
    "df"
   ]
  },
  {
   "cell_type": "code",
   "execution_count": 3,
   "id": "23d6d71e",
   "metadata": {},
   "outputs": [
    {
     "data": {
      "text/html": [
       "<div>\n",
       "<style scoped>\n",
       "    .dataframe tbody tr th:only-of-type {\n",
       "        vertical-align: middle;\n",
       "    }\n",
       "\n",
       "    .dataframe tbody tr th {\n",
       "        vertical-align: top;\n",
       "    }\n",
       "\n",
       "    .dataframe thead th {\n",
       "        text-align: right;\n",
       "    }\n",
       "</style>\n",
       "<table border=\"1\" class=\"dataframe\">\n",
       "  <thead>\n",
       "    <tr style=\"text-align: right;\">\n",
       "      <th></th>\n",
       "      <th>BAND_1</th>\n",
       "      <th>BAND_2</th>\n",
       "      <th>BAND_3</th>\n",
       "      <th>BAND_4</th>\n",
       "      <th>BAND_5</th>\n",
       "      <th>BAND_6</th>\n",
       "      <th>BAND_7</th>\n",
       "      <th>BAND_8</th>\n",
       "      <th>BAND_8A</th>\n",
       "      <th>BAND_9</th>\n",
       "      <th>BAND_11</th>\n",
       "      <th>BAND_12</th>\n",
       "      <th>Classe</th>\n",
       "    </tr>\n",
       "  </thead>\n",
       "  <tbody>\n",
       "    <tr>\n",
       "      <th>0</th>\n",
       "      <td>115.0</td>\n",
       "      <td>177.0</td>\n",
       "      <td>168.0</td>\n",
       "      <td>86.0</td>\n",
       "      <td>74.0</td>\n",
       "      <td>32.0</td>\n",
       "      <td>52.0</td>\n",
       "      <td>32.0</td>\n",
       "      <td>26.0</td>\n",
       "      <td>17.0</td>\n",
       "      <td>40.0</td>\n",
       "      <td>36.0</td>\n",
       "      <td>0</td>\n",
       "    </tr>\n",
       "    <tr>\n",
       "      <th>1</th>\n",
       "      <td>468.0</td>\n",
       "      <td>385.0</td>\n",
       "      <td>354.0</td>\n",
       "      <td>278.0</td>\n",
       "      <td>299.0</td>\n",
       "      <td>300.0</td>\n",
       "      <td>327.0</td>\n",
       "      <td>279.0</td>\n",
       "      <td>302.0</td>\n",
       "      <td>551.0</td>\n",
       "      <td>253.0</td>\n",
       "      <td>177.0</td>\n",
       "      <td>0</td>\n",
       "    </tr>\n",
       "    <tr>\n",
       "      <th>2</th>\n",
       "      <td>524.0</td>\n",
       "      <td>598.0</td>\n",
       "      <td>670.0</td>\n",
       "      <td>501.0</td>\n",
       "      <td>597.0</td>\n",
       "      <td>561.0</td>\n",
       "      <td>583.0</td>\n",
       "      <td>811.0</td>\n",
       "      <td>586.0</td>\n",
       "      <td>1638.0</td>\n",
       "      <td>529.0</td>\n",
       "      <td>345.0</td>\n",
       "      <td>0</td>\n",
       "    </tr>\n",
       "    <tr>\n",
       "      <th>3</th>\n",
       "      <td>611.0</td>\n",
       "      <td>667.0</td>\n",
       "      <td>649.0</td>\n",
       "      <td>589.0</td>\n",
       "      <td>610.0</td>\n",
       "      <td>664.0</td>\n",
       "      <td>694.0</td>\n",
       "      <td>680.0</td>\n",
       "      <td>648.0</td>\n",
       "      <td>462.0</td>\n",
       "      <td>557.0</td>\n",
       "      <td>451.0</td>\n",
       "      <td>0</td>\n",
       "    </tr>\n",
       "    <tr>\n",
       "      <th>4</th>\n",
       "      <td>468.0</td>\n",
       "      <td>385.0</td>\n",
       "      <td>354.0</td>\n",
       "      <td>278.0</td>\n",
       "      <td>299.0</td>\n",
       "      <td>300.0</td>\n",
       "      <td>327.0</td>\n",
       "      <td>279.0</td>\n",
       "      <td>302.0</td>\n",
       "      <td>551.0</td>\n",
       "      <td>253.0</td>\n",
       "      <td>177.0</td>\n",
       "      <td>0</td>\n",
       "    </tr>\n",
       "    <tr>\n",
       "      <th>...</th>\n",
       "      <td>...</td>\n",
       "      <td>...</td>\n",
       "      <td>...</td>\n",
       "      <td>...</td>\n",
       "      <td>...</td>\n",
       "      <td>...</td>\n",
       "      <td>...</td>\n",
       "      <td>...</td>\n",
       "      <td>...</td>\n",
       "      <td>...</td>\n",
       "      <td>...</td>\n",
       "      <td>...</td>\n",
       "      <td>...</td>\n",
       "    </tr>\n",
       "    <tr>\n",
       "      <th>5819</th>\n",
       "      <td>962.0</td>\n",
       "      <td>1214.0</td>\n",
       "      <td>1705.0</td>\n",
       "      <td>2225.0</td>\n",
       "      <td>2617.0</td>\n",
       "      <td>2949.0</td>\n",
       "      <td>3066.0</td>\n",
       "      <td>3088.0</td>\n",
       "      <td>3117.0</td>\n",
       "      <td>2693.0</td>\n",
       "      <td>3364.0</td>\n",
       "      <td>3019.0</td>\n",
       "      <td>3</td>\n",
       "    </tr>\n",
       "    <tr>\n",
       "      <th>5820</th>\n",
       "      <td>524.0</td>\n",
       "      <td>598.0</td>\n",
       "      <td>670.0</td>\n",
       "      <td>501.0</td>\n",
       "      <td>597.0</td>\n",
       "      <td>561.0</td>\n",
       "      <td>583.0</td>\n",
       "      <td>811.0</td>\n",
       "      <td>586.0</td>\n",
       "      <td>1638.0</td>\n",
       "      <td>529.0</td>\n",
       "      <td>345.0</td>\n",
       "      <td>3</td>\n",
       "    </tr>\n",
       "    <tr>\n",
       "      <th>5821</th>\n",
       "      <td>197.0</td>\n",
       "      <td>199.0</td>\n",
       "      <td>293.0</td>\n",
       "      <td>194.0</td>\n",
       "      <td>147.0</td>\n",
       "      <td>50.0</td>\n",
       "      <td>50.0</td>\n",
       "      <td>33.0</td>\n",
       "      <td>40.0</td>\n",
       "      <td>11.0</td>\n",
       "      <td>66.0</td>\n",
       "      <td>53.0</td>\n",
       "      <td>3</td>\n",
       "    </tr>\n",
       "    <tr>\n",
       "      <th>5822</th>\n",
       "      <td>224.0</td>\n",
       "      <td>275.0</td>\n",
       "      <td>299.0</td>\n",
       "      <td>167.0</td>\n",
       "      <td>256.0</td>\n",
       "      <td>312.0</td>\n",
       "      <td>373.0</td>\n",
       "      <td>283.0</td>\n",
       "      <td>307.0</td>\n",
       "      <td>665.0</td>\n",
       "      <td>114.0</td>\n",
       "      <td>114.0</td>\n",
       "      <td>3</td>\n",
       "    </tr>\n",
       "    <tr>\n",
       "      <th>5823</th>\n",
       "      <td>468.0</td>\n",
       "      <td>385.0</td>\n",
       "      <td>354.0</td>\n",
       "      <td>278.0</td>\n",
       "      <td>299.0</td>\n",
       "      <td>300.0</td>\n",
       "      <td>327.0</td>\n",
       "      <td>279.0</td>\n",
       "      <td>302.0</td>\n",
       "      <td>551.0</td>\n",
       "      <td>253.0</td>\n",
       "      <td>177.0</td>\n",
       "      <td>3</td>\n",
       "    </tr>\n",
       "  </tbody>\n",
       "</table>\n",
       "<p>3967 rows × 13 columns</p>\n",
       "</div>"
      ],
      "text/plain": [
       "      BAND_1  BAND_2  BAND_3  BAND_4  BAND_5  BAND_6  BAND_7  BAND_8  BAND_8A  \\\n",
       "0      115.0   177.0   168.0    86.0    74.0    32.0    52.0    32.0     26.0   \n",
       "1      468.0   385.0   354.0   278.0   299.0   300.0   327.0   279.0    302.0   \n",
       "2      524.0   598.0   670.0   501.0   597.0   561.0   583.0   811.0    586.0   \n",
       "3      611.0   667.0   649.0   589.0   610.0   664.0   694.0   680.0    648.0   \n",
       "4      468.0   385.0   354.0   278.0   299.0   300.0   327.0   279.0    302.0   \n",
       "...      ...     ...     ...     ...     ...     ...     ...     ...      ...   \n",
       "5819   962.0  1214.0  1705.0  2225.0  2617.0  2949.0  3066.0  3088.0   3117.0   \n",
       "5820   524.0   598.0   670.0   501.0   597.0   561.0   583.0   811.0    586.0   \n",
       "5821   197.0   199.0   293.0   194.0   147.0    50.0    50.0    33.0     40.0   \n",
       "5822   224.0   275.0   299.0   167.0   256.0   312.0   373.0   283.0    307.0   \n",
       "5823   468.0   385.0   354.0   278.0   299.0   300.0   327.0   279.0    302.0   \n",
       "\n",
       "      BAND_9  BAND_11  BAND_12  Classe  \n",
       "0       17.0     40.0     36.0       0  \n",
       "1      551.0    253.0    177.0       0  \n",
       "2     1638.0    529.0    345.0       0  \n",
       "3      462.0    557.0    451.0       0  \n",
       "4      551.0    253.0    177.0       0  \n",
       "...      ...      ...      ...     ...  \n",
       "5819  2693.0   3364.0   3019.0       3  \n",
       "5820  1638.0    529.0    345.0       3  \n",
       "5821    11.0     66.0     53.0       3  \n",
       "5822   665.0    114.0    114.0       3  \n",
       "5823   551.0    253.0    177.0       3  \n",
       "\n",
       "[3967 rows x 13 columns]"
      ]
     },
     "execution_count": 3,
     "metadata": {},
     "output_type": "execute_result"
    }
   ],
   "source": [
    "# pegar somente amostras com QA60 (pegar <=0) e NUVEM_SOMBRA (pegar diferente de Cloud)\n",
    "data = pd.read_csv('turbidez_classes.csv', delimiter=';')\n",
    "df_mask = data['Dominio'] == 'Estados_Unidos'\n",
    "data = data[df_mask]\n",
    "df_filtro = data.loc[(data['QA60'] <= 0) & (data['NUVEM_SOMBRA'] != 'CLOUD')]\n",
    "# apagar linhas que contem NaN\n",
    "df_filtro = df_filtro.dropna()\n",
    "# filtrar so para bandas e classe\n",
    "df = df_filtro[['BAND_1','BAND_2','BAND_3','BAND_4','BAND_5','BAND_6','BAND_7','BAND_8','BAND_8A','BAND_9','BAND_11','BAND_12','Classe']]\n",
    "df['Classe'] = df['Classe'] - 1\n",
    "df"
   ]
  },
  {
   "cell_type": "code",
   "execution_count": 4,
   "id": "88f85efa",
   "metadata": {},
   "outputs": [
    {
     "name": "stdout",
     "output_type": "stream",
     "text": [
      "Quantidade por classe:\n",
      "0    3744\n",
      "1     160\n",
      "3      37\n",
      "2      26\n",
      "Name: Classe, dtype: int64\n"
     ]
    }
   ],
   "source": [
    "# contar classes\n",
    "print('Quantidade por classe:')\n",
    "print(df['Classe'].value_counts())\n",
    "\n",
    "# filtrar por classe\n",
    "df_1 = df[df['Classe']==0]\n",
    "df_2 = df[df['Classe']==1]\n",
    "df_3 = df[df['Classe']==2]\n",
    "df_4 = df[df['Classe']==3]\n",
    "#df_5 = df[df['Classe']==5]\n",
    "#df_6 = df[df['Classe']==6]"
   ]
  },
  {
   "cell_type": "code",
   "execution_count": 8,
   "id": "524b5cac",
   "metadata": {},
   "outputs": [
    {
     "name": "stdout",
     "output_type": "stream",
     "text": [
      "Classe 1 - treino: 150 / teste: 11\n",
      "Classe 2 - treino: 150 / teste: 83\n",
      "Classe 3 - treino: 150 / teste: 110\n",
      "Classe 4 - treino: 150 / teste: 226\n",
      "Classe 5 - treino: 150 / teste: 401\n",
      "Classe 6 - treino: 150 / teste: 99\n"
     ]
    }
   ],
   "source": [
    "#separar treino e teste\n",
    "qtd_amostras_treino = 150\n",
    "\n",
    "randomlist = random.sample(range(0, df_1.shape[0]), qtd_amostras_treino)\n",
    "df_1_train = df_1.iloc[randomlist]\n",
    "df_1_test = df_1.drop(df_1.index[randomlist])\n",
    "\n",
    "randomlist = random.sample(range(0, df_2.shape[0]), qtd_amostras_treino)\n",
    "df_2_train = df_2.iloc[randomlist]\n",
    "df_2_test = df_2.drop(df_2.index[randomlist])\n",
    "\n",
    "randomlist = random.sample(range(0, df_3.shape[0]), qtd_amostras_treino)\n",
    "df_3_train = df_3.iloc[randomlist]\n",
    "df_3_test = df_3.drop(df_3.index[randomlist])\n",
    "\n",
    "randomlist = random.sample(range(0, df_4.shape[0]), qtd_amostras_treino)\n",
    "df_4_train = df_4.iloc[randomlist]\n",
    "df_4_test = df_4.drop(df_4.index[randomlist])\n",
    "\n",
    "randomlist = random.sample(range(0, df_5.shape[0]), qtd_amostras_treino)\n",
    "df_5_train = df_5.iloc[randomlist]\n",
    "df_5_test = df_5.drop(df_5.index[randomlist])\n",
    "\n",
    "randomlist = random.sample(range(0, df_6.shape[0]), qtd_amostras_treino)\n",
    "df_6_train = df_6.iloc[randomlist]\n",
    "df_6_test = df_6.drop(df_6.index[randomlist])\n",
    "\n",
    "print('Classe 1 - treino:', df_1_train.shape[0], '/ teste:', df_1_test.shape[0])\n",
    "print('Classe 2 - treino:', df_2_train.shape[0], '/ teste:', df_2_test.shape[0])\n",
    "print('Classe 3 - treino:', df_3_train.shape[0], '/ teste:', df_3_test.shape[0])\n",
    "print('Classe 4 - treino:', df_4_train.shape[0], '/ teste:', df_4_test.shape[0])\n",
    "print('Classe 5 - treino:', df_5_train.shape[0], '/ teste:', df_5_test.shape[0])\n",
    "print('Classe 6 - treino:', df_6_train.shape[0], '/ teste:', df_6_test.shape[0])"
   ]
  },
  {
   "cell_type": "code",
   "execution_count": 9,
   "id": "095c1595",
   "metadata": {},
   "outputs": [
    {
     "name": "stdout",
     "output_type": "stream",
     "text": [
      "Tamanho train: (900, 12) / rotulos: (900,)\n",
      "Tamanho test: (930, 12) / rotulos: (930,)\n"
     ]
    }
   ],
   "source": [
    "# concatenar dataframes\n",
    "frames_train = [df_1_train, df_2_train, df_3_train, df_4_train, df_5_train, df_6_train]\n",
    "df_train = pd.concat(frames_train)\n",
    "frames_test = [df_1_test, df_2_test, df_3_test, df_4_test, df_5_test, df_6_test]\n",
    "df_test = pd.concat(frames_test)\n",
    "#print('Tamanho train:', df_train.shape)\n",
    "#print('Tamanho test:', df_test.shape)\n",
    "\n",
    "# separar entrada e rotulo do treino e teste\n",
    "X_train = df_train.to_numpy()[:,:12]\n",
    "y_train = df_train.to_numpy()[:,12].astype(int)\n",
    "X_test = df_test.to_numpy()[:,:12]\n",
    "y_test = df_test.to_numpy()[:,12].astype(int)\n",
    "\n",
    "print('Tamanho train:', X_train.shape, '/ rotulos:', y_train.shape)\n",
    "print('Tamanho test:', X_test.shape, '/ rotulos:', y_test.shape)"
   ]
  },
  {
   "cell_type": "code",
   "execution_count": 10,
   "id": "37e9593e",
   "metadata": {},
   "outputs": [],
   "source": [
    "#padronizando dados antes do treinamento\n",
    "scaler = StandardScaler()\n",
    "\n",
    "norm_X_train = scaler.fit_transform(X_train)\n",
    "norm_X_test = scaler.transform(X_test)"
   ]
  },
  {
   "cell_type": "code",
   "execution_count": 10,
   "id": "62cee00f",
   "metadata": {},
   "outputs": [],
   "source": [
    "norm_X_train = X_train\n",
    "norm_X_test = X_test"
   ]
  },
  {
   "cell_type": "markdown",
   "id": "529ee63b",
   "metadata": {},
   "source": [
    "# Selecao univariada"
   ]
  },
  {
   "cell_type": "code",
   "execution_count": 5,
   "id": "84ee8483",
   "metadata": {},
   "outputs": [
    {
     "name": "stdout",
     "output_type": "stream",
     "text": [
      "[ 0.025  0.621  5.507  6.389 16.225  7.828  8.975  7.387  5.547  3.044\n",
      "  2.059  1.376]\n",
      "[[ 74.  32.  52.  32.]\n",
      " [299. 300. 327. 279.]\n",
      " [597. 561. 583. 811.]\n",
      " [610. 664. 694. 680.]\n",
      " [299. 300. 327. 279.]]\n"
     ]
    }
   ],
   "source": [
    "# Feature Selection with Univariate Statistical Tests\n",
    "from pandas import read_csv\n",
    "from numpy import set_printoptions\n",
    "from sklearn.feature_selection import SelectKBest\n",
    "from sklearn.feature_selection import f_classif\n",
    "\n",
    "X = df.loc[:, df.columns != 'Classe']\n",
    "Y = df['Classe']\n",
    "\n",
    "# feature extraction\n",
    "test = SelectKBest(score_func=f_classif, k=4)\n",
    "fit = test.fit(X, Y)\n",
    "# summarize scores\n",
    "set_printoptions(precision=3)\n",
    "print(fit.scores_)\n",
    "features = fit.transform(X)\n",
    "# summarize selected features\n",
    "print(features[0:5,:])"
   ]
  },
  {
   "cell_type": "markdown",
   "id": "6567ac0e",
   "metadata": {},
   "source": [
    "# RFE - Eliminação do recurso recursivo"
   ]
  },
  {
   "cell_type": "code",
   "execution_count": 6,
   "id": "af76953f",
   "metadata": {},
   "outputs": [
    {
     "name": "stdout",
     "output_type": "stream",
     "text": [
      "Num Features: 6\n",
      "Selected Features: [ True False  True False  True  True  True False False False False  True]\n",
      "Feature Ranking: [1 3 1 2 1 1 1 3 2 3 2 1]\n"
     ]
    }
   ],
   "source": [
    "# Feature Extraction with RFE\n",
    "from pandas import read_csv\n",
    "from sklearn.feature_selection import RFE\n",
    "from sklearn.linear_model import LogisticRegression\n",
    "\n",
    "X = df.loc[:, df.columns != 'Classe']\n",
    "Y = df['Classe']\n",
    "\n",
    "# feature extraction\n",
    "model = LogisticRegression(solver='lbfgs')\n",
    "rfe = RFE(model, step=3)\n",
    "fit = rfe.fit(X, Y)\n",
    "print(\"Num Features: %d\" % fit.n_features_)\n",
    "print(\"Selected Features: %s\" % fit.support_)\n",
    "print(\"Feature Ranking: %s\" % fit.ranking_)"
   ]
  },
  {
   "cell_type": "code",
   "execution_count": 7,
   "id": "7f897e65",
   "metadata": {},
   "outputs": [
    {
     "name": "stdout",
     "output_type": "stream",
     "text": [
      "Accuracy: 0.943 (0.009)\n"
     ]
    }
   ],
   "source": [
    "# evaluate RFE for classification\n",
    "from numpy import mean\n",
    "from numpy import std\n",
    "from sklearn.datasets import make_classification\n",
    "from sklearn.model_selection import cross_val_score\n",
    "from sklearn.model_selection import RepeatedStratifiedKFold\n",
    "from sklearn.feature_selection import RFE\n",
    "from sklearn.tree import DecisionTreeClassifier\n",
    "from sklearn.pipeline import Pipeline\n",
    "\n",
    "# define dataset\n",
    "X = df.loc[:, df.columns != 'Classe']\n",
    "y = df['Classe']\n",
    "\n",
    "# create pipeline\n",
    "rfe = RFE(estimator=DecisionTreeClassifier(), n_features_to_select=5)\n",
    "model = DecisionTreeClassifier()\n",
    "pipeline = Pipeline(steps=[('s',rfe),('m',model)])\n",
    "# evaluate model\n",
    "cv = RepeatedStratifiedKFold(n_splits=10, n_repeats=3, random_state=1)\n",
    "n_scores = cross_val_score(pipeline, X, y, scoring='accuracy', cv=cv, n_jobs=-1, error_score='raise')\n",
    "# report performance\n",
    "print('Accuracy: %.3f (%.3f)' % (mean(n_scores), std(n_scores)))"
   ]
  },
  {
   "cell_type": "code",
   "execution_count": 8,
   "id": "907a19f4",
   "metadata": {},
   "outputs": [
    {
     "name": "stdout",
     "output_type": "stream",
     "text": [
      ">2 0.940 (0.009)\n",
      ">3 0.943 (0.009)\n",
      ">4 0.942 (0.010)\n",
      ">5 0.943 (0.009)\n",
      ">6 0.944 (0.008)\n",
      ">7 0.944 (0.009)\n",
      ">8 0.945 (0.008)\n",
      ">9 0.944 (0.008)\n"
     ]
    },
    {
     "data": {
      "image/png": "[encoded data removed]",
      "text/plain": [
       "<Figure size 432x288 with 1 Axes>"
      ]
     },
     "metadata": {},
     "output_type": "display_data"
    }
   ],
   "source": [
    "# explore the number of selected features for RFE\n",
    "from numpy import mean\n",
    "from numpy import std\n",
    "from sklearn.datasets import make_classification\n",
    "from sklearn.model_selection import cross_val_score\n",
    "from sklearn.model_selection import RepeatedStratifiedKFold\n",
    "from sklearn.feature_selection import RFE\n",
    "from sklearn.tree import DecisionTreeClassifier\n",
    "from sklearn.pipeline import Pipeline\n",
    "from matplotlib import pyplot\n",
    "\n",
    "# get the dataset\n",
    "def get_dataset():\n",
    "    # define dataset\n",
    "    X = df.loc[:, df.columns != 'Classe']\n",
    "    y = df['Classe']\n",
    "    return X, y\n",
    "\n",
    "# get a list of models to evaluate\n",
    "def get_models():\n",
    "    models = dict()\n",
    "    for i in range(2, 10):\n",
    "        rfe = RFE(estimator=DecisionTreeClassifier(), n_features_to_select=i)\n",
    "        model = DecisionTreeClassifier()\n",
    "        models[str(i)] = Pipeline(steps=[('s',rfe),('m',model)])\n",
    "    return models\n",
    "\n",
    "# evaluate a give model using cross-validation\n",
    "def evaluate_model(model, X, y):\n",
    "    cv = RepeatedStratifiedKFold(n_splits=10, n_repeats=3, random_state=1)\n",
    "    scores = cross_val_score(model, X, y, scoring='accuracy', cv=cv, n_jobs=-1, error_score='raise')\n",
    "    return scores\n",
    "\n",
    "# define dataset\n",
    "X, y = get_dataset()\n",
    "# get the models to evaluate\n",
    "models = get_models()\n",
    "# evaluate the models and store results\n",
    "results, names = list(), list()\n",
    "for name, model in models.items():\n",
    "    scores = evaluate_model(model, X, y)\n",
    "    results.append(scores)\n",
    "    names.append(name)\n",
    "    print('>%s %.3f (%.3f)' % (name, mean(scores), std(scores)))\n",
    "# plot model performance for comparison\n",
    "pyplot.boxplot(results, labels=names, showmeans=True)\n",
    "pyplot.show()"
   ]
  },
  {
   "cell_type": "code",
   "execution_count": 9,
   "id": "f2270fc5",
   "metadata": {},
   "outputs": [
    {
     "name": "stdout",
     "output_type": "stream",
     "text": [
      "Accuracy: 0.944 (0.006)\n"
     ]
    }
   ],
   "source": [
    "# automatically select the number of features for RFE\n",
    "from numpy import mean\n",
    "from numpy import std\n",
    "from sklearn.datasets import make_classification\n",
    "from sklearn.model_selection import cross_val_score\n",
    "from sklearn.model_selection import RepeatedStratifiedKFold\n",
    "from sklearn.feature_selection import RFECV\n",
    "from sklearn.tree import DecisionTreeClassifier\n",
    "from sklearn.pipeline import Pipeline\n",
    "\n",
    "# define dataset\n",
    "X = df.loc[:, df.columns != 'Classe']\n",
    "y = df['Classe']\n",
    "\n",
    "# create pipeline\n",
    "rfe = RFECV(estimator=DecisionTreeClassifier())\n",
    "model = DecisionTreeClassifier()\n",
    "pipeline = Pipeline(steps=[('s',rfe),('m',model)])\n",
    "# evaluate model\n",
    "cv = RepeatedStratifiedKFold(n_splits=10, n_repeats=3, random_state=1)\n",
    "n_scores = cross_val_score(pipeline, X, y, scoring='accuracy', cv=cv, n_jobs=-1, error_score='raise')\n",
    "# report performance\n",
    "print('Accuracy: %.3f (%.3f)' % (mean(n_scores), std(n_scores)))"
   ]
  },
  {
   "cell_type": "code",
   "execution_count": 10,
   "id": "bd6579ae",
   "metadata": {},
   "outputs": [
    {
     "name": "stdout",
     "output_type": "stream",
     "text": [
      "Column: 0, Selected False, Rank: 4.000\n",
      "Column: 1, Selected True, Rank: 1.000\n",
      "Column: 2, Selected False, Rank: 3.000\n",
      "Column: 3, Selected False, Rank: 8.000\n",
      "Column: 4, Selected True, Rank: 1.000\n",
      "Column: 5, Selected False, Rank: 7.000\n",
      "Column: 6, Selected False, Rank: 5.000\n",
      "Column: 7, Selected True, Rank: 1.000\n",
      "Column: 8, Selected False, Rank: 6.000\n",
      "Column: 9, Selected True, Rank: 1.000\n",
      "Column: 10, Selected False, Rank: 2.000\n",
      "Column: 11, Selected True, Rank: 1.000\n"
     ]
    }
   ],
   "source": [
    "# report which features were selected by RFE\n",
    "from sklearn.datasets import make_classification\n",
    "from sklearn.feature_selection import RFE\n",
    "from sklearn.tree import DecisionTreeClassifier\n",
    "\n",
    "# define dataset\n",
    "X = df.loc[:, df.columns != 'Classe']\n",
    "y = df['Classe']\n",
    "\n",
    "# define RFE\n",
    "rfe = RFE(estimator=DecisionTreeClassifier(), n_features_to_select=5)\n",
    "# fit RFE\n",
    "rfe.fit(X, y)\n",
    "# summarize all features\n",
    "for i in range(X.shape[1]):\n",
    "    print('Column: %d, Selected %s, Rank: %.3f' % (i, rfe.support_[i], rfe.ranking_[i]))"
   ]
  },
  {
   "cell_type": "code",
   "execution_count": 16,
   "id": "1158e057",
   "metadata": {},
   "outputs": [
    {
     "name": "stdout",
     "output_type": "stream",
     "text": [
      ">lr 0.945 (0.008)\n",
      ">per 0.943 (0.009)\n",
      ">cart 0.943 (0.009)\n",
      ">rf 0.944 (0.009)\n",
      ">gbm 0.944 (0.008)\n"
     ]
    },
    {
     "data": {
      "image/png": "[encoded data removed]",
      "text/plain": [
       "<Figure size 432x288 with 1 Axes>"
      ]
     },
     "metadata": {},
     "output_type": "display_data"
    }
   ],
   "source": [
    "# explore the algorithm wrapped by RFE\n",
    "from numpy import mean\n",
    "from numpy import std\n",
    "from sklearn.datasets import make_classification\n",
    "from sklearn.model_selection import cross_val_score\n",
    "from sklearn.model_selection import RepeatedStratifiedKFold\n",
    "from sklearn.feature_selection import RFE\n",
    "from sklearn.linear_model import LogisticRegression\n",
    "from sklearn.linear_model import Perceptron\n",
    "from sklearn.tree import DecisionTreeClassifier\n",
    "from sklearn.ensemble import RandomForestClassifier\n",
    "from sklearn.ensemble import GradientBoostingClassifier\n",
    "from sklearn.pipeline import Pipeline\n",
    "from matplotlib import pyplot\n",
    "\n",
    "# get the dataset\n",
    "def get_dataset():\n",
    "    # define dataset\n",
    "    X = df.loc[:, df.columns != 'Classe']\n",
    "    y = df['Classe']\n",
    "    return X, y\n",
    "\n",
    "# get a list of models to evaluate\n",
    "def get_models():\n",
    "    models = dict()\n",
    "    # lr\n",
    "    rfe = RFE(estimator=LogisticRegression(), n_features_to_select=5)\n",
    "    model = DecisionTreeClassifier()\n",
    "    models['lr'] = Pipeline(steps=[('s',rfe),('m',model)])\n",
    "    # perceptron\n",
    "    rfe = RFE(estimator=Perceptron(), n_features_to_select=5)\n",
    "    model = DecisionTreeClassifier()\n",
    "    models['per'] = Pipeline(steps=[('s',rfe),('m',model)])\n",
    "    # cart\n",
    "    rfe = RFE(estimator=DecisionTreeClassifier(), n_features_to_select=5)\n",
    "    model = DecisionTreeClassifier()\n",
    "    models['cart'] = Pipeline(steps=[('s',rfe),('m',model)])\n",
    "    # rf\n",
    "    rfe = RFE(estimator=RandomForestClassifier(), n_features_to_select=5)\n",
    "    model = DecisionTreeClassifier()\n",
    "    models['rf'] = Pipeline(steps=[('s',rfe),('m',model)])\n",
    "    # gbm\n",
    "    rfe = RFE(estimator=GradientBoostingClassifier(), n_features_to_select=5)\n",
    "    model = DecisionTreeClassifier()\n",
    "    models['gbm'] = Pipeline(steps=[('s',rfe),('m',model)])\n",
    "    return models\n",
    "\n",
    "# evaluate a give model using cross-validation\n",
    "def evaluate_model(model, X, y):\n",
    "    cv = RepeatedStratifiedKFold(n_splits=10, n_repeats=3, random_state=1)\n",
    "    scores = cross_val_score(model, X, y, scoring='accuracy', cv=cv, n_jobs=-1)\n",
    "    return scores\n",
    "\n",
    "# define dataset\n",
    "X, y = get_dataset()\n",
    "# get the models to evaluate\n",
    "models = get_models()\n",
    "# evaluate the models and store results\n",
    "results, names = list(), list()\n",
    "for name, model in models.items():\n",
    "    scores = evaluate_model(model, X, y)\n",
    "    results.append(scores)\n",
    "    names.append(name)\n",
    "    print('>%s %.3f (%.3f)' % (name, mean(scores), std(scores)))\n",
    "# plot model performance for comparison\n",
    "pyplot.boxplot(results, labels=names, showmeans=True)\n",
    "pyplot.show()"
   ]
  },
  {
   "cell_type": "markdown",
   "id": "35e351f6",
   "metadata": {},
   "source": [
    "# PCA"
   ]
  },
  {
   "cell_type": "code",
   "execution_count": 12,
   "id": "f1d091b4",
   "metadata": {},
   "outputs": [
    {
     "name": "stdout",
     "output_type": "stream",
     "text": [
      "Explained Variance: [0.91  0.047 0.024]\n",
      "[[ 0.206  0.244  0.248  0.252  0.282  0.303  0.308  0.32   0.31   0.397\n",
      "   0.295  0.251]\n",
      " [-0.185 -0.321 -0.359 -0.325 -0.244 -0.009  0.037  0.045  0.103  0.743\n",
      "   0.048 -0.029]\n",
      " [ 0.405  0.263  0.253  0.148  0.06  -0.214 -0.268 -0.317 -0.333  0.508\n",
      "  -0.262 -0.148]]\n"
     ]
    }
   ],
   "source": [
    "# Feature Extraction with PCA\n",
    "import numpy\n",
    "from pandas import read_csv\n",
    "from sklearn.decomposition import PCA\n",
    "\n",
    "X = df.loc[:, df.columns != 'Classe']\n",
    "Y = df['Classe']\n",
    "\n",
    "# feature extraction\n",
    "pca = PCA(n_components=3)\n",
    "fit = pca.fit(X)\n",
    "# summarize components\n",
    "print(\"Explained Variance: %s\" % fit.explained_variance_ratio_)\n",
    "print(fit.components_)"
   ]
  },
  {
   "cell_type": "markdown",
   "id": "d3e82af1",
   "metadata": {},
   "source": [
    "# Importancia do recurso"
   ]
  },
  {
   "cell_type": "code",
   "execution_count": 13,
   "id": "9e3c12a4",
   "metadata": {},
   "outputs": [
    {
     "name": "stdout",
     "output_type": "stream",
     "text": [
      "[0.061 0.065 0.08  0.1   0.145 0.084 0.065 0.085 0.067 0.084 0.083 0.082]\n"
     ]
    }
   ],
   "source": [
    "# Feature Importance with Extra Trees Classifier\n",
    "from pandas import read_csv\n",
    "from sklearn.ensemble import ExtraTreesClassifier\n",
    "\n",
    "X = df.loc[:, df.columns != 'Classe']\n",
    "Y = df['Classe']\n",
    "\n",
    "# feature extraction\n",
    "model = ExtraTreesClassifier(n_estimators=10)\n",
    "model.fit(X, Y)\n",
    "print(model.feature_importances_)"
   ]
  },
  {
   "cell_type": "code",
   "execution_count": null,
   "id": "a2a6c205",
   "metadata": {},
   "outputs": [],
   "source": []
  },
  {
   "cell_type": "code",
   "execution_count": null,
   "id": "9900ccf3",
   "metadata": {},
   "outputs": [],
   "source": []
  },
  {
   "cell_type": "code",
   "execution_count": null,
   "id": "e61ddb2f",
   "metadata": {},
   "outputs": [],
   "source": []
  },
  {
   "cell_type": "code",
   "execution_count": null,
   "id": "777d2eec",
   "metadata": {},
   "outputs": [],
   "source": []
  },
  {
   "cell_type": "code",
   "execution_count": null,
   "id": "9f7d1b2b",
   "metadata": {},
   "outputs": [],
   "source": []
  },
  {
   "cell_type": "code",
   "execution_count": null,
   "id": "e9992401",
   "metadata": {},
   "outputs": [],
   "source": []
  },
  {
   "cell_type": "markdown",
   "id": "03bc5a0a",
   "metadata": {},
   "source": [
    "# Regressao linear"
   ]
  },
  {
   "cell_type": "code",
   "execution_count": 21,
   "id": "539a0575",
   "metadata": {},
   "outputs": [
    {
     "name": "stdout",
     "output_type": "stream",
     "text": [
      "Feature: 0, Score: 0.60219\n",
      "Feature: 1, Score: -4.09705\n",
      "Feature: 2, Score: 3.78175\n",
      "Feature: 3, Score: -4.09254\n",
      "Feature: 4, Score: 5.26354\n",
      "Feature: 5, Score: -6.00965\n",
      "Feature: 6, Score: 6.72487\n",
      "Feature: 7, Score: 1.58199\n",
      "Feature: 8, Score: -3.75261\n",
      "Feature: 9, Score: 0.16924\n",
      "Feature: 10, Score: 0.32437\n",
      "Feature: 11, Score: -0.52690\n"
     ]
    },
    {
     "data": {
      "image/png": "[encoded data removed]",
      "text/plain": [
       "<Figure size 432x288 with 1 Axes>"
      ]
     },
     "metadata": {},
     "output_type": "display_data"
    }
   ],
   "source": [
    "# define the model\n",
    "model = LinearRegression()\n",
    "# fit the model\n",
    "model.fit(norm_X_train, y_train)\n",
    "# get importance\n",
    "importance = model.coef_\n",
    "# summarize feature importance\n",
    "for i,v in enumerate(importance):\n",
    "    print('Feature: %0d, Score: %.5f' % (i,v))\n",
    "# plot feature importance\n",
    "pyplot.bar([x for x in range(len(importance))], importance)\n",
    "pyplot.show()"
   ]
  },
  {
   "cell_type": "markdown",
   "id": "38cd698d",
   "metadata": {},
   "source": [
    "# Arvore de decisao"
   ]
  },
  {
   "cell_type": "code",
   "execution_count": 25,
   "id": "b63dbaf2",
   "metadata": {},
   "outputs": [
    {
     "name": "stdout",
     "output_type": "stream",
     "text": [
      "Feature: 0, Score: 0.09325\n",
      "Feature: 1, Score: 0.09896\n",
      "Feature: 2, Score: 0.05980\n",
      "Feature: 3, Score: 0.11064\n",
      "Feature: 4, Score: 0.17430\n",
      "Feature: 5, Score: 0.06186\n",
      "Feature: 6, Score: 0.03029\n",
      "Feature: 7, Score: 0.06317\n",
      "Feature: 8, Score: 0.04568\n",
      "Feature: 9, Score: 0.09187\n",
      "Feature: 10, Score: 0.08781\n",
      "Feature: 11, Score: 0.08238\n"
     ]
    },
    {
     "data": {
      "image/png": "[encoded data removed]",
      "text/plain": [
       "<Figure size 432x288 with 1 Axes>"
      ]
     },
     "metadata": {},
     "output_type": "display_data"
    }
   ],
   "source": [
    "model = DecisionTreeClassifier()\n",
    "# fit the model\n",
    "model.fit(norm_X_train, y_train)\n",
    "# get importance\n",
    "importance = model.feature_importances_\n",
    "# summarize feature importance\n",
    "for i,v in enumerate(importance):\n",
    "    print('Feature: %0d, Score: %.5f' % (i,v))\n",
    "# plot feature importance\n",
    "pyplot.bar([x for x in range(len(importance))], importance)\n",
    "pyplot.show()"
   ]
  },
  {
   "cell_type": "code",
   "execution_count": null,
   "id": "1352834a",
   "metadata": {},
   "outputs": [],
   "source": []
  },
  {
   "cell_type": "code",
   "execution_count": null,
   "id": "1ebee42d",
   "metadata": {},
   "outputs": [],
   "source": []
  },
  {
   "cell_type": "code",
   "execution_count": null,
   "id": "ca1e1b71",
   "metadata": {},
   "outputs": [],
   "source": []
  },
  {
   "cell_type": "code",
   "execution_count": null,
   "id": "3b97e7f3",
   "metadata": {},
   "outputs": [],
   "source": []
  },
  {
   "cell_type": "code",
   "execution_count": null,
   "id": "b60a8122",
   "metadata": {},
   "outputs": [],
   "source": []
  },
  {
   "cell_type": "code",
   "execution_count": null,
   "id": "9105df9e",
   "metadata": {},
   "outputs": [],
   "source": []
  },
  {
   "cell_type": "code",
   "execution_count": null,
   "id": "2924f6df",
   "metadata": {},
   "outputs": [],
   "source": []
  },
  {
   "cell_type": "code",
   "execution_count": null,
   "id": "1eb167dc",
   "metadata": {},
   "outputs": [],
   "source": []
  },
  {
   "cell_type": "code",
   "execution_count": null,
   "id": "eee9fb08",
   "metadata": {},
   "outputs": [],
   "source": []
  },
  {
   "cell_type": "code",
   "execution_count": null,
   "id": "1aef79fa",
   "metadata": {},
   "outputs": [],
   "source": []
  },
  {
   "cell_type": "code",
   "execution_count": null,
   "id": "2beb4ca8",
   "metadata": {},
   "outputs": [],
   "source": []
  },
  {
   "cell_type": "code",
   "execution_count": null,
   "id": "d75aa2c0",
   "metadata": {},
   "outputs": [],
   "source": []
  },
  {
   "cell_type": "code",
   "execution_count": null,
   "id": "320596b0",
   "metadata": {},
   "outputs": [],
   "source": []
  },
  {
   "cell_type": "code",
   "execution_count": null,
   "id": "53e34d17",
   "metadata": {},
   "outputs": [],
   "source": []
  },
  {
   "cell_type": "code",
   "execution_count": null,
   "id": "255273dd",
   "metadata": {},
   "outputs": [],
   "source": []
  },
  {
   "cell_type": "code",
   "execution_count": null,
   "id": "750f470b",
   "metadata": {},
   "outputs": [],
   "source": []
  },
  {
   "cell_type": "code",
   "execution_count": null,
   "id": "4d517699",
   "metadata": {},
   "outputs": [],
   "source": []
  },
  {
   "cell_type": "code",
   "execution_count": null,
   "id": "6043ac4b",
   "metadata": {},
   "outputs": [],
   "source": []
  },
  {
   "cell_type": "markdown",
   "id": "86a01c43",
   "metadata": {},
   "source": [
    "# Naive Bayes"
   ]
  },
  {
   "cell_type": "code",
   "execution_count": 9,
   "id": "1e600a0d",
   "metadata": {
    "scrolled": false
   },
   "outputs": [
    {
     "name": "stdout",
     "output_type": "stream",
     "text": [
      "Melhores hiperparametros do modelo: {'var_smoothing': 0.001}\n",
      "\n",
      "Acuracia:  0.14193548387096774\n",
      "              precision    recall  f1-score   support\n",
      "\n",
      "           0       0.06      0.18      0.09        11\n",
      "           1       0.00      0.00      0.00        83\n",
      "           2       0.13      0.72      0.22       110\n",
      "           3       0.27      0.12      0.16       226\n",
      "           4       0.67      0.00      0.01       401\n",
      "           5       0.14      0.23      0.17        99\n",
      "\n",
      "    accuracy                           0.14       930\n",
      "   macro avg       0.21      0.21      0.11       930\n",
      "weighted avg       0.38      0.14      0.09       930\n",
      "\n"
     ]
    },
    {
     "data": {
      "image/png": "[encoded data removed]",
      "text/plain": [
       "<Figure size 432x288 with 2 Axes>"
      ]
     },
     "metadata": {},
     "output_type": "display_data"
    }
   ],
   "source": [
    "#treinar naive bayes\n",
    "\n",
    "# pesquisa em grade\n",
    "param_grid_nb = {'var_smoothing': [1e-2, 1e-3, 1e-4, 1e-5, 1e-6, 1e-7, 1e-8, 1e-9, 1e-10, 1e-11, 1e-12, 1e-13, 1e-14, 1e-15]}\n",
    "\n",
    "grid_nb = GridSearchCV(GaussianNB(),param_grid_nb,refit=True)\n",
    "grid_nb.fit(norm_X_train,y_train)\n",
    "\n",
    "print('Melhores hiperparametros do modelo:', grid_nb.best_params_)\n",
    "\n",
    "#################################\n",
    "\n",
    "# salvar o modelo no disco\n",
    "pickle.dump(grid_nb, open(data_salvar_modelo+'_nb.pkl', 'wb'))\n",
    "\n",
    "# carregar o modelo salvo em disco\n",
    "#loaded_model = pickle.load(open(data_salvar_modelo+'rf_com_cluster.pkl', 'rb'))\n",
    "#result = loaded_model.score(norm_X_teste_com_cluster, y_teste)\n",
    "#print(result)\n",
    "\n",
    "#################################\n",
    "\n",
    "# testar\n",
    "grid_nb_predictions = grid_nb.predict(norm_X_test)\n",
    "print('\\nAcuracia: ', accuracy_score(y_test, grid_nb_predictions))\n",
    "#print(confusion_matrix(y_teste,grid_nb_predictions))\n",
    "print(classification_report(y_test, grid_nb_predictions))\n",
    "\n",
    "# matrix de confusao\n",
    "matrix = plot_confusion_matrix(grid_nb, norm_X_test, y_test,cmap=plt.cm.Blues)\n",
    "plt.title('Matriz de confusao')\n",
    "plt.show(matrix)\n",
    "plt.show()"
   ]
  },
  {
   "cell_type": "markdown",
   "id": "a3000ea3",
   "metadata": {},
   "source": [
    "# SVM"
   ]
  },
  {
   "cell_type": "code",
   "execution_count": 10,
   "id": "70ac7385",
   "metadata": {},
   "outputs": [
    {
     "name": "stdout",
     "output_type": "stream",
     "text": [
      "Melhores hiperparametros do modelo: {'C': 1000, 'gamma': 1, 'kernel': 'poly'}\n",
      "\n",
      "Acuracia:  0.4236559139784946\n",
      "              precision    recall  f1-score   support\n",
      "\n",
      "           0       0.10      0.82      0.17        11\n",
      "           1       0.26      0.48      0.34        83\n",
      "           2       0.30      0.39      0.34       110\n",
      "           3       0.38      0.28      0.32       226\n",
      "           4       0.72      0.42      0.53       401\n",
      "           5       0.50      0.71      0.58        99\n",
      "\n",
      "    accuracy                           0.42       930\n",
      "   macro avg       0.38      0.52      0.38       930\n",
      "weighted avg       0.52      0.42      0.44       930\n",
      "\n"
     ]
    },
    {
     "data": {
      "image/png": "[encoded data removed]",
      "text/plain": [
       "<Figure size 432x288 with 2 Axes>"
      ]
     },
     "metadata": {},
     "output_type": "display_data"
    }
   ],
   "source": [
    "# treinar svm\n",
    "\n",
    "# pesquisa em grade\n",
    "param_grid_svm = {'C': [0.1,1, 10, 100,1000], \n",
    "                  'gamma': [1,0.1,0.01,0.001,0.0001], \n",
    "                  'kernel': ['linear', 'rbf', 'poly', 'sigmoid']}\n",
    "\n",
    "grid_svm = GridSearchCV(SVC(),param_grid_svm,refit=True, n_jobs=-1)\n",
    "grid_svm.fit(norm_X_train,y_train)\n",
    "\n",
    "print('Melhores hiperparametros do modelo:', grid_svm.best_params_)\n",
    "\n",
    "#################################\n",
    "\n",
    "# salvar o modelo no disco\n",
    "pickle.dump(grid_svm, open(data_salvar_modelo+'_svm_com_cluster.pkl', 'wb'))\n",
    "\n",
    "# carregar o modelo salvo em disco\n",
    "#loaded_model = pickle.load(open(data_salvar_modelo+'svm.pkl', 'rb'))\n",
    "#result = loaded_model.score(norm_X_teste_com_cluster, y_teste)\n",
    "#print(result)\n",
    "\n",
    "#################################\n",
    "\n",
    "# testar\n",
    "grid_svm_predictions = grid_svm.predict(norm_X_test)\n",
    "print('\\nAcuracia: ', accuracy_score(y_test, grid_svm_predictions))\n",
    "#print(confusion_matrix(y_teste,grid_svm_predictions))\n",
    "print(classification_report(y_test, grid_svm_predictions))\n",
    "\n",
    "# matrix de confusao\n",
    "matrix = plot_confusion_matrix(grid_svm, norm_X_test, y_test,cmap=plt.cm.Blues)\n",
    "plt.title('Matriz de confusao')\n",
    "plt.show(matrix)\n",
    "plt.show()"
   ]
  },
  {
   "cell_type": "markdown",
   "id": "4aa8f702",
   "metadata": {},
   "source": [
    "# Random Forest"
   ]
  },
  {
   "cell_type": "code",
   "execution_count": 11,
   "id": "9d1eee0e",
   "metadata": {},
   "outputs": [
    {
     "name": "stdout",
     "output_type": "stream",
     "text": [
      "Melhores hiperparametros do modelo: {'bootstrap': True, 'max_depth': 10, 'max_features': 'auto', 'min_samples_leaf': 1, 'min_samples_split': 2, 'n_estimators': 200}\n",
      "\n",
      "Acuracia:  0.43333333333333335\n",
      "              precision    recall  f1-score   support\n",
      "\n",
      "           0       0.14      0.73      0.23        11\n",
      "           1       0.26      0.40      0.31        83\n",
      "           2       0.33      0.39      0.36       110\n",
      "           3       0.41      0.38      0.39       226\n",
      "           4       0.72      0.41      0.52       401\n",
      "           5       0.39      0.70      0.50        99\n",
      "\n",
      "    accuracy                           0.43       930\n",
      "   macro avg       0.37      0.50      0.39       930\n",
      "weighted avg       0.52      0.43      0.45       930\n",
      "\n"
     ]
    },
    {
     "data": {
      "image/png": "[encoded data removed]",
      "text/plain": [
       "<Figure size 432x288 with 2 Axes>"
      ]
     },
     "metadata": {},
     "output_type": "display_data"
    }
   ],
   "source": [
    "#treinar random forest\n",
    "\n",
    "# pesquisa em grade\n",
    "param_grid_rf = {'bootstrap': [True, False], \n",
    "            'max_depth': [10, 20, 30, 40, 50, 60, 70, 80, 90, 100, None], \n",
    "            'max_features': ['auto', 'sqrt'], \n",
    "            'min_samples_leaf': [1, 2, 4], \n",
    "            'min_samples_split': [2, 5, 10],\n",
    "            'n_estimators': [200, 400, 600, 800, 1000, 1200, 1400, 1600, 1800, 2000]}\n",
    "\n",
    "grid_rf = GridSearchCV(RandomForestClassifier(),param_grid_rf,refit=True, n_jobs=-1)\n",
    "grid_rf.fit(norm_X_train,y_train)\n",
    "\n",
    "print('Melhores hiperparametros do modelo:', grid_rf.best_params_)\n",
    "\n",
    "#################################\n",
    "\n",
    "# salvar o modelo no disco\n",
    "pickle.dump(grid_rf, open(data_salvar_modelo+'_rf.pkl', 'wb'))\n",
    "\n",
    "# carregar o modelo salvo em disco\n",
    "#loaded_model = pickle.load(open(data_salvar_modelo+'rf_com_cluster.pkl', 'rb'))\n",
    "#result = loaded_model.score(norm_X_teste_com_cluster, y_teste)\n",
    "#print(result)\n",
    "\n",
    "#################################\n",
    "\n",
    "# testar\n",
    "grid_rf_predictions = grid_rf.predict(norm_X_test)\n",
    "print('\\nAcuracia: ', accuracy_score(y_test, grid_rf_predictions))\n",
    "#print(confusion_matrix(y_teste,grid_rf_predictions))\n",
    "print(classification_report(y_test, grid_rf_predictions))\n",
    "\n",
    "# matrix de confusao\n",
    "matrix = plot_confusion_matrix(grid_rf, norm_X_test, y_test,cmap=plt.cm.Blues)\n",
    "plt.title('Matriz de confusao')\n",
    "plt.show(matrix)\n",
    "plt.show()"
   ]
  },
  {
   "cell_type": "markdown",
   "id": "dc503683",
   "metadata": {},
   "source": [
    "# XGBoost"
   ]
  },
  {
   "cell_type": "code",
   "execution_count": 13,
   "id": "8e472309",
   "metadata": {},
   "outputs": [
    {
     "name": "stdout",
     "output_type": "stream",
     "text": [
      "Fitting 5 folds for each of 4860 candidates, totalling 24300 fits\n",
      "Melhores hiperparametros do modelo: {'colsample_bytree': 0.6, 'gamma': 0.5, 'learning_rate': 0.01, 'max_depth': 5, 'min_child_weight': 1, 'n_estimators': 700, 'subsample': 1.0}\n",
      "\n",
      "Acuracia:  0.4204301075268817\n",
      "              precision    recall  f1-score   support\n",
      "\n",
      "           0       0.12      0.55      0.20        11\n",
      "           1       0.29      0.43      0.35        83\n",
      "           2       0.31      0.45      0.37       110\n",
      "           3       0.40      0.35      0.37       226\n",
      "           4       0.69      0.40      0.51       401\n",
      "           5       0.35      0.62      0.45        99\n",
      "\n",
      "    accuracy                           0.42       930\n",
      "   macro avg       0.36      0.46      0.37       930\n",
      "weighted avg       0.50      0.42      0.43       930\n",
      "\n"
     ]
    },
    {
     "ename": "NameError",
     "evalue": "name 'norm_X_teste' is not defined",
     "output_type": "error",
     "traceback": [
      "\u001b[1;31m---------------------------------------------------------------------------\u001b[0m",
      "\u001b[1;31mNameError\u001b[0m                                 Traceback (most recent call last)",
      "Input \u001b[1;32mIn [13]\u001b[0m, in \u001b[0;36m<cell line: 43>\u001b[1;34m()\u001b[0m\n\u001b[0;32m     40\u001b[0m \u001b[38;5;28mprint\u001b[39m(classification_report(y_test\u001b[38;5;241m.\u001b[39mastype(\u001b[38;5;28mint\u001b[39m), grid_xgb_predictions))\n\u001b[0;32m     42\u001b[0m \u001b[38;5;66;03m# matrix de confusao\u001b[39;00m\n\u001b[1;32m---> 43\u001b[0m matrix \u001b[38;5;241m=\u001b[39m plot_confusion_matrix(grid_xgb, \u001b[43mnorm_X_teste\u001b[49m, y_test\u001b[38;5;241m.\u001b[39mastype(\u001b[38;5;28mint\u001b[39m), cmap\u001b[38;5;241m=\u001b[39mplt\u001b[38;5;241m.\u001b[39mcm\u001b[38;5;241m.\u001b[39mBlues,normalize\u001b[38;5;241m=\u001b[39m\u001b[38;5;124m'\u001b[39m\u001b[38;5;124mtrue\u001b[39m\u001b[38;5;124m'\u001b[39m)\n\u001b[0;32m     44\u001b[0m plt\u001b[38;5;241m.\u001b[39mtitle(\u001b[38;5;124m'\u001b[39m\u001b[38;5;124mMatriz de confusao\u001b[39m\u001b[38;5;124m'\u001b[39m)\n\u001b[0;32m     45\u001b[0m plt\u001b[38;5;241m.\u001b[39mshow(matrix)\n",
      "\u001b[1;31mNameError\u001b[0m: name 'norm_X_teste' is not defined"
     ]
    }
   ],
   "source": [
    "#treinar xgboost\n",
    "\n",
    "# pesquisa em grade\n",
    "param_grid_xgb = { 'min_child_weight': [1, 5, 10], \n",
    "                  'gamma': [0.5, 1, 1.5, 2, 5], \n",
    "                  'subsample': [0.6, 0.8, 1.0], \n",
    "                  'colsample_bytree': [0.6, 0.8, 1.0], \n",
    "                  'n_estimators': [400, 500, 600, 700], \n",
    "                  'learning_rate': [0.1, 0.01, 0.001],\n",
    "                  'max_depth': [3, 4, 5] }\n",
    "\n",
    "grid_xgb = GridSearchCV(XGBClassifier(objective='binary:logistic', \n",
    "                                      silent=True, nthread=-1, verbosity = 0, \n",
    "                                      use_label_encoder=False, n_jobs=-1),\n",
    "                        param_grid_xgb, refit=True, verbose=True)\n",
    "\n",
    "#le = LabelEncoder()\n",
    "#y_train = le.fit_transform(y_train)\n",
    "\n",
    "grid_xgb.fit(norm_X_train,y_train.astype(int))\n",
    "\n",
    "print('Melhores hiperparametros do modelo:', grid_xgb.best_params_)\n",
    "\n",
    "#################################\n",
    "\n",
    "# salvar o modelo no disco\n",
    "pickle.dump(grid_xgb, open(data_salvar_modelo+'_xgb.pkl', 'wb'))\n",
    "\n",
    "# carregar o modelo salvo em disco\n",
    "#loaded_model = pickle.load(open(data_salvar_modelo+'rf_com_cluster.pkl', 'rb'))\n",
    "#result = loaded_model.score(norm_X_teste_com_cluster, y_teste)\n",
    "#print(result)\n",
    "\n",
    "#################################\n",
    "\n",
    "# testar\n",
    "grid_xgb_predictions = grid_xgb.predict(norm_X_test)\n",
    "print('\\nAcuracia: ', accuracy_score(y_test.astype(int), grid_xgb_predictions))\n",
    "#print(confusion_matrix(y_teste,grid_xgb_predictions))\n",
    "print(classification_report(y_test.astype(int), grid_xgb_predictions))\n",
    "\n",
    "# matrix de confusao\n",
    "matrix = plot_confusion_matrix(grid_xgb, norm_X_test, y_test.astype(int), cmap=plt.cm.Blues)\n",
    "plt.title('Matriz de confusao')\n",
    "plt.show(matrix)\n",
    "plt.show()"
   ]
  },
  {
   "cell_type": "code",
   "execution_count": null,
   "id": "9eaee5cb",
   "metadata": {},
   "outputs": [],
   "source": []
  },
  {
   "cell_type": "code",
   "execution_count": null,
   "id": "a798f968",
   "metadata": {},
   "outputs": [],
   "source": []
  },
  {
   "cell_type": "code",
   "execution_count": null,
   "id": "51a6c60d",
   "metadata": {},
   "outputs": [],
   "source": []
  },
  {
   "cell_type": "code",
   "execution_count": null,
   "id": "e45c9b53",
   "metadata": {},
   "outputs": [],
   "source": []
  },
  {
   "cell_type": "code",
   "execution_count": null,
   "id": "bab0142e",
   "metadata": {},
   "outputs": [],
   "source": []
  },
  {
   "cell_type": "code",
   "execution_count": null,
   "id": "ee1388ed",
   "metadata": {},
   "outputs": [],
   "source": []
  },
  {
   "cell_type": "code",
   "execution_count": null,
   "id": "b7c52e4d",
   "metadata": {},
   "outputs": [],
   "source": []
  },
  {
   "cell_type": "code",
   "execution_count": null,
   "id": "f611e5ee",
   "metadata": {},
   "outputs": [],
   "source": []
  },
  {
   "cell_type": "code",
   "execution_count": null,
   "id": "925ba399",
   "metadata": {},
   "outputs": [],
   "source": []
  },
  {
   "cell_type": "code",
   "execution_count": null,
   "id": "5c700a63",
   "metadata": {},
   "outputs": [],
   "source": []
  },
  {
   "cell_type": "code",
   "execution_count": null,
   "id": "fb8d92ef",
   "metadata": {},
   "outputs": [],
   "source": []
  },
  {
   "cell_type": "code",
   "execution_count": null,
   "id": "a3881180",
   "metadata": {},
   "outputs": [],
   "source": []
  }
 ],
 "metadata": {
  "kernelspec": {
   "display_name": "Python 3 (ipykernel)",
   "language": "python",
   "name": "python3"
  },
  "language_info": {
   "codemirror_mode": {
    "name": "ipython",
    "version": 3
   },
   "file_extension": ".py",
   "mimetype": "text/x-python",
   "name": "python",
   "nbconvert_exporter": "python",
   "pygments_lexer": "ipython3",
   "version": "3.8.13"
  }
 },
 "nbformat": 4,
 "nbformat_minor": 5
}
