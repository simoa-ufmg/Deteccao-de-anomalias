{
 "cells": [
  {
   "cell_type": "code",
   "execution_count": 1,
   "id": "2841b9a7",
   "metadata": {},
   "outputs": [],
   "source": [
    "data_salvar_modelo = '220525_datasets'"
   ]
  },
  {
   "cell_type": "code",
   "execution_count": 1,
   "id": "956cf017",
   "metadata": {},
   "outputs": [],
   "source": [
    "def warn(*args, **kwargs):\n",
    "    pass\n",
    "import warnings\n",
    "warnings.warn = warn\n",
    "\n",
    "import numpy as np\n",
    "from sklearn import datasets\n",
    "from sklearn.decomposition import PCA\n",
    "import pandas as pd\n",
    "from sklearn.preprocessing import StandardScaler\n",
    "from collections import Counter\n",
    "import random\n",
    "#!pip3 install pickle5\n",
    "#import pickle5 as pickle\n",
    "import pickle\n",
    "import glob\n",
    "\n",
    "%matplotlib inline\n",
    "from matplotlib import pyplot as plt\n",
    "plt.style.use('ggplot')\n",
    "plt.rcParams[\"axes.grid\"] = False\n",
    "\n",
    "from sklearn.model_selection import train_test_split\n",
    "from sklearn import svm\n",
    "from sklearn.metrics import plot_confusion_matrix\n",
    "from sklearn.model_selection import GridSearchCV\n",
    "from sklearn.metrics import classification_report, confusion_matrix, accuracy_score\n",
    "from sklearn.svm import SVC\n",
    "from sklearn.ensemble import RandomForestClassifier\n",
    "from sklearn.naive_bayes import GaussianNB\n",
    "#!pip install imblearn\n",
    "from  imblearn.under_sampling  import  CondensedNearestNeighbour\n",
    "from imblearn.under_sampling import TomekLinks\n",
    "# https://machinelearningmastery.com/undersampling-algorithms-for-imbalanced-classification/\n",
    "\n",
    "#!pip install xgboost==0.90\n",
    "from xgboost import XGBClassifier\n",
    "from sklearn.preprocessing import LabelEncoder"
   ]
  },
  {
   "cell_type": "code",
   "execution_count": 3,
   "id": "1ea63366",
   "metadata": {},
   "outputs": [
    {
     "data": {
      "text/html": [
       "<div>\n",
       "<style scoped>\n",
       "    .dataframe tbody tr th:only-of-type {\n",
       "        vertical-align: middle;\n",
       "    }\n",
       "\n",
       "    .dataframe tbody tr th {\n",
       "        vertical-align: top;\n",
       "    }\n",
       "\n",
       "    .dataframe thead th {\n",
       "        text-align: right;\n",
       "    }\n",
       "</style>\n",
       "<table border=\"1\" class=\"dataframe\">\n",
       "  <thead>\n",
       "    <tr style=\"text-align: right;\">\n",
       "      <th></th>\n",
       "      <th>BAND_1</th>\n",
       "      <th>BAND_2</th>\n",
       "      <th>BAND_3</th>\n",
       "      <th>BAND_4</th>\n",
       "      <th>BAND_5</th>\n",
       "      <th>BAND_6</th>\n",
       "      <th>BAND_7</th>\n",
       "      <th>BAND_8</th>\n",
       "      <th>BAND_8A</th>\n",
       "      <th>BAND_9</th>\n",
       "      <th>BAND_11</th>\n",
       "      <th>BAND_12</th>\n",
       "      <th>Dominio</th>\n",
       "    </tr>\n",
       "  </thead>\n",
       "  <tbody>\n",
       "    <tr>\n",
       "      <th>0</th>\n",
       "      <td>31.0</td>\n",
       "      <td>51</td>\n",
       "      <td>16</td>\n",
       "      <td>1</td>\n",
       "      <td>1</td>\n",
       "      <td>1</td>\n",
       "      <td>1.0</td>\n",
       "      <td>1</td>\n",
       "      <td>1.0</td>\n",
       "      <td>1.0</td>\n",
       "      <td>1</td>\n",
       "      <td>1</td>\n",
       "      <td>Estados_Unidos</td>\n",
       "    </tr>\n",
       "    <tr>\n",
       "      <th>1</th>\n",
       "      <td>31.0</td>\n",
       "      <td>51</td>\n",
       "      <td>16</td>\n",
       "      <td>1</td>\n",
       "      <td>1</td>\n",
       "      <td>1</td>\n",
       "      <td>1.0</td>\n",
       "      <td>1</td>\n",
       "      <td>1.0</td>\n",
       "      <td>1.0</td>\n",
       "      <td>1</td>\n",
       "      <td>1</td>\n",
       "      <td>Estados_Unidos</td>\n",
       "    </tr>\n",
       "    <tr>\n",
       "      <th>2</th>\n",
       "      <td>31.0</td>\n",
       "      <td>51</td>\n",
       "      <td>16</td>\n",
       "      <td>1</td>\n",
       "      <td>1</td>\n",
       "      <td>1</td>\n",
       "      <td>1.0</td>\n",
       "      <td>1</td>\n",
       "      <td>1.0</td>\n",
       "      <td>1.0</td>\n",
       "      <td>1</td>\n",
       "      <td>1</td>\n",
       "      <td>Estados_Unidos</td>\n",
       "    </tr>\n",
       "    <tr>\n",
       "      <th>3</th>\n",
       "      <td>31.0</td>\n",
       "      <td>51</td>\n",
       "      <td>16</td>\n",
       "      <td>1</td>\n",
       "      <td>1</td>\n",
       "      <td>1</td>\n",
       "      <td>1.0</td>\n",
       "      <td>1</td>\n",
       "      <td>1.0</td>\n",
       "      <td>1.0</td>\n",
       "      <td>1</td>\n",
       "      <td>1</td>\n",
       "      <td>Estados_Unidos</td>\n",
       "    </tr>\n",
       "    <tr>\n",
       "      <th>4</th>\n",
       "      <td>31.0</td>\n",
       "      <td>51</td>\n",
       "      <td>16</td>\n",
       "      <td>1</td>\n",
       "      <td>1</td>\n",
       "      <td>1</td>\n",
       "      <td>1.0</td>\n",
       "      <td>1</td>\n",
       "      <td>1.0</td>\n",
       "      <td>1.0</td>\n",
       "      <td>1</td>\n",
       "      <td>1</td>\n",
       "      <td>Estados_Unidos</td>\n",
       "    </tr>\n",
       "    <tr>\n",
       "      <th>...</th>\n",
       "      <td>...</td>\n",
       "      <td>...</td>\n",
       "      <td>...</td>\n",
       "      <td>...</td>\n",
       "      <td>...</td>\n",
       "      <td>...</td>\n",
       "      <td>...</td>\n",
       "      <td>...</td>\n",
       "      <td>...</td>\n",
       "      <td>...</td>\n",
       "      <td>...</td>\n",
       "      <td>...</td>\n",
       "      <td>...</td>\n",
       "    </tr>\n",
       "    <tr>\n",
       "      <th>4357</th>\n",
       "      <td>3519.0</td>\n",
       "      <td>3306</td>\n",
       "      <td>3438</td>\n",
       "      <td>3500</td>\n",
       "      <td>3906</td>\n",
       "      <td>4193</td>\n",
       "      <td>4319.0</td>\n",
       "      <td>3967</td>\n",
       "      <td>4355.0</td>\n",
       "      <td>5608.0</td>\n",
       "      <td>4225</td>\n",
       "      <td>3913</td>\n",
       "      <td>Europa</td>\n",
       "    </tr>\n",
       "    <tr>\n",
       "      <th>4360</th>\n",
       "      <td>4195.0</td>\n",
       "      <td>4845</td>\n",
       "      <td>4470</td>\n",
       "      <td>4030</td>\n",
       "      <td>4431</td>\n",
       "      <td>4510</td>\n",
       "      <td>4495.0</td>\n",
       "      <td>4926</td>\n",
       "      <td>4548.0</td>\n",
       "      <td>6548.0</td>\n",
       "      <td>4599</td>\n",
       "      <td>3952</td>\n",
       "      <td>ANA</td>\n",
       "    </tr>\n",
       "    <tr>\n",
       "      <th>4361</th>\n",
       "      <td>4210.0</td>\n",
       "      <td>5399</td>\n",
       "      <td>4967</td>\n",
       "      <td>4527</td>\n",
       "      <td>4781</td>\n",
       "      <td>4357</td>\n",
       "      <td>4109.0</td>\n",
       "      <td>5068</td>\n",
       "      <td>3952.0</td>\n",
       "      <td>6951.0</td>\n",
       "      <td>4815</td>\n",
       "      <td>4130</td>\n",
       "      <td>ANA</td>\n",
       "    </tr>\n",
       "    <tr>\n",
       "      <th>4363</th>\n",
       "      <td>4011.0</td>\n",
       "      <td>3698</td>\n",
       "      <td>3711</td>\n",
       "      <td>3699</td>\n",
       "      <td>4144</td>\n",
       "      <td>4748</td>\n",
       "      <td>4895.0</td>\n",
       "      <td>5163</td>\n",
       "      <td>4981.0</td>\n",
       "      <td>7035.0</td>\n",
       "      <td>4811</td>\n",
       "      <td>4178</td>\n",
       "      <td>Europa</td>\n",
       "    </tr>\n",
       "    <tr>\n",
       "      <th>4364</th>\n",
       "      <td>3447.0</td>\n",
       "      <td>3137</td>\n",
       "      <td>3730</td>\n",
       "      <td>3970</td>\n",
       "      <td>4577</td>\n",
       "      <td>5048</td>\n",
       "      <td>5288.0</td>\n",
       "      <td>4407</td>\n",
       "      <td>5312.0</td>\n",
       "      <td>7174.0</td>\n",
       "      <td>4583</td>\n",
       "      <td>4273</td>\n",
       "      <td>PMQs</td>\n",
       "    </tr>\n",
       "  </tbody>\n",
       "</table>\n",
       "<p>3387 rows × 13 columns</p>\n",
       "</div>"
      ],
      "text/plain": [
       "      BAND_1  BAND_2  BAND_3  BAND_4  BAND_5  BAND_6  BAND_7  BAND_8  BAND_8A  \\\n",
       "0       31.0      51      16       1       1       1     1.0       1      1.0   \n",
       "1       31.0      51      16       1       1       1     1.0       1      1.0   \n",
       "2       31.0      51      16       1       1       1     1.0       1      1.0   \n",
       "3       31.0      51      16       1       1       1     1.0       1      1.0   \n",
       "4       31.0      51      16       1       1       1     1.0       1      1.0   \n",
       "...      ...     ...     ...     ...     ...     ...     ...     ...      ...   \n",
       "4357  3519.0    3306    3438    3500    3906    4193  4319.0    3967   4355.0   \n",
       "4360  4195.0    4845    4470    4030    4431    4510  4495.0    4926   4548.0   \n",
       "4361  4210.0    5399    4967    4527    4781    4357  4109.0    5068   3952.0   \n",
       "4363  4011.0    3698    3711    3699    4144    4748  4895.0    5163   4981.0   \n",
       "4364  3447.0    3137    3730    3970    4577    5048  5288.0    4407   5312.0   \n",
       "\n",
       "      BAND_9  BAND_11  BAND_12         Dominio  \n",
       "0        1.0        1        1  Estados_Unidos  \n",
       "1        1.0        1        1  Estados_Unidos  \n",
       "2        1.0        1        1  Estados_Unidos  \n",
       "3        1.0        1        1  Estados_Unidos  \n",
       "4        1.0        1        1  Estados_Unidos  \n",
       "...      ...      ...      ...             ...  \n",
       "4357  5608.0     4225     3913          Europa  \n",
       "4360  6548.0     4599     3952             ANA  \n",
       "4361  6951.0     4815     4130             ANA  \n",
       "4363  7035.0     4811     4178          Europa  \n",
       "4364  7174.0     4583     4273            PMQs  \n",
       "\n",
       "[3387 rows x 13 columns]"
      ]
     },
     "execution_count": 3,
     "metadata": {},
     "output_type": "execute_result"
    }
   ],
   "source": [
    "# ler dataset\n",
    "data = pd.read_excel('4647_dataset_clorofila_classif_iqar.xlsx')\n",
    "df_filtro = data.loc[(data['QA60'] <= 0) & (data['NUVEM_SOMBRA'] != 'CLOUD')]\n",
    "# apagar linhas que contem NaN\n",
    "df_filtro = df_filtro.dropna()\n",
    "# filtrar so para bandas e classe\n",
    "df = df_filtro[['BAND_1','BAND_2','BAND_3','BAND_4','BAND_5','BAND_6','BAND_7','BAND_8','BAND_8A','BAND_9','BAND_11','BAND_12','Dominio']]\n",
    "df"
   ]
  },
  {
   "cell_type": "code",
   "execution_count": 4,
   "id": "9c471f86",
   "metadata": {},
   "outputs": [
    {
     "name": "stdout",
     "output_type": "stream",
     "text": [
      "Quantidade por classe:\n",
      "Estados_Unidos      1830\n",
      "Europa               558\n",
      "PMQs                 494\n",
      "ANA                  175\n",
      "Campo_Geo            125\n",
      "Campo_Limnologia      89\n",
      "GemStat               44\n",
      "Canada                36\n",
      "Cetesb                36\n",
      "Name: Dominio, dtype: int64\n"
     ]
    }
   ],
   "source": [
    "# contar classes\n",
    "print('Quantidade por classe:')\n",
    "print(df['Dominio'].value_counts())\n",
    "\n",
    "# filtrar por classe\n",
    "df_0 = df[df['Dominio']=='Estados_Unidos']\n",
    "df_1 = df[df['Dominio']=='Europa']\n",
    "df_2 = df[df['Dominio']=='PMQs']\n",
    "df_3 = df[df['Dominio']=='Campo_Geo']\n",
    "df_4 = df[df['Dominio']=='Campo_Limnologia']\n",
    "df_5 = df[df['Dominio']=='GemStat']\n",
    "df_6 = df[df['Dominio']=='ANA']\n",
    "df_7 = df[df['Dominio']=='Cetesb']\n",
    "df_8 = df[df['Dominio']=='C6da']"
   ]
  },
  {
   "cell_type": "code",
   "execution_count": 27,
   "id": "524b5cac",
   "metadata": {},
   "outputs": [
    {
     "name": "stdout",
     "output_type": "stream",
     "text": [
      "Classe 0 - treino: 450 / teste: 1380\n",
      "Classe 1 - treino: 450 / teste: 108\n",
      "Classe 2 - treino: 450 / teste: 44\n"
     ]
    }
   ],
   "source": [
    "# peguei 3 datasets que tinha mais amostras\n",
    "\n",
    "#separar treino e teste\n",
    "qtd_amostras_treino = 450\n",
    "\n",
    "randomlist = random.sample(range(0, df_0.shape[0]), qtd_amostras_treino)\n",
    "df_0_train = df_0.iloc[randomlist]\n",
    "df_0_test = df_0.drop(df_0.index[randomlist])\n",
    "\n",
    "randomlist = random.sample(range(0, df_1.shape[0]), qtd_amostras_treino)\n",
    "df_1_train = df_1.iloc[randomlist]\n",
    "df_1_test = df_1.drop(df_1.index[randomlist])\n",
    "\n",
    "randomlist = random.sample(range(0, df_2.shape[0]), qtd_amostras_treino)\n",
    "df_2_train = df_2.iloc[randomlist]\n",
    "df_2_test = df_2.drop(df_2.index[randomlist])\n",
    "\n",
    "#randomlist = random.sample(range(0, df_6.shape[0]), qtd_amostras_treino)\n",
    "#df_6_train = df_6.iloc[randomlist]\n",
    "#df_6_test = df_6.drop(df_6.index[randomlist])\n",
    "\n",
    "print('Classe 0 - treino:', df_0_train.shape[0], '/ teste:', df_0_test.shape[0])\n",
    "print('Classe 1 - treino:', df_1_train.shape[0], '/ teste:', df_1_test.shape[0])\n",
    "print('Classe 2 - treino:', df_2_train.shape[0], '/ teste:', df_2_test.shape[0])\n",
    "#print('Classe 6 - treino:', df_6_train.shape[0], '/ teste:', df_6_test.shape[0])"
   ]
  },
  {
   "cell_type": "code",
   "execution_count": 28,
   "id": "095c1595",
   "metadata": {},
   "outputs": [
    {
     "name": "stdout",
     "output_type": "stream",
     "text": [
      "Tamanho train: (1350, 12) / rotulos: (1350,)\n",
      "Tamanho test: (1532, 12) / rotulos: (1532,)\n"
     ]
    }
   ],
   "source": [
    "# concatenar dataframes\n",
    "frames_train = [df_0_train, df_1_train, df_2_train]#, df_6_train]\n",
    "df_train = pd.concat(frames_train)\n",
    "frames_test = [df_0_test, df_1_test, df_2_test]#, df_6_test]\n",
    "df_test = pd.concat(frames_test)\n",
    "#print('Tamanho train:', df_train.shape)\n",
    "#print('Tamanho test:', df_test.shape)\n",
    "\n",
    "# separar entrada e rotulo do treino e teste\n",
    "X_train = df_train.to_numpy()[:,:12]\n",
    "y_train = df_train.to_numpy()[:,12].astype(int)\n",
    "X_test = df_test.to_numpy()[:,:12]\n",
    "y_test = df_test.to_numpy()[:,12].astype(int)\n",
    "\n",
    "print('Tamanho train:', X_train.shape, '/ rotulos:', y_train.shape)\n",
    "print('Tamanho test:', X_test.shape, '/ rotulos:', y_test.shape)"
   ]
  },
  {
   "cell_type": "code",
   "execution_count": 40,
   "id": "37e9593e",
   "metadata": {},
   "outputs": [],
   "source": [
    "#padronizando dados antes do treinamento\n",
    "scaler = StandardScaler()\n",
    "\n",
    "norm_X_train = scaler.fit_transform(X_train)\n",
    "norm_X_test = scaler.transform(X_test)"
   ]
  },
  {
   "cell_type": "code",
   "execution_count": 41,
   "id": "62cee00f",
   "metadata": {},
   "outputs": [],
   "source": [
    "norm_X_train = X_train\n",
    "norm_X_test = X_test"
   ]
  },
  {
   "cell_type": "code",
   "execution_count": 43,
   "id": "a30d199d",
   "metadata": {},
   "outputs": [
    {
     "data": {
      "text/plain": [
       "array([[3.100e+01, 5.100e+01, 1.600e+01, ..., 1.000e+00, 1.000e+00,\n",
       "        1.000e+00],\n",
       "       [3.100e+01, 5.100e+01, 1.600e+01, ..., 1.000e+00, 1.000e+00,\n",
       "        1.000e+00],\n",
       "       [3.100e+01, 5.100e+01, 1.600e+01, ..., 1.000e+00, 1.000e+00,\n",
       "        1.000e+00],\n",
       "       ...,\n",
       "       [1.304e+03, 1.193e+03, 1.370e+03, ..., 2.051e+03, 1.439e+03,\n",
       "        1.300e+03],\n",
       "       [1.304e+03, 1.193e+03, 1.370e+03, ..., 2.051e+03, 1.439e+03,\n",
       "        1.300e+03],\n",
       "       [1.304e+03, 1.193e+03, 1.370e+03, ..., 2.051e+03, 1.439e+03,\n",
       "        1.300e+03]])"
      ]
     },
     "execution_count": 43,
     "metadata": {},
     "output_type": "execute_result"
    }
   ],
   "source": [
    "norm_X_test"
   ]
  },
  {
   "cell_type": "markdown",
   "id": "86a01c43",
   "metadata": {},
   "source": [
    "# Naive Bayes"
   ]
  },
  {
   "cell_type": "code",
   "execution_count": 15,
   "id": "1e600a0d",
   "metadata": {
    "scrolled": false
   },
   "outputs": [
    {
     "name": "stdout",
     "output_type": "stream",
     "text": [
      "Melhores hiperparametros do modelo: {'var_smoothing': 0.001}\n",
      "\n",
      "Acuracia:  0.7813315926892951\n",
      "              precision    recall  f1-score   support\n",
      "\n",
      "           0       0.91      0.86      0.88      1380\n",
      "           1       0.07      0.09      0.08       108\n",
      "           2       0.00      0.00      0.00        44\n",
      "\n",
      "    accuracy                           0.78      1532\n",
      "   macro avg       0.33      0.32      0.32      1532\n",
      "weighted avg       0.82      0.78      0.80      1532\n",
      "\n"
     ]
    },
    {
     "data": {
      "image/png": "[encoded data removed]",
      "text/plain": [
       "<Figure size 432x288 with 2 Axes>"
      ]
     },
     "metadata": {},
     "output_type": "display_data"
    }
   ],
   "source": [
    "#treinar naive bayes\n",
    "\n",
    "# pesquisa em grade\n",
    "param_grid_nb = {'var_smoothing': [1e-2, 1e-3, 1e-4, 1e-5, 1e-6, 1e-7, 1e-8, 1e-9, 1e-10, 1e-11, 1e-12, 1e-13, 1e-14, 1e-15]}\n",
    "\n",
    "grid_nb = GridSearchCV(GaussianNB(),param_grid_nb,refit=True)\n",
    "grid_nb.fit(norm_X_train,y_train)\n",
    "\n",
    "print('Melhores hiperparametros do modelo:', grid_nb.best_params_)\n",
    "\n",
    "#################################\n",
    "\n",
    "# salvar o modelo no disco\n",
    "pickle.dump(grid_nb, open(data_salvar_modelo+'_nb.pkl', 'wb'))\n",
    "\n",
    "# carregar o modelo salvo em disco\n",
    "#loaded_model = pickle.load(open(data_salvar_modelo+'rf_com_cluster.pkl', 'rb'))\n",
    "#result = loaded_model.score(norm_X_teste_com_cluster, y_teste)\n",
    "#print(result)\n",
    "\n",
    "#################################\n",
    "\n",
    "# testar\n",
    "grid_nb_predictions = grid_nb.predict(norm_X_test)\n",
    "print('\\nAcuracia: ', accuracy_score(y_test, grid_nb_predictions))\n",
    "#print(confusion_matrix(y_teste,grid_nb_predictions))\n",
    "print(classification_report(y_test, grid_nb_predictions))\n",
    "\n",
    "# matrix de confusao\n",
    "matrix = plot_confusion_matrix(grid_nb, norm_X_test, y_test,cmap=plt.cm.Blues)\n",
    "plt.title('Matriz de confusao')\n",
    "plt.show(matrix)\n",
    "plt.show()"
   ]
  },
  {
   "cell_type": "markdown",
   "id": "a3000ea3",
   "metadata": {},
   "source": [
    "# SVM"
   ]
  },
  {
   "cell_type": "code",
   "execution_count": 18,
   "id": "70ac7385",
   "metadata": {},
   "outputs": [
    {
     "name": "stdout",
     "output_type": "stream",
     "text": [
      "Melhores hiperparametros do modelo: {'C': 100, 'gamma': 1, 'kernel': 'rbf'}\n",
      "\n",
      "Acuracia:  0.6990861618798956\n",
      "              precision    recall  f1-score   support\n",
      "\n",
      "           0       0.97      0.69      0.81      1380\n",
      "           1       0.17      0.68      0.27       108\n",
      "           2       0.34      0.91      0.50        44\n",
      "\n",
      "    accuracy                           0.70      1532\n",
      "   macro avg       0.49      0.76      0.53      1532\n",
      "weighted avg       0.89      0.70      0.76      1532\n",
      "\n"
     ]
    },
    {
     "data": {
      "image/png": "[encoded data removed]",
      "text/plain": [
       "<Figure size 432x288 with 2 Axes>"
      ]
     },
     "metadata": {},
     "output_type": "display_data"
    }
   ],
   "source": [
    "# treinar svm\n",
    "\n",
    "# pesquisa em grade\n",
    "param_grid_svm = {'C': [0.1,1, 10, 100,1000], \n",
    "                  'gamma': [1,0.1,0.01,0.001,0.0001], \n",
    "                  'kernel': ['linear', 'rbf', 'poly', 'sigmoid']}\n",
    "\n",
    "grid_svm = GridSearchCV(SVC(),param_grid_svm,refit=True, n_jobs=-1)\n",
    "grid_svm.fit(norm_X_train,y_train)\n",
    "\n",
    "print('Melhores hiperparametros do modelo:', grid_svm.best_params_)\n",
    "\n",
    "#################################\n",
    "\n",
    "# salvar o modelo no disco\n",
    "pickle.dump(grid_svm, open(data_salvar_modelo+'_svm_com_cluster.pkl', 'wb'))\n",
    "\n",
    "# carregar o modelo salvo em disco\n",
    "#loaded_model = pickle.load(open(data_salvar_modelo+'svm.pkl', 'rb'))\n",
    "#result = loaded_model.score(norm_X_teste_com_cluster, y_teste)\n",
    "#print(result)\n",
    "\n",
    "#################################\n",
    "\n",
    "# testar\n",
    "grid_svm_predictions = grid_svm.predict(norm_X_test)\n",
    "print('\\nAcuracia: ', accuracy_score(y_test, grid_svm_predictions))\n",
    "#print(confusion_matrix(y_teste,grid_svm_predictions))\n",
    "print(classification_report(y_test, grid_svm_predictions))\n",
    "\n",
    "# matrix de confusao\n",
    "matrix = plot_confusion_matrix(grid_svm, norm_X_test, y_test,cmap=plt.cm.Blues)\n",
    "plt.title('Matriz de confusao')\n",
    "plt.show(matrix)\n",
    "plt.show()"
   ]
  },
  {
   "cell_type": "markdown",
   "id": "4aa8f702",
   "metadata": {},
   "source": [
    "# Random Forest"
   ]
  },
  {
   "cell_type": "code",
   "execution_count": 19,
   "id": "9d1eee0e",
   "metadata": {},
   "outputs": [
    {
     "name": "stdout",
     "output_type": "stream",
     "text": [
      "Melhores hiperparametros do modelo: {'bootstrap': True, 'max_depth': 60, 'max_features': 'auto', 'min_samples_leaf': 1, 'min_samples_split': 2, 'n_estimators': 200}\n",
      "\n",
      "Acuracia:  0.7656657963446475\n",
      "              precision    recall  f1-score   support\n",
      "\n",
      "           0       0.98      0.76      0.86      1380\n",
      "           1       0.23      0.74      0.35       108\n",
      "           2       0.37      0.98      0.54        44\n",
      "\n",
      "    accuracy                           0.77      1532\n",
      "   macro avg       0.53      0.83      0.58      1532\n",
      "weighted avg       0.91      0.77      0.81      1532\n",
      "\n"
     ]
    },
    {
     "data": {
      "image/png": "[encoded data removed]",
      "text/plain": [
       "<Figure size 432x288 with 2 Axes>"
      ]
     },
     "metadata": {},
     "output_type": "display_data"
    }
   ],
   "source": [
    "#treinar random forest\n",
    "\n",
    "# pesquisa em grade\n",
    "param_grid_rf = {'bootstrap': [True, False], \n",
    "            'max_depth': [10, 20, 30, 40, 50, 60, 70, 80, 90, 100, None], \n",
    "            'max_features': ['auto', 'sqrt'], \n",
    "            'min_samples_leaf': [1, 2, 4], \n",
    "            'min_samples_split': [2, 5, 10],\n",
    "            'n_estimators': [200, 400, 600, 800, 1000, 1200, 1400, 1600, 1800, 2000]}\n",
    "\n",
    "grid_rf = GridSearchCV(RandomForestClassifier(),param_grid_rf,refit=True, n_jobs=-1)\n",
    "grid_rf.fit(norm_X_train,y_train)\n",
    "\n",
    "print('Melhores hiperparametros do modelo:', grid_rf.best_params_)\n",
    "\n",
    "#################################\n",
    "\n",
    "# salvar o modelo no disco\n",
    "pickle.dump(grid_rf, open(data_salvar_modelo+'_rf.pkl', 'wb'))\n",
    "\n",
    "# carregar o modelo salvo em disco\n",
    "#loaded_model = pickle.load(open(data_salvar_modelo+'rf_com_cluster.pkl', 'rb'))\n",
    "#result = loaded_model.score(norm_X_teste_com_cluster, y_teste)\n",
    "#print(result)\n",
    "\n",
    "#################################\n",
    "\n",
    "# testar\n",
    "grid_rf_predictions = grid_rf.predict(norm_X_test)\n",
    "print('\\nAcuracia: ', accuracy_score(y_test, grid_rf_predictions))\n",
    "#print(confusion_matrix(y_teste,grid_rf_predictions))\n",
    "print(classification_report(y_test, grid_rf_predictions))\n",
    "\n",
    "# matrix de confusao\n",
    "matrix = plot_confusion_matrix(grid_rf, norm_X_test, y_test,cmap=plt.cm.Blues)\n",
    "plt.title('Matriz de confusao')\n",
    "plt.show(matrix)\n",
    "plt.show()"
   ]
  },
  {
   "cell_type": "markdown",
   "id": "dc503683",
   "metadata": {},
   "source": [
    "# XGBoost"
   ]
  },
  {
   "cell_type": "code",
   "execution_count": 21,
   "id": "8e472309",
   "metadata": {},
   "outputs": [
    {
     "name": "stdout",
     "output_type": "stream",
     "text": [
      "Fitting 5 folds for each of 4860 candidates, totalling 24300 fits\n",
      "Melhores hiperparametros do modelo: {'colsample_bytree': 0.6, 'gamma': 0.5, 'learning_rate': 0.1, 'max_depth': 4, 'min_child_weight': 1, 'n_estimators': 400, 'subsample': 0.6}\n",
      "\n",
      "Acuracia:  0.7545691906005222\n",
      "              precision    recall  f1-score   support\n",
      "\n",
      "           0       0.98      0.75      0.85      1380\n",
      "           1       0.21      0.71      0.32       108\n",
      "           2       0.42      0.98      0.59        44\n",
      "\n",
      "    accuracy                           0.75      1532\n",
      "   macro avg       0.53      0.81      0.59      1532\n",
      "weighted avg       0.91      0.75      0.80      1532\n",
      "\n"
     ]
    },
    {
     "ename": "NameError",
     "evalue": "name 'norm_X_teste' is not defined",
     "output_type": "error",
     "traceback": [
      "\u001b[1;31m---------------------------------------------------------------------------\u001b[0m",
      "\u001b[1;31mNameError\u001b[0m                                 Traceback (most recent call last)",
      "Input \u001b[1;32mIn [21]\u001b[0m, in \u001b[0;36m<cell line: 43>\u001b[1;34m()\u001b[0m\n\u001b[0;32m     40\u001b[0m \u001b[38;5;28mprint\u001b[39m(classification_report(y_test\u001b[38;5;241m.\u001b[39mastype(\u001b[38;5;28mint\u001b[39m), grid_xgb_predictions))\n\u001b[0;32m     42\u001b[0m \u001b[38;5;66;03m# matrix de confusao\u001b[39;00m\n\u001b[1;32m---> 43\u001b[0m matrix \u001b[38;5;241m=\u001b[39m plot_confusion_matrix(grid_xgb, \u001b[43mnorm_X_teste\u001b[49m, y_test\u001b[38;5;241m.\u001b[39mastype(\u001b[38;5;28mint\u001b[39m), cmap\u001b[38;5;241m=\u001b[39mplt\u001b[38;5;241m.\u001b[39mcm\u001b[38;5;241m.\u001b[39mBlues,normalize\u001b[38;5;241m=\u001b[39m\u001b[38;5;124m'\u001b[39m\u001b[38;5;124mtrue\u001b[39m\u001b[38;5;124m'\u001b[39m)\n\u001b[0;32m     44\u001b[0m plt\u001b[38;5;241m.\u001b[39mtitle(\u001b[38;5;124m'\u001b[39m\u001b[38;5;124mMatriz de confusao\u001b[39m\u001b[38;5;124m'\u001b[39m)\n\u001b[0;32m     45\u001b[0m plt\u001b[38;5;241m.\u001b[39mshow(matrix)\n",
      "\u001b[1;31mNameError\u001b[0m: name 'norm_X_teste' is not defined"
     ]
    }
   ],
   "source": [
    "#treinar xgboost\n",
    "\n",
    "# pesquisa em grade\n",
    "param_grid_xgb = { 'min_child_weight': [1, 5, 10], \n",
    "                  'gamma': [0.5, 1, 1.5, 2, 5], \n",
    "                  'subsample': [0.6, 0.8, 1.0], \n",
    "                  'colsample_bytree': [0.6, 0.8, 1.0], \n",
    "                  'n_estimators': [400, 500, 600, 700], \n",
    "                  'learning_rate': [0.1, 0.01, 0.001],\n",
    "                  'max_depth': [3, 4, 5] }\n",
    "\n",
    "grid_xgb = GridSearchCV(XGBClassifier(objective='binary:logistic', \n",
    "                                      silent=True, nthread=-1, verbosity = 0, \n",
    "                                      use_label_encoder=False, n_jobs=-1),\n",
    "                        param_grid_xgb, refit=True, verbose=True)\n",
    "\n",
    "#le = LabelEncoder()\n",
    "#y_train = le.fit_transform(y_train)\n",
    "\n",
    "grid_xgb.fit(norm_X_train,y_train.astype(int))\n",
    "\n",
    "print('Melhores hiperparametros do modelo:', grid_xgb.best_params_)\n",
    "\n",
    "#################################\n",
    "\n",
    "# salvar o modelo no disco\n",
    "pickle.dump(grid_xgb, open(data_salvar_modelo+'_xgb.pkl', 'wb'))\n",
    "\n",
    "# carregar o modelo salvo em disco\n",
    "#loaded_model = pickle.load(open(data_salvar_modelo+'rf_com_cluster.pkl', 'rb'))\n",
    "#result = loaded_model.score(norm_X_teste_com_cluster, y_teste)\n",
    "#print(result)\n",
    "\n",
    "#################################\n",
    "\n",
    "# testar\n",
    "grid_xgb_predictions = grid_xgb.predict(norm_X_test)\n",
    "print('\\nAcuracia: ', accuracy_score(y_test.astype(int), grid_xgb_predictions))\n",
    "#print(confusion_matrix(y_teste,grid_xgb_predictions))\n",
    "print(classification_report(y_test.astype(int), grid_xgb_predictions))\n",
    "\n",
    "# matrix de confusao\n",
    "matrix = plot_confusion_matrix(grid_xgb, norm_X_test, y_test.astype(int), cmap=plt.cm.Blues)\n",
    "plt.title('Matriz de confusao')\n",
    "plt.show(matrix)\n",
    "plt.show()"
   ]
  },
  {
   "cell_type": "code",
   "execution_count": 22,
   "id": "9eaee5cb",
   "metadata": {},
   "outputs": [
    {
     "data": {
      "image/png": "[encoded data removed]",
      "text/plain": [
       "<Figure size 432x288 with 2 Axes>"
      ]
     },
     "metadata": {},
     "output_type": "display_data"
    }
   ],
   "source": [
    "# matrix de confusao\n",
    "matrix = plot_confusion_matrix(grid_xgb, norm_X_test, y_test.astype(int), cmap=plt.cm.Blues)\n",
    "plt.title('Matriz de confusao')\n",
    "plt.show(matrix)\n",
    "plt.show()"
   ]
  },
  {
   "cell_type": "code",
   "execution_count": null,
   "id": "51a6c60d",
   "metadata": {},
   "outputs": [],
   "source": [
    "# MLP Grid Search"
   ]
  },
  {
   "cell_type": "code",
   "execution_count": 31,
   "id": "ca4f7756",
   "metadata": {},
   "outputs": [],
   "source": [
    "from sklearn.neural_network import MLPClassifier"
   ]
  },
  {
   "cell_type": "code",
   "execution_count": 32,
   "id": "e45c9b53",
   "metadata": {},
   "outputs": [],
   "source": [
    "mlp = MLPClassifier(max_iter = 100)"
   ]
  },
  {
   "cell_type": "code",
   "execution_count": 33,
   "id": "bab0142e",
   "metadata": {},
   "outputs": [],
   "source": [
    "parameter_space = {\n",
    "    'hidden_layer_sizes': [(10,30,10),(20,)],\n",
    "    'activation': ['tanh', 'relu'],\n",
    "    'solver': ['sgd', 'adam'],\n",
    "    'alpha': [0.0001, 0.05],\n",
    "    'learning_rate': ['constant','adaptive'],\n",
    "}\n"
   ]
  },
  {
   "cell_type": "code",
   "execution_count": 34,
   "id": "ee1388ed",
   "metadata": {},
   "outputs": [],
   "source": [
    "clf = GridSearchCV(mlp, parameter_space, n_jobs=-1, cv=5)"
   ]
  },
  {
   "cell_type": "code",
   "execution_count": 35,
   "id": "b7c52e4d",
   "metadata": {},
   "outputs": [
    {
     "data": {
      "text/html": [
       "<style>#sk-container-id-1 {color: black;background-color: white;}#sk-container-id-1 pre{padding: 0;}#sk-container-id-1 div.sk-toggleable {background-color: white;}#sk-container-id-1 label.sk-toggleable__label {cursor: pointer;display: block;width: 100%;margin-bottom: 0;padding: 0.3em;box-sizing: border-box;text-align: center;}#sk-container-id-1 label.sk-toggleable__label-arrow:before {content: \"▸\";float: left;margin-right: 0.25em;color: #696969;}#sk-container-id-1 label.sk-toggleable__label-arrow:hover:before {color: black;}#sk-container-id-1 div.sk-estimator:hover label.sk-toggleable__label-arrow:before {color: black;}#sk-container-id-1 div.sk-toggleable__content {max-height: 0;max-width: 0;overflow: hidden;text-align: left;background-color: #f0f8ff;}#sk-container-id-1 div.sk-toggleable__content pre {margin: 0.2em;color: black;border-radius: 0.25em;background-color: #f0f8ff;}#sk-container-id-1 input.sk-toggleable__control:checked~div.sk-toggleable__content {max-height: 200px;max-width: 100%;overflow: auto;}#sk-container-id-1 input.sk-toggleable__control:checked~label.sk-toggleable__label-arrow:before {content: \"▾\";}#sk-container-id-1 div.sk-estimator input.sk-toggleable__control:checked~label.sk-toggleable__label {background-color: #d4ebff;}#sk-container-id-1 div.sk-label input.sk-toggleable__control:checked~label.sk-toggleable__label {background-color: #d4ebff;}#sk-container-id-1 input.sk-hidden--visually {border: 0;clip: rect(1px 1px 1px 1px);clip: rect(1px, 1px, 1px, 1px);height: 1px;margin: -1px;overflow: hidden;padding: 0;position: absolute;width: 1px;}#sk-container-id-1 div.sk-estimator {font-family: monospace;background-color: #f0f8ff;border: 1px dotted black;border-radius: 0.25em;box-sizing: border-box;margin-bottom: 0.5em;}#sk-container-id-1 div.sk-estimator:hover {background-color: #d4ebff;}#sk-container-id-1 div.sk-parallel-item::after {content: \"\";width: 100%;border-bottom: 1px solid gray;flex-grow: 1;}#sk-container-id-1 div.sk-label:hover label.sk-toggleable__label {background-color: #d4ebff;}#sk-container-id-1 div.sk-serial::before {content: \"\";position: absolute;border-left: 1px solid gray;box-sizing: border-box;top: 0;bottom: 0;left: 50%;z-index: 0;}#sk-container-id-1 div.sk-serial {display: flex;flex-direction: column;align-items: center;background-color: white;padding-right: 0.2em;padding-left: 0.2em;position: relative;}#sk-container-id-1 div.sk-item {position: relative;z-index: 1;}#sk-container-id-1 div.sk-parallel {display: flex;align-items: stretch;justify-content: center;background-color: white;position: relative;}#sk-container-id-1 div.sk-item::before, #sk-container-id-1 div.sk-parallel-item::before {content: \"\";position: absolute;border-left: 1px solid gray;box-sizing: border-box;top: 0;bottom: 0;left: 50%;z-index: -1;}#sk-container-id-1 div.sk-parallel-item {display: flex;flex-direction: column;z-index: 1;position: relative;background-color: white;}#sk-container-id-1 div.sk-parallel-item:first-child::after {align-self: flex-end;width: 50%;}#sk-container-id-1 div.sk-parallel-item:last-child::after {align-self: flex-start;width: 50%;}#sk-container-id-1 div.sk-parallel-item:only-child::after {width: 0;}#sk-container-id-1 div.sk-dashed-wrapped {border: 1px dashed gray;margin: 0 0.4em 0.5em 0.4em;box-sizing: border-box;padding-bottom: 0.4em;background-color: white;}#sk-container-id-1 div.sk-label label {font-family: monospace;font-weight: bold;display: inline-block;line-height: 1.2em;}#sk-container-id-1 div.sk-label-container {text-align: center;}#sk-container-id-1 div.sk-container {/* jupyter's `normalize.less` sets `[hidden] { display: none; }` but bootstrap.min.css set `[hidden] { display: none !important; }` so we also need the `!important` here to be able to override the default hidden behavior on the sphinx rendered scikit-learn.org. See: https://github.com/scikit-learn/scikit-learn/issues/21755 */display: inline-block !important;position: relative;}#sk-container-id-1 div.sk-text-repr-fallback {display: none;}</style><div id=\"sk-container-id-1\" class=\"sk-top-container\"><div class=\"sk-text-repr-fallback\"><pre>GridSearchCV(cv=5, estimator=MLPClassifier(max_iter=100), n_jobs=-1,\n",
       "             param_grid={&#x27;activation&#x27;: [&#x27;tanh&#x27;, &#x27;relu&#x27;],\n",
       "                         &#x27;alpha&#x27;: [0.0001, 0.05],\n",
       "                         &#x27;hidden_layer_sizes&#x27;: [(10, 30, 10), (20,)],\n",
       "                         &#x27;learning_rate&#x27;: [&#x27;constant&#x27;, &#x27;adaptive&#x27;],\n",
       "                         &#x27;solver&#x27;: [&#x27;sgd&#x27;, &#x27;adam&#x27;]})</pre><b>In a Jupyter environment, please rerun this cell to show the HTML representation or trust the notebook. <br />On GitHub, the HTML representation is unable to render, please try loading this page with nbviewer.org.</b></div><div class=\"sk-container\" hidden><div class=\"sk-item sk-dashed-wrapped\"><div class=\"sk-label-container\"><div class=\"sk-label sk-toggleable\"><input class=\"sk-toggleable__control sk-hidden--visually\" id=\"sk-estimator-id-1\" type=\"checkbox\" ><label for=\"sk-estimator-id-1\" class=\"sk-toggleable__label sk-toggleable__label-arrow\">GridSearchCV</label><div class=\"sk-toggleable__content\"><pre>GridSearchCV(cv=5, estimator=MLPClassifier(max_iter=100), n_jobs=-1,\n",
       "             param_grid={&#x27;activation&#x27;: [&#x27;tanh&#x27;, &#x27;relu&#x27;],\n",
       "                         &#x27;alpha&#x27;: [0.0001, 0.05],\n",
       "                         &#x27;hidden_layer_sizes&#x27;: [(10, 30, 10), (20,)],\n",
       "                         &#x27;learning_rate&#x27;: [&#x27;constant&#x27;, &#x27;adaptive&#x27;],\n",
       "                         &#x27;solver&#x27;: [&#x27;sgd&#x27;, &#x27;adam&#x27;]})</pre></div></div></div><div class=\"sk-parallel\"><div class=\"sk-parallel-item\"><div class=\"sk-item\"><div class=\"sk-label-container\"><div class=\"sk-label sk-toggleable\"><input class=\"sk-toggleable__control sk-hidden--visually\" id=\"sk-estimator-id-2\" type=\"checkbox\" ><label for=\"sk-estimator-id-2\" class=\"sk-toggleable__label sk-toggleable__label-arrow\">estimator: MLPClassifier</label><div class=\"sk-toggleable__content\"><pre>MLPClassifier(max_iter=100)</pre></div></div></div><div class=\"sk-serial\"><div class=\"sk-item\"><div class=\"sk-estimator sk-toggleable\"><input class=\"sk-toggleable__control sk-hidden--visually\" id=\"sk-estimator-id-3\" type=\"checkbox\" ><label for=\"sk-estimator-id-3\" class=\"sk-toggleable__label sk-toggleable__label-arrow\">MLPClassifier</label><div class=\"sk-toggleable__content\"><pre>MLPClassifier(max_iter=100)</pre></div></div></div></div></div></div></div></div></div></div>"
      ],
      "text/plain": [
       "GridSearchCV(cv=5, estimator=MLPClassifier(max_iter=100), n_jobs=-1,\n",
       "             param_grid={'activation': ['tanh', 'relu'],\n",
       "                         'alpha': [0.0001, 0.05],\n",
       "                         'hidden_layer_sizes': [(10, 30, 10), (20,)],\n",
       "                         'learning_rate': ['constant', 'adaptive'],\n",
       "                         'solver': ['sgd', 'adam']})"
      ]
     },
     "execution_count": 35,
     "metadata": {},
     "output_type": "execute_result"
    }
   ],
   "source": [
    "clf.fit(norm_X_train, y_train) "
   ]
  },
  {
   "cell_type": "code",
   "execution_count": 36,
   "id": "f611e5ee",
   "metadata": {},
   "outputs": [
    {
     "name": "stdout",
     "output_type": "stream",
     "text": [
      "Best parameters found:\n",
      " {'activation': 'tanh', 'alpha': 0.05, 'hidden_layer_sizes': (10, 30, 10), 'learning_rate': 'adaptive', 'solver': 'adam'}\n"
     ]
    }
   ],
   "source": [
    "print('Best parameters found:\\n', clf.best_params_)"
   ]
  },
  {
   "cell_type": "code",
   "execution_count": 37,
   "id": "925ba399",
   "metadata": {},
   "outputs": [
    {
     "name": "stdout",
     "output_type": "stream",
     "text": [
      "0.530 (+/-0.060) for {'activation': 'tanh', 'alpha': 0.0001, 'hidden_layer_sizes': (10, 30, 10), 'learning_rate': 'constant', 'solver': 'sgd'}\n",
      "0.542 (+/-0.093) for {'activation': 'tanh', 'alpha': 0.0001, 'hidden_layer_sizes': (10, 30, 10), 'learning_rate': 'constant', 'solver': 'adam'}\n",
      "0.485 (+/-0.109) for {'activation': 'tanh', 'alpha': 0.0001, 'hidden_layer_sizes': (10, 30, 10), 'learning_rate': 'adaptive', 'solver': 'sgd'}\n",
      "0.599 (+/-0.078) for {'activation': 'tanh', 'alpha': 0.0001, 'hidden_layer_sizes': (10, 30, 10), 'learning_rate': 'adaptive', 'solver': 'adam'}\n",
      "0.531 (+/-0.072) for {'activation': 'tanh', 'alpha': 0.0001, 'hidden_layer_sizes': (20,), 'learning_rate': 'constant', 'solver': 'sgd'}\n",
      "0.581 (+/-0.038) for {'activation': 'tanh', 'alpha': 0.0001, 'hidden_layer_sizes': (20,), 'learning_rate': 'constant', 'solver': 'adam'}\n",
      "0.549 (+/-0.046) for {'activation': 'tanh', 'alpha': 0.0001, 'hidden_layer_sizes': (20,), 'learning_rate': 'adaptive', 'solver': 'sgd'}\n",
      "0.563 (+/-0.097) for {'activation': 'tanh', 'alpha': 0.0001, 'hidden_layer_sizes': (20,), 'learning_rate': 'adaptive', 'solver': 'adam'}\n",
      "0.528 (+/-0.095) for {'activation': 'tanh', 'alpha': 0.05, 'hidden_layer_sizes': (10, 30, 10), 'learning_rate': 'constant', 'solver': 'sgd'}\n",
      "0.581 (+/-0.038) for {'activation': 'tanh', 'alpha': 0.05, 'hidden_layer_sizes': (10, 30, 10), 'learning_rate': 'constant', 'solver': 'adam'}\n",
      "0.526 (+/-0.085) for {'activation': 'tanh', 'alpha': 0.05, 'hidden_layer_sizes': (10, 30, 10), 'learning_rate': 'adaptive', 'solver': 'sgd'}\n",
      "0.610 (+/-0.055) for {'activation': 'tanh', 'alpha': 0.05, 'hidden_layer_sizes': (10, 30, 10), 'learning_rate': 'adaptive', 'solver': 'adam'}\n",
      "0.528 (+/-0.120) for {'activation': 'tanh', 'alpha': 0.05, 'hidden_layer_sizes': (20,), 'learning_rate': 'constant', 'solver': 'sgd'}\n",
      "0.573 (+/-0.084) for {'activation': 'tanh', 'alpha': 0.05, 'hidden_layer_sizes': (20,), 'learning_rate': 'constant', 'solver': 'adam'}\n",
      "0.559 (+/-0.077) for {'activation': 'tanh', 'alpha': 0.05, 'hidden_layer_sizes': (20,), 'learning_rate': 'adaptive', 'solver': 'sgd'}\n",
      "0.593 (+/-0.055) for {'activation': 'tanh', 'alpha': 0.05, 'hidden_layer_sizes': (20,), 'learning_rate': 'adaptive', 'solver': 'adam'}\n",
      "0.374 (+/-0.099) for {'activation': 'relu', 'alpha': 0.0001, 'hidden_layer_sizes': (10, 30, 10), 'learning_rate': 'constant', 'solver': 'sgd'}\n",
      "0.568 (+/-0.093) for {'activation': 'relu', 'alpha': 0.0001, 'hidden_layer_sizes': (10, 30, 10), 'learning_rate': 'constant', 'solver': 'adam'}\n",
      "0.351 (+/-0.064) for {'activation': 'relu', 'alpha': 0.0001, 'hidden_layer_sizes': (10, 30, 10), 'learning_rate': 'adaptive', 'solver': 'sgd'}\n",
      "0.533 (+/-0.208) for {'activation': 'relu', 'alpha': 0.0001, 'hidden_layer_sizes': (10, 30, 10), 'learning_rate': 'adaptive', 'solver': 'adam'}\n",
      "0.339 (+/-0.043) for {'activation': 'relu', 'alpha': 0.0001, 'hidden_layer_sizes': (20,), 'learning_rate': 'constant', 'solver': 'sgd'}\n",
      "0.557 (+/-0.046) for {'activation': 'relu', 'alpha': 0.0001, 'hidden_layer_sizes': (20,), 'learning_rate': 'constant', 'solver': 'adam'}\n",
      "0.361 (+/-0.076) for {'activation': 'relu', 'alpha': 0.0001, 'hidden_layer_sizes': (20,), 'learning_rate': 'adaptive', 'solver': 'sgd'}\n",
      "0.569 (+/-0.077) for {'activation': 'relu', 'alpha': 0.0001, 'hidden_layer_sizes': (20,), 'learning_rate': 'adaptive', 'solver': 'adam'}\n",
      "0.353 (+/-0.063) for {'activation': 'relu', 'alpha': 0.05, 'hidden_layer_sizes': (10, 30, 10), 'learning_rate': 'constant', 'solver': 'sgd'}\n",
      "0.504 (+/-0.134) for {'activation': 'relu', 'alpha': 0.05, 'hidden_layer_sizes': (10, 30, 10), 'learning_rate': 'constant', 'solver': 'adam'}\n",
      "0.404 (+/-0.145) for {'activation': 'relu', 'alpha': 0.05, 'hidden_layer_sizes': (10, 30, 10), 'learning_rate': 'adaptive', 'solver': 'sgd'}\n",
      "0.550 (+/-0.091) for {'activation': 'relu', 'alpha': 0.05, 'hidden_layer_sizes': (10, 30, 10), 'learning_rate': 'adaptive', 'solver': 'adam'}\n",
      "0.353 (+/-0.067) for {'activation': 'relu', 'alpha': 0.05, 'hidden_layer_sizes': (20,), 'learning_rate': 'constant', 'solver': 'sgd'}\n",
      "0.493 (+/-0.122) for {'activation': 'relu', 'alpha': 0.05, 'hidden_layer_sizes': (20,), 'learning_rate': 'constant', 'solver': 'adam'}\n",
      "0.394 (+/-0.167) for {'activation': 'relu', 'alpha': 0.05, 'hidden_layer_sizes': (20,), 'learning_rate': 'adaptive', 'solver': 'sgd'}\n",
      "0.551 (+/-0.069) for {'activation': 'relu', 'alpha': 0.05, 'hidden_layer_sizes': (20,), 'learning_rate': 'adaptive', 'solver': 'adam'}\n"
     ]
    }
   ],
   "source": [
    "means = clf.cv_results_['mean_test_score']\n",
    "stds = clf.cv_results_['std_test_score']\n",
    "for mean, std, params in zip(means, stds, clf.cv_results_['params']):\n",
    "    print(\"%0.3f (+/-%0.03f) for %r\" % (mean, std * 2, params))"
   ]
  },
  {
   "cell_type": "code",
   "execution_count": 39,
   "id": "5c700a63",
   "metadata": {},
   "outputs": [
    {
     "name": "stdout",
     "output_type": "stream",
     "text": [
      "Results on the test set:\n",
      "              precision    recall  f1-score   support\n",
      "\n",
      "           0       0.94      0.51      0.66      1380\n",
      "           1       0.13      0.68      0.22       108\n",
      "           2       0.12      0.57      0.19        44\n",
      "\n",
      "    accuracy                           0.52      1532\n",
      "   macro avg       0.40      0.58      0.36      1532\n",
      "weighted avg       0.86      0.52      0.62      1532\n",
      "\n"
     ]
    }
   ],
   "source": [
    "y_true, y_pred = y_test , clf.predict(norm_X_test)\n",
    "print('Results on the test set:')\n",
    "print(classification_report(y_true, y_pred))"
   ]
  },
  {
   "cell_type": "code",
   "execution_count": null,
   "id": "fb8d92ef",
   "metadata": {},
   "outputs": [],
   "source": [
    "print(clf.)"
   ]
  },
  {
   "cell_type": "code",
   "execution_count": null,
   "id": "a3881180",
   "metadata": {},
   "outputs": [],
   "source": []
  }
 ],
 "metadata": {
  "kernelspec": {
   "display_name": "Python 3 (ipykernel)",
   "language": "python",
   "name": "python3"
  },
  "language_info": {
   "codemirror_mode": {
    "name": "ipython",
    "version": 3
   },
   "file_extension": ".py",
   "mimetype": "text/x-python",
   "name": "python",
   "nbconvert_exporter": "python",
   "pygments_lexer": "ipython3",
   "version": "3.8.13"
  }
 },
 "nbformat": 4,
 "nbformat_minor": 5
}
